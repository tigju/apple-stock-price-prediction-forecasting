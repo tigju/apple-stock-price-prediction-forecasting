{
 "cells": [
  {
   "cell_type": "markdown",
   "metadata": {},
   "source": [
    "# Apple Stock Price Prediction and Forecasting using LSTM Neural Network"
   ]
  },
  {
   "cell_type": "code",
   "execution_count": 80,
   "metadata": {},
   "outputs": [
    {
     "data": {
      "text/plain": [
       "'2.1.0'"
      ]
     },
     "execution_count": 80,
     "metadata": {},
     "output_type": "execute_result"
    }
   ],
   "source": [
    "import tensorflow as tf\n",
    "tf.__version__"
   ]
  },
  {
   "cell_type": "markdown",
   "metadata": {},
   "source": [
    "### Data collection"
   ]
  },
  {
   "cell_type": "code",
   "execution_count": 10,
   "metadata": {},
   "outputs": [],
   "source": [
    "import pandas_datareader as pdr\n",
    "import os"
   ]
  },
  {
   "cell_type": "code",
   "execution_count": 24,
   "metadata": {},
   "outputs": [],
   "source": [
    "%reload_ext dotenv\n",
    "%dotenv"
   ]
  },
  {
   "cell_type": "code",
   "execution_count": 26,
   "metadata": {},
   "outputs": [],
   "source": [
    "df = pdr.get_data_tiingo('AAPL', api_key=os.getenv('TIINGO_API_KEY'))"
   ]
  },
  {
   "cell_type": "code",
   "execution_count": 27,
   "metadata": {},
   "outputs": [],
   "source": [
    "df.to_csv(\"aapl.csv\")"
   ]
  },
  {
   "cell_type": "code",
   "execution_count": 20,
   "metadata": {},
   "outputs": [],
   "source": [
    "import pandas as pd"
   ]
  },
  {
   "cell_type": "code",
   "execution_count": 28,
   "metadata": {},
   "outputs": [],
   "source": [
    "aapl = pd.read_csv(\"aapl.csv\")"
   ]
  },
  {
   "cell_type": "code",
   "execution_count": 29,
   "metadata": {},
   "outputs": [
    {
     "data": {
      "text/html": [
       "<div>\n",
       "<style scoped>\n",
       "    .dataframe tbody tr th:only-of-type {\n",
       "        vertical-align: middle;\n",
       "    }\n",
       "\n",
       "    .dataframe tbody tr th {\n",
       "        vertical-align: top;\n",
       "    }\n",
       "\n",
       "    .dataframe thead th {\n",
       "        text-align: right;\n",
       "    }\n",
       "</style>\n",
       "<table border=\"1\" class=\"dataframe\">\n",
       "  <thead>\n",
       "    <tr style=\"text-align: right;\">\n",
       "      <th></th>\n",
       "      <th>symbol</th>\n",
       "      <th>date</th>\n",
       "      <th>close</th>\n",
       "      <th>high</th>\n",
       "      <th>low</th>\n",
       "      <th>open</th>\n",
       "      <th>volume</th>\n",
       "      <th>adjClose</th>\n",
       "      <th>adjHigh</th>\n",
       "      <th>adjLow</th>\n",
       "      <th>adjOpen</th>\n",
       "      <th>adjVolume</th>\n",
       "      <th>divCash</th>\n",
       "      <th>splitFactor</th>\n",
       "    </tr>\n",
       "  </thead>\n",
       "  <tbody>\n",
       "    <tr>\n",
       "      <th>0</th>\n",
       "      <td>AAPL</td>\n",
       "      <td>2016-01-11 00:00:00+00:00</td>\n",
       "      <td>98.53</td>\n",
       "      <td>99.06</td>\n",
       "      <td>97.3400</td>\n",
       "      <td>98.97</td>\n",
       "      <td>49739377</td>\n",
       "      <td>22.818423</td>\n",
       "      <td>22.941165</td>\n",
       "      <td>22.542833</td>\n",
       "      <td>22.920322</td>\n",
       "      <td>198957508</td>\n",
       "      <td>0.0</td>\n",
       "      <td>1.0</td>\n",
       "    </tr>\n",
       "    <tr>\n",
       "      <th>1</th>\n",
       "      <td>AAPL</td>\n",
       "      <td>2016-01-12 00:00:00+00:00</td>\n",
       "      <td>99.96</td>\n",
       "      <td>100.69</td>\n",
       "      <td>98.8399</td>\n",
       "      <td>100.55</td>\n",
       "      <td>49154227</td>\n",
       "      <td>23.149595</td>\n",
       "      <td>23.318654</td>\n",
       "      <td>22.890192</td>\n",
       "      <td>23.286232</td>\n",
       "      <td>196616908</td>\n",
       "      <td>0.0</td>\n",
       "      <td>1.0</td>\n",
       "    </tr>\n",
       "    <tr>\n",
       "      <th>2</th>\n",
       "      <td>AAPL</td>\n",
       "      <td>2016-01-13 00:00:00+00:00</td>\n",
       "      <td>97.39</td>\n",
       "      <td>101.19</td>\n",
       "      <td>97.3000</td>\n",
       "      <td>100.32</td>\n",
       "      <td>62439631</td>\n",
       "      <td>22.554412</td>\n",
       "      <td>23.434449</td>\n",
       "      <td>22.533569</td>\n",
       "      <td>23.232967</td>\n",
       "      <td>249758524</td>\n",
       "      <td>0.0</td>\n",
       "      <td>1.0</td>\n",
       "    </tr>\n",
       "    <tr>\n",
       "      <th>3</th>\n",
       "      <td>AAPL</td>\n",
       "      <td>2016-01-14 00:00:00+00:00</td>\n",
       "      <td>99.52</td>\n",
       "      <td>100.48</td>\n",
       "      <td>95.7400</td>\n",
       "      <td>97.96</td>\n",
       "      <td>63170127</td>\n",
       "      <td>23.047696</td>\n",
       "      <td>23.270021</td>\n",
       "      <td>22.172291</td>\n",
       "      <td>22.686417</td>\n",
       "      <td>252680508</td>\n",
       "      <td>0.0</td>\n",
       "      <td>1.0</td>\n",
       "    </tr>\n",
       "    <tr>\n",
       "      <th>4</th>\n",
       "      <td>AAPL</td>\n",
       "      <td>2016-01-15 00:00:00+00:00</td>\n",
       "      <td>97.13</td>\n",
       "      <td>97.71</td>\n",
       "      <td>95.3600</td>\n",
       "      <td>96.20</td>\n",
       "      <td>79833891</td>\n",
       "      <td>22.494199</td>\n",
       "      <td>22.628520</td>\n",
       "      <td>22.084287</td>\n",
       "      <td>22.278822</td>\n",
       "      <td>319335564</td>\n",
       "      <td>0.0</td>\n",
       "      <td>1.0</td>\n",
       "    </tr>\n",
       "  </tbody>\n",
       "</table>\n",
       "</div>"
      ],
      "text/plain": [
       "  symbol                       date  close    high      low    open    volume  \\\n",
       "0   AAPL  2016-01-11 00:00:00+00:00  98.53   99.06  97.3400   98.97  49739377   \n",
       "1   AAPL  2016-01-12 00:00:00+00:00  99.96  100.69  98.8399  100.55  49154227   \n",
       "2   AAPL  2016-01-13 00:00:00+00:00  97.39  101.19  97.3000  100.32  62439631   \n",
       "3   AAPL  2016-01-14 00:00:00+00:00  99.52  100.48  95.7400   97.96  63170127   \n",
       "4   AAPL  2016-01-15 00:00:00+00:00  97.13   97.71  95.3600   96.20  79833891   \n",
       "\n",
       "    adjClose    adjHigh     adjLow    adjOpen  adjVolume  divCash  splitFactor  \n",
       "0  22.818423  22.941165  22.542833  22.920322  198957508      0.0          1.0  \n",
       "1  23.149595  23.318654  22.890192  23.286232  196616908      0.0          1.0  \n",
       "2  22.554412  23.434449  22.533569  23.232967  249758524      0.0          1.0  \n",
       "3  23.047696  23.270021  22.172291  22.686417  252680508      0.0          1.0  \n",
       "4  22.494199  22.628520  22.084287  22.278822  319335564      0.0          1.0  "
      ]
     },
     "execution_count": 29,
     "metadata": {},
     "output_type": "execute_result"
    }
   ],
   "source": [
    "aapl.head()"
   ]
  },
  {
   "cell_type": "code",
   "execution_count": 33,
   "metadata": {},
   "outputs": [
    {
     "data": {
      "text/html": [
       "<div>\n",
       "<style scoped>\n",
       "    .dataframe tbody tr th:only-of-type {\n",
       "        vertical-align: middle;\n",
       "    }\n",
       "\n",
       "    .dataframe tbody tr th {\n",
       "        vertical-align: top;\n",
       "    }\n",
       "\n",
       "    .dataframe thead th {\n",
       "        text-align: right;\n",
       "    }\n",
       "</style>\n",
       "<table border=\"1\" class=\"dataframe\">\n",
       "  <thead>\n",
       "    <tr style=\"text-align: right;\">\n",
       "      <th></th>\n",
       "      <th>symbol</th>\n",
       "      <th>date</th>\n",
       "      <th>close</th>\n",
       "      <th>high</th>\n",
       "      <th>low</th>\n",
       "      <th>open</th>\n",
       "      <th>volume</th>\n",
       "      <th>adjClose</th>\n",
       "      <th>adjHigh</th>\n",
       "      <th>adjLow</th>\n",
       "      <th>adjOpen</th>\n",
       "      <th>adjVolume</th>\n",
       "      <th>divCash</th>\n",
       "      <th>splitFactor</th>\n",
       "    </tr>\n",
       "  </thead>\n",
       "  <tbody>\n",
       "    <tr>\n",
       "      <th>1254</th>\n",
       "      <td>AAPL</td>\n",
       "      <td>2021-01-04 00:00:00+00:00</td>\n",
       "      <td>129.41</td>\n",
       "      <td>133.6116</td>\n",
       "      <td>126.760</td>\n",
       "      <td>133.52</td>\n",
       "      <td>143301887</td>\n",
       "      <td>129.41</td>\n",
       "      <td>133.6116</td>\n",
       "      <td>126.760</td>\n",
       "      <td>133.52</td>\n",
       "      <td>143301887</td>\n",
       "      <td>0.0</td>\n",
       "      <td>1.0</td>\n",
       "    </tr>\n",
       "    <tr>\n",
       "      <th>1255</th>\n",
       "      <td>AAPL</td>\n",
       "      <td>2021-01-05 00:00:00+00:00</td>\n",
       "      <td>131.01</td>\n",
       "      <td>131.7400</td>\n",
       "      <td>128.430</td>\n",
       "      <td>128.89</td>\n",
       "      <td>97664898</td>\n",
       "      <td>131.01</td>\n",
       "      <td>131.7400</td>\n",
       "      <td>128.430</td>\n",
       "      <td>128.89</td>\n",
       "      <td>97664898</td>\n",
       "      <td>0.0</td>\n",
       "      <td>1.0</td>\n",
       "    </tr>\n",
       "    <tr>\n",
       "      <th>1256</th>\n",
       "      <td>AAPL</td>\n",
       "      <td>2021-01-06 00:00:00+00:00</td>\n",
       "      <td>126.60</td>\n",
       "      <td>131.0499</td>\n",
       "      <td>126.382</td>\n",
       "      <td>127.72</td>\n",
       "      <td>155087970</td>\n",
       "      <td>126.60</td>\n",
       "      <td>131.0499</td>\n",
       "      <td>126.382</td>\n",
       "      <td>127.72</td>\n",
       "      <td>155087970</td>\n",
       "      <td>0.0</td>\n",
       "      <td>1.0</td>\n",
       "    </tr>\n",
       "    <tr>\n",
       "      <th>1257</th>\n",
       "      <td>AAPL</td>\n",
       "      <td>2021-01-07 00:00:00+00:00</td>\n",
       "      <td>130.92</td>\n",
       "      <td>131.6300</td>\n",
       "      <td>127.860</td>\n",
       "      <td>128.36</td>\n",
       "      <td>109578157</td>\n",
       "      <td>130.92</td>\n",
       "      <td>131.6300</td>\n",
       "      <td>127.860</td>\n",
       "      <td>128.36</td>\n",
       "      <td>109578157</td>\n",
       "      <td>0.0</td>\n",
       "      <td>1.0</td>\n",
       "    </tr>\n",
       "    <tr>\n",
       "      <th>1258</th>\n",
       "      <td>AAPL</td>\n",
       "      <td>2021-01-08 00:00:00+00:00</td>\n",
       "      <td>132.05</td>\n",
       "      <td>132.6300</td>\n",
       "      <td>130.230</td>\n",
       "      <td>132.43</td>\n",
       "      <td>105158245</td>\n",
       "      <td>132.05</td>\n",
       "      <td>132.6300</td>\n",
       "      <td>130.230</td>\n",
       "      <td>132.43</td>\n",
       "      <td>105158245</td>\n",
       "      <td>0.0</td>\n",
       "      <td>1.0</td>\n",
       "    </tr>\n",
       "  </tbody>\n",
       "</table>\n",
       "</div>"
      ],
      "text/plain": [
       "     symbol                       date   close      high      low    open  \\\n",
       "1254   AAPL  2021-01-04 00:00:00+00:00  129.41  133.6116  126.760  133.52   \n",
       "1255   AAPL  2021-01-05 00:00:00+00:00  131.01  131.7400  128.430  128.89   \n",
       "1256   AAPL  2021-01-06 00:00:00+00:00  126.60  131.0499  126.382  127.72   \n",
       "1257   AAPL  2021-01-07 00:00:00+00:00  130.92  131.6300  127.860  128.36   \n",
       "1258   AAPL  2021-01-08 00:00:00+00:00  132.05  132.6300  130.230  132.43   \n",
       "\n",
       "         volume  adjClose   adjHigh   adjLow  adjOpen  adjVolume  divCash  \\\n",
       "1254  143301887    129.41  133.6116  126.760   133.52  143301887      0.0   \n",
       "1255   97664898    131.01  131.7400  128.430   128.89   97664898      0.0   \n",
       "1256  155087970    126.60  131.0499  126.382   127.72  155087970      0.0   \n",
       "1257  109578157    130.92  131.6300  127.860   128.36  109578157      0.0   \n",
       "1258  105158245    132.05  132.6300  130.230   132.43  105158245      0.0   \n",
       "\n",
       "      splitFactor  \n",
       "1254          1.0  \n",
       "1255          1.0  \n",
       "1256          1.0  \n",
       "1257          1.0  \n",
       "1258          1.0  "
      ]
     },
     "execution_count": 33,
     "metadata": {},
     "output_type": "execute_result"
    }
   ],
   "source": [
    "aapl.tail()"
   ]
  },
  {
   "cell_type": "code",
   "execution_count": 91,
   "metadata": {},
   "outputs": [
    {
     "data": {
      "text/plain": [
       "count    1259.000000\n",
       "mean      182.673928\n",
       "std        75.620351\n",
       "min        90.340000\n",
       "25%       120.040000\n",
       "50%       170.410000\n",
       "75%       209.435000\n",
       "max       506.090000\n",
       "Name: close, dtype: float64"
      ]
     },
     "execution_count": 91,
     "metadata": {},
     "output_type": "execute_result"
    }
   ],
   "source": [
    "aapl[\"close\"].describe()"
   ]
  },
  {
   "cell_type": "code",
   "execution_count": 36,
   "metadata": {},
   "outputs": [],
   "source": [
    "df = aapl[\"close\"]"
   ]
  },
  {
   "cell_type": "code",
   "execution_count": 37,
   "metadata": {},
   "outputs": [
    {
     "data": {
      "text/plain": [
       "(1259,)"
      ]
     },
     "execution_count": 37,
     "metadata": {},
     "output_type": "execute_result"
    }
   ],
   "source": [
    "df.shape"
   ]
  },
  {
   "cell_type": "code",
   "execution_count": 38,
   "metadata": {},
   "outputs": [
    {
     "data": {
      "text/plain": [
       "[<matplotlib.lines.Line2D at 0x29be5442108>]"
      ]
     },
     "execution_count": 38,
     "metadata": {},
     "output_type": "execute_result"
    },
    {
     "data": {
      "image/png": "[encoded data removed]",
      "text/plain": [
       "<Figure size 432x288 with 1 Axes>"
      ]
     },
     "metadata": {
      "needs_background": "light"
     },
     "output_type": "display_data"
    }
   ],
   "source": [
    "import matplotlib.pyplot as plt\n",
    "\n",
    "plt.plot(df)"
   ]
  },
  {
   "cell_type": "markdown",
   "metadata": {},
   "source": [
    "### Data Preprocessing"
   ]
  },
  {
   "cell_type": "markdown",
   "metadata": {},
   "source": [
    "#### LSTM are sensitive to the scale of the data. We will apply MinMax Scaler"
   ]
  },
  {
   "cell_type": "code",
   "execution_count": 40,
   "metadata": {},
   "outputs": [],
   "source": [
    "import numpy as np"
   ]
  },
  {
   "cell_type": "code",
   "execution_count": 43,
   "metadata": {},
   "outputs": [],
   "source": [
    "from sklearn.preprocessing import MinMaxScaler\n",
    "\n",
    "scaler = MinMaxScaler(feature_range=(0,1))\n",
    "df = scaler.fit_transform(np.array(df).reshape(-1,1))"
   ]
  },
  {
   "cell_type": "code",
   "execution_count": 44,
   "metadata": {},
   "outputs": [
    {
     "data": {
      "text/plain": [
       "array([[0.01969934],\n",
       "       [0.02313891],\n",
       "       [0.01695731],\n",
       "       ...,\n",
       "       [0.08721587],\n",
       "       [0.09760673],\n",
       "       [0.10032471]])"
      ]
     },
     "execution_count": 44,
     "metadata": {},
     "output_type": "execute_result"
    }
   ],
   "source": [
    "df"
   ]
  },
  {
   "cell_type": "markdown",
   "metadata": {},
   "source": [
    "#### For timeseries data train test split performed by date (because tomorrow's day can be dependent on today's day, and today's day is dependent on yesterday's day)"
   ]
  },
  {
   "cell_type": "code",
   "execution_count": 52,
   "metadata": {},
   "outputs": [],
   "source": [
    "training_size = int(len(df)*0.7)\n",
    "test_size = len(df) - training_size\n",
    "train, test = df[0:training_size,:], df[training_size:len(df), :1]"
   ]
  },
  {
   "cell_type": "code",
   "execution_count": 95,
   "metadata": {},
   "outputs": [
    {
     "data": {
      "text/plain": [
       "((881, 1), (378, 1))"
      ]
     },
     "execution_count": 95,
     "metadata": {},
     "output_type": "execute_result"
    }
   ],
   "source": [
    "train.shape, test.shape"
   ]
  },
  {
   "cell_type": "code",
   "execution_count": 69,
   "metadata": {},
   "outputs": [],
   "source": [
    "# convert array of values into dataset matrix\n",
    "\n",
    "def create_dataset(dataset, time_step=1):\n",
    "    dataX, dataY = [], []\n",
    "    for i in range(len(dataset)-time_step-1):\n",
    "        a = dataset[i:(i+time_step), 0]\n",
    "        dataX.append(a)\n",
    "        dataY.append(dataset[i+time_step, 0])\n",
    "    return np.array(dataX), np.array(dataY)\n",
    "    "
   ]
  },
  {
   "cell_type": "code",
   "execution_count": 70,
   "metadata": {},
   "outputs": [],
   "source": [
    "time_step = 100\n",
    "X_train, y_train = create_dataset(train, time_step)\n",
    "X_test, y_test = create_dataset(test, time_step)"
   ]
  },
  {
   "cell_type": "code",
   "execution_count": 71,
   "metadata": {},
   "outputs": [
    {
     "data": {
      "text/plain": [
       "((780, 100), (277, 100))"
      ]
     },
     "execution_count": 71,
     "metadata": {},
     "output_type": "execute_result"
    }
   ],
   "source": [
    "X_train.shape, X_test.shape"
   ]
  },
  {
   "cell_type": "markdown",
   "metadata": {},
   "source": [
    "### Create LSTM model"
   ]
  },
  {
   "cell_type": "markdown",
   "metadata": {},
   "source": [
    "#### Reshape data in 3 dimentions for LSTM (requirement) [samples, time_step, features]"
   ]
  },
  {
   "cell_type": "code",
   "execution_count": 77,
   "metadata": {},
   "outputs": [],
   "source": [
    "X_train = X_train.reshape(X_train.shape[0], X_train.shape[1], 1)\n",
    "X_test = X_test.reshape(X_test.shape[0], X_test.shape[1], 1)"
   ]
  },
  {
   "cell_type": "code",
   "execution_count": 82,
   "metadata": {},
   "outputs": [],
   "source": [
    "### Create LSTM model\n",
    "from tensorflow.keras.models import Sequential\n",
    "from tensorflow.keras.layers import Dense\n",
    "from tensorflow.keras.layers import LSTM"
   ]
  },
  {
   "cell_type": "code",
   "execution_count": 83,
   "metadata": {},
   "outputs": [],
   "source": [
    "# create stacked LSTM model\n",
    "model = Sequential()\n",
    "model.add(LSTM(50, return_sequences=True, input_shape=(100,1)))\n",
    "model.add(LSTM(50, return_sequences=True))\n",
    "model.add(LSTM(50))\n",
    "model.add(Dense(1))\n",
    "model.compile(loss=\"mean_squared_error\", optimizer=\"adam\")"
   ]
  },
  {
   "cell_type": "code",
   "execution_count": 84,
   "metadata": {},
   "outputs": [
    {
     "name": "stdout",
     "output_type": "stream",
     "text": [
      "Model: \"sequential\"\n",
      "_________________________________________________________________\n",
      "Layer (type)                 Output Shape              Param #   \n",
      "=================================================================\n",
      "lstm (LSTM)                  (None, 100, 50)           10400     \n",
      "_________________________________________________________________\n",
      "lstm_1 (LSTM)                (None, 100, 50)           20200     \n",
      "_________________________________________________________________\n",
      "lstm_2 (LSTM)                (None, 50)                20200     \n",
      "_________________________________________________________________\n",
      "dense (Dense)                (None, 1)                 51        \n",
      "=================================================================\n",
      "Total params: 50,851\n",
      "Trainable params: 50,851\n",
      "Non-trainable params: 0\n",
      "_________________________________________________________________\n"
     ]
    }
   ],
   "source": [
    "model.summary()"
   ]
  },
  {
   "cell_type": "code",
   "execution_count": 85,
   "metadata": {},
   "outputs": [
    {
     "name": "stdout",
     "output_type": "stream",
     "text": [
      "Train on 780 samples, validate on 277 samples\n",
      "Epoch 1/100\n",
      "780/780 [==============================] - 14s 17ms/sample - loss: 0.0087 - val_loss: 0.0704\n",
      "Epoch 2/100\n",
      "780/780 [==============================] - 0s 632us/sample - loss: 0.0022 - val_loss: 0.0319\n",
      "Epoch 3/100\n",
      "780/780 [==============================] - 0s 617us/sample - loss: 7.9570e-04 - val_loss: 0.0279\n",
      "Epoch 4/100\n",
      "780/780 [==============================] - 0s 576us/sample - loss: 5.4336e-04 - val_loss: 0.0264\n",
      "Epoch 5/100\n",
      "780/780 [==============================] - 0s 628us/sample - loss: 4.5346e-04 - val_loss: 0.0251\n",
      "Epoch 6/100\n",
      "780/780 [==============================] - 0s 623us/sample - loss: 4.1153e-04 - val_loss: 0.0245\n",
      "Epoch 7/100\n",
      "780/780 [==============================] - 0s 577us/sample - loss: 3.9121e-04 - val_loss: 0.0237\n",
      "Epoch 8/100\n",
      "780/780 [==============================] - 0s 606us/sample - loss: 3.8551e-04 - val_loss: 0.0229\n",
      "Epoch 9/100\n",
      "780/780 [==============================] - 0s 630us/sample - loss: 3.7538e-04 - val_loss: 0.0221\n",
      "Epoch 10/100\n",
      "780/780 [==============================] - 0s 590us/sample - loss: 3.5858e-04 - val_loss: 0.0217\n",
      "Epoch 11/100\n",
      "780/780 [==============================] - 1s 685us/sample - loss: 3.3994e-04 - val_loss: 0.0205\n",
      "Epoch 12/100\n",
      "780/780 [==============================] - 0s 626us/sample - loss: 3.0574e-04 - val_loss: 0.0196\n",
      "Epoch 13/100\n",
      "780/780 [==============================] - 0s 621us/sample - loss: 2.8348e-04 - val_loss: 0.0189\n",
      "Epoch 14/100\n",
      "780/780 [==============================] - 0s 610us/sample - loss: 3.0800e-04 - val_loss: 0.0182\n",
      "Epoch 15/100\n",
      "780/780 [==============================] - 0s 605us/sample - loss: 2.5729e-04 - val_loss: 0.0186\n",
      "Epoch 16/100\n",
      "780/780 [==============================] - 1s 645us/sample - loss: 2.4937e-04 - val_loss: 0.0175\n",
      "Epoch 17/100\n",
      "780/780 [==============================] - 0s 639us/sample - loss: 2.7971e-04 - val_loss: 0.0176\n",
      "Epoch 18/100\n",
      "780/780 [==============================] - 0s 629us/sample - loss: 2.4658e-04 - val_loss: 0.0178\n",
      "Epoch 19/100\n",
      "780/780 [==============================] - 0s 639us/sample - loss: 2.3844e-04 - val_loss: 0.0186\n",
      "Epoch 20/100\n",
      "780/780 [==============================] - 0s 612us/sample - loss: 2.3023e-04 - val_loss: 0.0168\n",
      "Epoch 21/100\n",
      "780/780 [==============================] - 0s 605us/sample - loss: 2.4330e-04 - val_loss: 0.0178\n",
      "Epoch 22/100\n",
      "780/780 [==============================] - 0s 606us/sample - loss: 2.6448e-04 - val_loss: 0.0184\n",
      "Epoch 23/100\n",
      "780/780 [==============================] - 0s 602us/sample - loss: 2.4986e-04 - val_loss: 0.0158\n",
      "Epoch 24/100\n",
      "780/780 [==============================] - 0s 577us/sample - loss: 2.0921e-04 - val_loss: 0.0166\n",
      "Epoch 25/100\n",
      "780/780 [==============================] - 0s 577us/sample - loss: 2.1276e-04 - val_loss: 0.0164\n",
      "Epoch 26/100\n",
      "780/780 [==============================] - 0s 583us/sample - loss: 1.9583e-04 - val_loss: 0.0160\n",
      "Epoch 27/100\n",
      "780/780 [==============================] - 0s 588us/sample - loss: 1.9663e-04 - val_loss: 0.0164\n",
      "Epoch 28/100\n",
      "780/780 [==============================] - 0s 585us/sample - loss: 1.9220e-04 - val_loss: 0.0161\n",
      "Epoch 29/100\n",
      "780/780 [==============================] - 0s 566us/sample - loss: 1.8674e-04 - val_loss: 0.0181\n",
      "Epoch 30/100\n",
      "780/780 [==============================] - 0s 599us/sample - loss: 2.5770e-04 - val_loss: 0.0145\n",
      "Epoch 31/100\n",
      "780/780 [==============================] - 0s 622us/sample - loss: 1.9587e-04 - val_loss: 0.0135\n",
      "Epoch 32/100\n",
      "780/780 [==============================] - 0s 627us/sample - loss: 1.9209e-04 - val_loss: 0.0146\n",
      "Epoch 33/100\n",
      "780/780 [==============================] - 1s 688us/sample - loss: 1.7577e-04 - val_loss: 0.0140\n",
      "Epoch 34/100\n",
      "780/780 [==============================] - 1s 659us/sample - loss: 1.7041e-04 - val_loss: 0.0134\n",
      "Epoch 35/100\n",
      "780/780 [==============================] - 1s 650us/sample - loss: 1.7391e-04 - val_loss: 0.0142\n",
      "Epoch 36/100\n",
      "780/780 [==============================] - 1s 712us/sample - loss: 1.7056e-04 - val_loss: 0.0136\n",
      "Epoch 37/100\n",
      "780/780 [==============================] - 1s 681us/sample - loss: 1.8202e-04 - val_loss: 0.0127\n",
      "Epoch 38/100\n",
      "780/780 [==============================] - 1s 702us/sample - loss: 1.8842e-04 - val_loss: 0.0143\n",
      "Epoch 39/100\n",
      "780/780 [==============================] - 1s 655us/sample - loss: 1.6710e-04 - val_loss: 0.0138\n",
      "Epoch 40/100\n",
      "780/780 [==============================] - 1s 653us/sample - loss: 1.5933e-04 - val_loss: 0.0131\n",
      "Epoch 41/100\n",
      "780/780 [==============================] - 0s 613us/sample - loss: 1.5821e-04 - val_loss: 0.0131\n",
      "Epoch 42/100\n",
      "780/780 [==============================] - 0s 577us/sample - loss: 1.6828e-04 - val_loss: 0.0130\n",
      "Epoch 43/100\n",
      "780/780 [==============================] - 0s 582us/sample - loss: 1.6475e-04 - val_loss: 0.0117\n",
      "Epoch 44/100\n",
      "780/780 [==============================] - 1s 677us/sample - loss: 1.6288e-04 - val_loss: 0.0136\n",
      "Epoch 45/100\n",
      "780/780 [==============================] - 0s 611us/sample - loss: 1.5483e-04 - val_loss: 0.0125\n",
      "Epoch 46/100\n",
      "780/780 [==============================] - 0s 578us/sample - loss: 1.6890e-04 - val_loss: 0.0129\n",
      "Epoch 47/100\n",
      "780/780 [==============================] - 0s 589us/sample - loss: 1.5020e-04 - val_loss: 0.0133\n",
      "Epoch 48/100\n",
      "780/780 [==============================] - 0s 591us/sample - loss: 1.4232e-04 - val_loss: 0.0129\n",
      "Epoch 49/100\n",
      "780/780 [==============================] - 0s 566us/sample - loss: 1.4053e-04 - val_loss: 0.0136\n",
      "Epoch 50/100\n",
      "780/780 [==============================] - 0s 596us/sample - loss: 1.5672e-04 - val_loss: 0.0126\n",
      "Epoch 51/100\n",
      "780/780 [==============================] - 0s 588us/sample - loss: 1.5525e-04 - val_loss: 0.0127\n",
      "Epoch 52/100\n",
      "780/780 [==============================] - 0s 615us/sample - loss: 1.3184e-04 - val_loss: 0.0131\n",
      "Epoch 53/100\n",
      "780/780 [==============================] - 0s 580us/sample - loss: 1.3524e-04 - val_loss: 0.0126\n",
      "Epoch 54/100\n",
      "780/780 [==============================] - 0s 587us/sample - loss: 1.3381e-04 - val_loss: 0.0137\n",
      "Epoch 55/100\n",
      "780/780 [==============================] - 0s 601us/sample - loss: 1.4032e-04 - val_loss: 0.0126\n",
      "Epoch 56/100\n",
      "780/780 [==============================] - 0s 616us/sample - loss: 1.3080e-04 - val_loss: 0.0124\n",
      "Epoch 57/100\n",
      "780/780 [==============================] - 0s 587us/sample - loss: 1.2560e-04 - val_loss: 0.0139\n",
      "Epoch 58/100\n",
      "780/780 [==============================] - 0s 590us/sample - loss: 1.3533e-04 - val_loss: 0.0133\n",
      "Epoch 59/100\n",
      "780/780 [==============================] - 0s 570us/sample - loss: 1.2547e-04 - val_loss: 0.0140\n",
      "Epoch 60/100\n",
      "780/780 [==============================] - 0s 595us/sample - loss: 1.4486e-04 - val_loss: 0.0121\n",
      "Epoch 61/100\n",
      "780/780 [==============================] - 0s 611us/sample - loss: 1.2320e-04 - val_loss: 0.0125\n",
      "Epoch 62/100\n",
      "780/780 [==============================] - 0s 583us/sample - loss: 1.1528e-04 - val_loss: 0.0127\n",
      "Epoch 63/100\n",
      "780/780 [==============================] - 0s 593us/sample - loss: 1.1376e-04 - val_loss: 0.0133\n",
      "Epoch 64/100\n",
      "780/780 [==============================] - 0s 585us/sample - loss: 1.3924e-04 - val_loss: 0.0125\n",
      "Epoch 65/100\n",
      "780/780 [==============================] - 0s 580us/sample - loss: 1.3231e-04 - val_loss: 0.0120\n",
      "Epoch 66/100\n",
      "780/780 [==============================] - 0s 579us/sample - loss: 1.2384e-04 - val_loss: 0.0125\n",
      "Epoch 67/100\n",
      "780/780 [==============================] - 0s 613us/sample - loss: 1.0745e-04 - val_loss: 0.0128\n",
      "Epoch 68/100\n",
      "780/780 [==============================] - 0s 639us/sample - loss: 1.0805e-04 - val_loss: 0.0123\n",
      "Epoch 69/100\n",
      "780/780 [==============================] - 0s 601us/sample - loss: 1.0622e-04 - val_loss: 0.0124\n",
      "Epoch 70/100\n",
      "780/780 [==============================] - 0s 584us/sample - loss: 1.0284e-04 - val_loss: 0.0124\n",
      "Epoch 71/100\n",
      "780/780 [==============================] - 0s 599us/sample - loss: 1.1308e-04 - val_loss: 0.0120\n",
      "Epoch 72/100\n",
      "780/780 [==============================] - 0s 586us/sample - loss: 1.1357e-04 - val_loss: 0.0120\n",
      "Epoch 73/100\n",
      "780/780 [==============================] - 0s 611us/sample - loss: 1.0510e-04 - val_loss: 0.0119\n",
      "Epoch 74/100\n",
      "780/780 [==============================] - 0s 609us/sample - loss: 1.0133e-04 - val_loss: 0.0118\n",
      "Epoch 75/100\n",
      "780/780 [==============================] - 0s 640us/sample - loss: 9.8912e-05 - val_loss: 0.0121\n",
      "Epoch 76/100\n",
      "780/780 [==============================] - 0s 586us/sample - loss: 1.3338e-04 - val_loss: 0.0114\n",
      "Epoch 77/100\n",
      "780/780 [==============================] - 0s 597us/sample - loss: 1.0045e-04 - val_loss: 0.0113\n",
      "Epoch 78/100\n",
      "780/780 [==============================] - 0s 611us/sample - loss: 1.0141e-04 - val_loss: 0.0116\n",
      "Epoch 79/100\n",
      "780/780 [==============================] - 0s 607us/sample - loss: 1.0127e-04 - val_loss: 0.0118\n",
      "Epoch 80/100\n",
      "780/780 [==============================] - 0s 616us/sample - loss: 9.9150e-05 - val_loss: 0.0115\n",
      "Epoch 81/100\n",
      "780/780 [==============================] - 0s 591us/sample - loss: 1.1073e-04 - val_loss: 0.0106\n",
      "Epoch 82/100\n",
      "780/780 [==============================] - 0s 607us/sample - loss: 9.2199e-05 - val_loss: 0.0110\n",
      "Epoch 83/100\n",
      "780/780 [==============================] - 0s 624us/sample - loss: 9.8646e-05 - val_loss: 0.0107\n",
      "Epoch 84/100\n",
      "780/780 [==============================] - 0s 607us/sample - loss: 9.4778e-05 - val_loss: 0.0110\n",
      "Epoch 85/100\n",
      "780/780 [==============================] - 0s 559us/sample - loss: 1.0248e-04 - val_loss: 0.0108\n",
      "Epoch 86/100\n",
      "780/780 [==============================] - 0s 630us/sample - loss: 1.0452e-04 - val_loss: 0.0098\n",
      "Epoch 87/100\n",
      "780/780 [==============================] - 0s 581us/sample - loss: 1.0290e-04 - val_loss: 0.0102\n",
      "Epoch 88/100\n",
      "780/780 [==============================] - 0s 585us/sample - loss: 9.5694e-05 - val_loss: 0.0102\n",
      "Epoch 89/100\n",
      "780/780 [==============================] - 1s 643us/sample - loss: 8.7721e-05 - val_loss: 0.0100\n",
      "Epoch 90/100\n",
      "780/780 [==============================] - 1s 724us/sample - loss: 9.1866e-05 - val_loss: 0.0104\n",
      "Epoch 91/100\n",
      "780/780 [==============================] - 0s 610us/sample - loss: 9.1057e-05 - val_loss: 0.0102\n",
      "Epoch 92/100\n",
      "780/780 [==============================] - 1s 660us/sample - loss: 9.2738e-05 - val_loss: 0.0094\n",
      "Epoch 93/100\n",
      "780/780 [==============================] - 1s 682us/sample - loss: 8.3963e-05 - val_loss: 0.0093\n",
      "Epoch 94/100\n",
      "780/780 [==============================] - 1s 714us/sample - loss: 8.6692e-05 - val_loss: 0.0102\n",
      "Epoch 95/100\n",
      "780/780 [==============================] - 1s 643us/sample - loss: 9.2023e-05 - val_loss: 0.0098\n",
      "Epoch 96/100\n",
      "780/780 [==============================] - 1s 667us/sample - loss: 8.5055e-05 - val_loss: 0.0094\n",
      "Epoch 97/100\n",
      "780/780 [==============================] - 1s 657us/sample - loss: 9.2655e-05 - val_loss: 0.0096\n",
      "Epoch 98/100\n",
      "780/780 [==============================] - 0s 621us/sample - loss: 8.4762e-05 - val_loss: 0.0094\n",
      "Epoch 99/100\n",
      "780/780 [==============================] - 0s 586us/sample - loss: 8.9838e-05 - val_loss: 0.0099\n",
      "Epoch 100/100\n",
      "780/780 [==============================] - 0s 608us/sample - loss: 8.3133e-05 - val_loss: 0.0091\n"
     ]
    },
    {
     "data": {
      "text/plain": [
       "<tensorflow.python.keras.callbacks.History at 0x29ba81497c8>"
      ]
     },
     "execution_count": 85,
     "metadata": {},
     "output_type": "execute_result"
    }
   ],
   "source": [
    "model.fit(X_train, y_train, validation_data=(X_test, y_test), epochs=100, batch_size=64, verbose=1)"
   ]
  },
  {
   "cell_type": "code",
   "execution_count": 86,
   "metadata": {},
   "outputs": [],
   "source": [
    "# Let's do the predict train and test\n",
    "train_predict = model.predict(X_train)\n",
    "test_predict = model.predict(X_test)"
   ]
  },
  {
   "cell_type": "code",
   "execution_count": 87,
   "metadata": {},
   "outputs": [],
   "source": [
    "# transform back the data to it's original form\n",
    "train_predict = scaler.inverse_transform(train_predict)\n",
    "test_predict = scaler.inverse_transform(test_predict)"
   ]
  },
  {
   "cell_type": "code",
   "execution_count": 88,
   "metadata": {},
   "outputs": [
    {
     "data": {
      "text/plain": [
       "163.1635735659527"
      ]
     },
     "execution_count": 88,
     "metadata": {},
     "output_type": "execute_result"
    }
   ],
   "source": [
    "# Calculate RMSE performance metrics\n",
    "from sklearn.metrics import mean_squared_error\n",
    "np.sqrt(mean_squared_error(y_train, train_predict))"
   ]
  },
  {
   "cell_type": "code",
   "execution_count": 89,
   "metadata": {},
   "outputs": [
    {
     "data": {
      "text/plain": [
       "284.5564580847642"
      ]
     },
     "execution_count": 89,
     "metadata": {},
     "output_type": "execute_result"
    }
   ],
   "source": [
    "# Test data RMSE\n",
    "np.sqrt(mean_squared_error(y_test, test_predict))"
   ]
  },
  {
   "cell_type": "code",
   "execution_count": 93,
   "metadata": {},
   "outputs": [
    {
     "data": {
      "image/png": "[encoded data removed]",
      "text/plain": [
       "<Figure size 1440x720 with 1 Axes>"
      ]
     },
     "metadata": {
      "needs_background": "light"
     },
     "output_type": "display_data"
    }
   ],
   "source": [
    "# shift train prediction for ploting\n",
    "trainPredictPlot = np.empty_like(df)\n",
    "trainPredictPlot[:,:] = np.nan\n",
    "trainPredictPlot[100:len(train_predict)+100, :] = train_predict\n",
    "\n",
    "# shift test prediction for plotting\n",
    "testPredictPlot = np.empty_like(df)\n",
    "testPredictPlot[:,:] = np.nan\n",
    "testPredictPlot[len(train_predict)+(100*2)+1:len(df)-1, :] = test_predict\n",
    "\n",
    "# plot baseline and predictions\n",
    "plt.figure(figsize=(20,10))\n",
    "plt.plot(scaler.inverse_transform(df))\n",
    "plt.plot(trainPredictPlot)\n",
    "plt.plot(testPredictPlot)\n",
    "plt.show()"
   ]
  },
  {
   "cell_type": "markdown",
   "metadata": {},
   "source": [
    "### Predict future 30 days"
   ]
  },
  {
   "cell_type": "code",
   "execution_count": 94,
   "metadata": {},
   "outputs": [
    {
     "data": {
      "text/plain": [
       "378"
      ]
     },
     "execution_count": 94,
     "metadata": {},
     "output_type": "execute_result"
    }
   ],
   "source": [
    "len(test)"
   ]
  },
  {
   "cell_type": "code",
   "execution_count": 96,
   "metadata": {},
   "outputs": [],
   "source": [
    "# take last 100 days from test data\n",
    "x_input = test[278:].reshape(1,-1)"
   ]
  },
  {
   "cell_type": "code",
   "execution_count": 97,
   "metadata": {},
   "outputs": [
    {
     "data": {
      "text/plain": [
       "(1, 100)"
      ]
     },
     "execution_count": 97,
     "metadata": {},
     "output_type": "execute_result"
    }
   ],
   "source": [
    "x_input.shape"
   ]
  },
  {
   "cell_type": "code",
   "execution_count": 98,
   "metadata": {},
   "outputs": [
    {
     "data": {
      "text/plain": [
       "array([[0.89455201, 0.89594708, 0.92064943, 0.97929044, 0.99360192,\n",
       "        0.98366807, 1.        , 0.98544799, 0.9834997 , 0.09308479,\n",
       "        0.10544799, 0.09876127, 0.07345761, 0.07365003, 0.05407096,\n",
       "        0.06489477, 0.0556825 , 0.05209862, 0.06016837, 0.06061335,\n",
       "        0.0524113 , 0.04810583, 0.03968731, 0.04748046, 0.05164161,\n",
       "        0.04036079, 0.04300661, 0.0527721 , 0.05921828, 0.05712568,\n",
       "        0.06126278, 0.06361996, 0.05455201, 0.06292243, 0.05488876,\n",
       "        0.05950692, 0.05924233, 0.06405292, 0.08192423, 0.07398677,\n",
       "        0.07420325, 0.07304871, 0.06898376, 0.06167168, 0.06535177,\n",
       "        0.06381239, 0.06111846, 0.0594107 , 0.05943476, 0.06316296,\n",
       "        0.05017438, 0.06008419, 0.044546  , 0.04432952, 0.04834636,\n",
       "        0.05919423, 0.06900782, 0.06819002, 0.06248948, 0.06164762,\n",
       "        0.07011425, 0.06944077, 0.06956103, 0.07206254, 0.06987372,\n",
       "        0.06660253, 0.06806975, 0.06494287, 0.05654841, 0.05972339,\n",
       "        0.06179194, 0.06313891, 0.06905592, 0.07788334, 0.07874925,\n",
       "        0.07841251, 0.07675286, 0.08036079, 0.08187613, 0.07562237,\n",
       "        0.0791341 , 0.0771377 , 0.07562237, 0.09029465, 0.09012628,\n",
       "        0.09226699, 0.08734817, 0.0911365 , 0.09991581, 0.09770295,\n",
       "        0.10013229, 0.11148527, 0.10710764, 0.10434155, 0.1018641 ,\n",
       "        0.09397474, 0.09782321, 0.08721587, 0.09760673, 0.10032471]])"
      ]
     },
     "execution_count": 98,
     "metadata": {},
     "output_type": "execute_result"
    }
   ],
   "source": [
    "x_input"
   ]
  },
  {
   "cell_type": "code",
   "execution_count": 99,
   "metadata": {},
   "outputs": [],
   "source": [
    "temp_input = list(x_input)\n",
    "temp_input = temp_input[0].tolist()"
   ]
  },
  {
   "cell_type": "code",
   "execution_count": 101,
   "metadata": {},
   "outputs": [
    {
     "data": {
      "text/plain": [
       "[0.89455201443175,\n",
       " 0.8959470835838845,\n",
       " 0.9206494287432352,\n",
       " 0.9792904389657247,\n",
       " 0.9936019242333134,\n",
       " 0.9836680697534577,\n",
       " 1.0,\n",
       " 0.9854479855682503,\n",
       " 0.983499699338545,\n",
       " 0.09308478653036678,\n",
       " 0.10544798556825014,\n",
       " 0.09876127480457003,\n",
       " 0.07345760673481655,\n",
       " 0.07365003006614551,\n",
       " 0.05407095610342749,\n",
       " 0.06489476849067943,\n",
       " 0.055682501503307225,\n",
       " 0.052098616957306054,\n",
       " 0.0601683704149128,\n",
       " 0.06061334936861096,\n",
       " 0.05241130487071555,\n",
       " 0.04810583283223091,\n",
       " 0.03968731208659049,\n",
       " 0.04748045700541187,\n",
       " 0.05164161154539987,\n",
       " 0.04036079374624174,\n",
       " 0.04300661455201443,\n",
       " 0.05277209861695731,\n",
       " 0.05921828021647624,\n",
       " 0.05712567648827421,\n",
       " 0.06126277811184605,\n",
       " 0.06361996392062536,\n",
       " 0.05455201443174984,\n",
       " 0.062922429344558,\n",
       " 0.05488875526157544,\n",
       " 0.059506915213469624,\n",
       " 0.059242333132892344,\n",
       " 0.06405291641611544,\n",
       " 0.08192423331328924,\n",
       " 0.07398677089597111,\n",
       " 0.07420324714371618,\n",
       " 0.07304870715574258,\n",
       " 0.06898376428141911,\n",
       " 0.061671677690920024,\n",
       " 0.06535177390258567,\n",
       " 0.06381238725195432,\n",
       " 0.06111846061334936,\n",
       " 0.059410703547805144,\n",
       " 0.05943475646422125,\n",
       " 0.06316295850871917,\n",
       " 0.05017438364401683,\n",
       " 0.06008418520745634,\n",
       " 0.04454600120264579,\n",
       " 0.04432952495490078,\n",
       " 0.04834636199639203,\n",
       " 0.05919422730006013,\n",
       " 0.06900781719783522,\n",
       " 0.06819001803968727,\n",
       " 0.062489476849067915,\n",
       " 0.06164762477450386,\n",
       " 0.0701142513529765,\n",
       " 0.0694407696933253,\n",
       " 0.06956103427540589,\n",
       " 0.07206253758268188,\n",
       " 0.06987372218881538,\n",
       " 0.0666025255562237,\n",
       " 0.06806975345760674,\n",
       " 0.0649428743235117,\n",
       " 0.056548406494287384,\n",
       " 0.05972339146121464,\n",
       " 0.06179194227300061,\n",
       " 0.06313890559230306,\n",
       " 0.06905592303066743,\n",
       " 0.07788334335538183,\n",
       " 0.07874924834636199,\n",
       " 0.07841250751653633,\n",
       " 0.07675285628382439,\n",
       " 0.08036079374624172,\n",
       " 0.08187612748045697,\n",
       " 0.07562236921226695,\n",
       " 0.0791340950090198,\n",
       " 0.07713770294648226,\n",
       " 0.07562236921226695,\n",
       " 0.0902946482260974,\n",
       " 0.0901262778111846,\n",
       " 0.09226698737221883,\n",
       " 0.08734816596512324,\n",
       " 0.0911365003006614,\n",
       " 0.09991581479254358,\n",
       " 0.09770294648226097,\n",
       " 0.10013229104028859,\n",
       " 0.11148526758869509,\n",
       " 0.10710763680096214,\n",
       " 0.1043415514131088,\n",
       " 0.10186410102224891,\n",
       " 0.09397474443776305,\n",
       " 0.0978232110643415,\n",
       " 0.08721587492483462,\n",
       " 0.09760673481659649,\n",
       " 0.10032471437161755]"
      ]
     },
     "execution_count": 101,
     "metadata": {},
     "output_type": "execute_result"
    }
   ],
   "source": [
    "temp_input"
   ]
  },
  {
   "cell_type": "code",
   "execution_count": 103,
   "metadata": {},
   "outputs": [
    {
     "name": "stdout",
     "output_type": "stream",
     "text": [
      "0 day input [0.06126278 0.06361996 0.05455201 0.06292243 0.05488876 0.05950692\n",
      " 0.05924233 0.06405292 0.08192423 0.07398677 0.07420325 0.07304871\n",
      " 0.06898376 0.06167168 0.06535177 0.06381239 0.06111846 0.0594107\n",
      " 0.05943476 0.06316296 0.05017438 0.06008419 0.044546   0.04432952\n",
      " 0.04834636 0.05919423 0.06900782 0.06819002 0.06248948 0.06164762\n",
      " 0.07011425 0.06944077 0.06956103 0.07206254 0.06987372 0.06660253\n",
      " 0.06806975 0.06494287 0.05654841 0.05972339 0.06179194 0.06313891\n",
      " 0.06905592 0.07788334 0.07874925 0.07841251 0.07675286 0.08036079\n",
      " 0.08187613 0.07562237 0.0791341  0.0771377  0.07562237 0.09029465\n",
      " 0.09012628 0.09226699 0.08734817 0.0911365  0.09991581 0.09770295\n",
      " 0.10013229 0.11148527 0.10710764 0.10434155 0.1018641  0.09397474\n",
      " 0.09782321 0.08721587 0.09760673 0.10032471 0.09340177 0.0932181\n",
      " 0.09325322 0.09335493 0.09349555 0.09367977 0.093909   0.09417439\n",
      " 0.09446029 0.09474944 0.09502635 0.09527938 0.0955008  0.09568675\n",
      " 0.09583656 0.09595204 0.09603696 0.09609613 0.0961351  0.09615948\n",
      " 0.09617466 0.09618548 0.09619606 0.09620968 0.09622872 0.09625477\n",
      " 0.09628858 0.09633033 0.09637962 0.09643567]\n",
      "0 day output [[0.09649748]]\n",
      "1 day input [0.06361996 0.05455201 0.06292243 0.05488876 0.05950692 0.05924233\n",
      " 0.06405292 0.08192423 0.07398677 0.07420325 0.07304871 0.06898376\n",
      " 0.06167168 0.06535177 0.06381239 0.06111846 0.0594107  0.05943476\n",
      " 0.06316296 0.05017438 0.06008419 0.044546   0.04432952 0.04834636\n",
      " 0.05919423 0.06900782 0.06819002 0.06248948 0.06164762 0.07011425\n",
      " 0.06944077 0.06956103 0.07206254 0.06987372 0.06660253 0.06806975\n",
      " 0.06494287 0.05654841 0.05972339 0.06179194 0.06313891 0.06905592\n",
      " 0.07788334 0.07874925 0.07841251 0.07675286 0.08036079 0.08187613\n",
      " 0.07562237 0.0791341  0.0771377  0.07562237 0.09029465 0.09012628\n",
      " 0.09226699 0.08734817 0.0911365  0.09991581 0.09770295 0.10013229\n",
      " 0.11148527 0.10710764 0.10434155 0.1018641  0.09397474 0.09782321\n",
      " 0.08721587 0.09760673 0.10032471 0.09340177 0.0932181  0.09325322\n",
      " 0.09335493 0.09349555 0.09367977 0.093909   0.09417439 0.09446029\n",
      " 0.09474944 0.09502635 0.09527938 0.0955008  0.09568675 0.09583656\n",
      " 0.09595204 0.09603696 0.09609613 0.0961351  0.09615948 0.09617466\n",
      " 0.09618548 0.09619606 0.09620968 0.09622872 0.09625477 0.09628858\n",
      " 0.09633033 0.09637962 0.09643567 0.09649748]\n",
      "1 day output [[0.09656381]]\n",
      "2 day input [0.05455201 0.06292243 0.05488876 0.05950692 0.05924233 0.06405292\n",
      " 0.08192423 0.07398677 0.07420325 0.07304871 0.06898376 0.06167168\n",
      " 0.06535177 0.06381239 0.06111846 0.0594107  0.05943476 0.06316296\n",
      " 0.05017438 0.06008419 0.044546   0.04432952 0.04834636 0.05919423\n",
      " 0.06900782 0.06819002 0.06248948 0.06164762 0.07011425 0.06944077\n",
      " 0.06956103 0.07206254 0.06987372 0.06660253 0.06806975 0.06494287\n",
      " 0.05654841 0.05972339 0.06179194 0.06313891 0.06905592 0.07788334\n",
      " 0.07874925 0.07841251 0.07675286 0.08036079 0.08187613 0.07562237\n",
      " 0.0791341  0.0771377  0.07562237 0.09029465 0.09012628 0.09226699\n",
      " 0.08734817 0.0911365  0.09991581 0.09770295 0.10013229 0.11148527\n",
      " 0.10710764 0.10434155 0.1018641  0.09397474 0.09782321 0.08721587\n",
      " 0.09760673 0.10032471 0.09340177 0.0932181  0.09325322 0.09335493\n",
      " 0.09349555 0.09367977 0.093909   0.09417439 0.09446029 0.09474944\n",
      " 0.09502635 0.09527938 0.0955008  0.09568675 0.09583656 0.09595204\n",
      " 0.09603696 0.09609613 0.0961351  0.09615948 0.09617466 0.09618548\n",
      " 0.09619606 0.09620968 0.09622872 0.09625477 0.09628858 0.09633033\n",
      " 0.09637962 0.09643567 0.09649748 0.09656381]\n",
      "2 day output [[0.09663348]]\n",
      "3 day input [0.06292243 0.05488876 0.05950692 0.05924233 0.06405292 0.08192423\n",
      " 0.07398677 0.07420325 0.07304871 0.06898376 0.06167168 0.06535177\n",
      " 0.06381239 0.06111846 0.0594107  0.05943476 0.06316296 0.05017438\n",
      " 0.06008419 0.044546   0.04432952 0.04834636 0.05919423 0.06900782\n",
      " 0.06819002 0.06248948 0.06164762 0.07011425 0.06944077 0.06956103\n",
      " 0.07206254 0.06987372 0.06660253 0.06806975 0.06494287 0.05654841\n",
      " 0.05972339 0.06179194 0.06313891 0.06905592 0.07788334 0.07874925\n",
      " 0.07841251 0.07675286 0.08036079 0.08187613 0.07562237 0.0791341\n",
      " 0.0771377  0.07562237 0.09029465 0.09012628 0.09226699 0.08734817\n",
      " 0.0911365  0.09991581 0.09770295 0.10013229 0.11148527 0.10710764\n",
      " 0.10434155 0.1018641  0.09397474 0.09782321 0.08721587 0.09760673\n",
      " 0.10032471 0.09340177 0.0932181  0.09325322 0.09335493 0.09349555\n",
      " 0.09367977 0.093909   0.09417439 0.09446029 0.09474944 0.09502635\n",
      " 0.09527938 0.0955008  0.09568675 0.09583656 0.09595204 0.09603696\n",
      " 0.09609613 0.0961351  0.09615948 0.09617466 0.09618548 0.09619606\n",
      " 0.09620968 0.09622872 0.09625477 0.09628858 0.09633033 0.09637962\n",
      " 0.09643567 0.09649748 0.09656381 0.09663348]\n",
      "3 day output [[0.09670533]]\n",
      "4 day input [0.05488876 0.05950692 0.05924233 0.06405292 0.08192423 0.07398677\n",
      " 0.07420325 0.07304871 0.06898376 0.06167168 0.06535177 0.06381239\n",
      " 0.06111846 0.0594107  0.05943476 0.06316296 0.05017438 0.06008419\n",
      " 0.044546   0.04432952 0.04834636 0.05919423 0.06900782 0.06819002\n",
      " 0.06248948 0.06164762 0.07011425 0.06944077 0.06956103 0.07206254\n",
      " 0.06987372 0.06660253 0.06806975 0.06494287 0.05654841 0.05972339\n",
      " 0.06179194 0.06313891 0.06905592 0.07788334 0.07874925 0.07841251\n",
      " 0.07675286 0.08036079 0.08187613 0.07562237 0.0791341  0.0771377\n",
      " 0.07562237 0.09029465 0.09012628 0.09226699 0.08734817 0.0911365\n",
      " 0.09991581 0.09770295 0.10013229 0.11148527 0.10710764 0.10434155\n",
      " 0.1018641  0.09397474 0.09782321 0.08721587 0.09760673 0.10032471\n",
      " 0.09340177 0.0932181  0.09325322 0.09335493 0.09349555 0.09367977\n",
      " 0.093909   0.09417439 0.09446029 0.09474944 0.09502635 0.09527938\n",
      " 0.0955008  0.09568675 0.09583656 0.09595204 0.09603696 0.09609613\n",
      " 0.0961351  0.09615948 0.09617466 0.09618548 0.09619606 0.09620968\n",
      " 0.09622872 0.09625477 0.09628858 0.09633033 0.09637962 0.09643567\n",
      " 0.09649748 0.09656381 0.09663348 0.09670533]\n",
      "4 day output [[0.09677829]]\n",
      "5 day input [0.05950692 0.05924233 0.06405292 0.08192423 0.07398677 0.07420325\n",
      " 0.07304871 0.06898376 0.06167168 0.06535177 0.06381239 0.06111846\n",
      " 0.0594107  0.05943476 0.06316296 0.05017438 0.06008419 0.044546\n",
      " 0.04432952 0.04834636 0.05919423 0.06900782 0.06819002 0.06248948\n",
      " 0.06164762 0.07011425 0.06944077 0.06956103 0.07206254 0.06987372\n",
      " 0.06660253 0.06806975 0.06494287 0.05654841 0.05972339 0.06179194\n",
      " 0.06313891 0.06905592 0.07788334 0.07874925 0.07841251 0.07675286\n",
      " 0.08036079 0.08187613 0.07562237 0.0791341  0.0771377  0.07562237\n",
      " 0.09029465 0.09012628 0.09226699 0.08734817 0.0911365  0.09991581\n",
      " 0.09770295 0.10013229 0.11148527 0.10710764 0.10434155 0.1018641\n",
      " 0.09397474 0.09782321 0.08721587 0.09760673 0.10032471 0.09340177\n",
      " 0.0932181  0.09325322 0.09335493 0.09349555 0.09367977 0.093909\n",
      " 0.09417439 0.09446029 0.09474944 0.09502635 0.09527938 0.0955008\n",
      " 0.09568675 0.09583656 0.09595204 0.09603696 0.09609613 0.0961351\n",
      " 0.09615948 0.09617466 0.09618548 0.09619606 0.09620968 0.09622872\n",
      " 0.09625477 0.09628858 0.09633033 0.09637962 0.09643567 0.09649748\n",
      " 0.09656381 0.09663348 0.09670533 0.09677829]\n",
      "5 day output [[0.09685148]]\n",
      "6 day input [0.05924233 0.06405292 0.08192423 0.07398677 0.07420325 0.07304871\n",
      " 0.06898376 0.06167168 0.06535177 0.06381239 0.06111846 0.0594107\n",
      " 0.05943476 0.06316296 0.05017438 0.06008419 0.044546   0.04432952\n",
      " 0.04834636 0.05919423 0.06900782 0.06819002 0.06248948 0.06164762\n",
      " 0.07011425 0.06944077 0.06956103 0.07206254 0.06987372 0.06660253\n",
      " 0.06806975 0.06494287 0.05654841 0.05972339 0.06179194 0.06313891\n",
      " 0.06905592 0.07788334 0.07874925 0.07841251 0.07675286 0.08036079\n",
      " 0.08187613 0.07562237 0.0791341  0.0771377  0.07562237 0.09029465\n",
      " 0.09012628 0.09226699 0.08734817 0.0911365  0.09991581 0.09770295\n",
      " 0.10013229 0.11148527 0.10710764 0.10434155 0.1018641  0.09397474\n",
      " 0.09782321 0.08721587 0.09760673 0.10032471 0.09340177 0.0932181\n",
      " 0.09325322 0.09335493 0.09349555 0.09367977 0.093909   0.09417439\n",
      " 0.09446029 0.09474944 0.09502635 0.09527938 0.0955008  0.09568675\n",
      " 0.09583656 0.09595204 0.09603696 0.09609613 0.0961351  0.09615948\n",
      " 0.09617466 0.09618548 0.09619606 0.09620968 0.09622872 0.09625477\n",
      " 0.09628858 0.09633033 0.09637962 0.09643567 0.09649748 0.09656381\n",
      " 0.09663348 0.09670533 0.09677829 0.09685148]\n",
      "6 day output [[0.09692417]]\n",
      "7 day input [0.06405292 0.08192423 0.07398677 0.07420325 0.07304871 0.06898376\n",
      " 0.06167168 0.06535177 0.06381239 0.06111846 0.0594107  0.05943476\n",
      " 0.06316296 0.05017438 0.06008419 0.044546   0.04432952 0.04834636\n",
      " 0.05919423 0.06900782 0.06819002 0.06248948 0.06164762 0.07011425\n",
      " 0.06944077 0.06956103 0.07206254 0.06987372 0.06660253 0.06806975\n",
      " 0.06494287 0.05654841 0.05972339 0.06179194 0.06313891 0.06905592\n",
      " 0.07788334 0.07874925 0.07841251 0.07675286 0.08036079 0.08187613\n",
      " 0.07562237 0.0791341  0.0771377  0.07562237 0.09029465 0.09012628\n",
      " 0.09226699 0.08734817 0.0911365  0.09991581 0.09770295 0.10013229\n",
      " 0.11148527 0.10710764 0.10434155 0.1018641  0.09397474 0.09782321\n",
      " 0.08721587 0.09760673 0.10032471 0.09340177 0.0932181  0.09325322\n",
      " 0.09335493 0.09349555 0.09367977 0.093909   0.09417439 0.09446029\n",
      " 0.09474944 0.09502635 0.09527938 0.0955008  0.09568675 0.09583656\n",
      " 0.09595204 0.09603696 0.09609613 0.0961351  0.09615948 0.09617466\n",
      " 0.09618548 0.09619606 0.09620968 0.09622872 0.09625477 0.09628858\n",
      " 0.09633033 0.09637962 0.09643567 0.09649748 0.09656381 0.09663348\n",
      " 0.09670533 0.09677829 0.09685148 0.09692417]\n",
      "7 day output [[0.09699582]]\n",
      "8 day input [0.08192423 0.07398677 0.07420325 0.07304871 0.06898376 0.06167168\n",
      " 0.06535177 0.06381239 0.06111846 0.0594107  0.05943476 0.06316296\n",
      " 0.05017438 0.06008419 0.044546   0.04432952 0.04834636 0.05919423\n",
      " 0.06900782 0.06819002 0.06248948 0.06164762 0.07011425 0.06944077\n",
      " 0.06956103 0.07206254 0.06987372 0.06660253 0.06806975 0.06494287\n",
      " 0.05654841 0.05972339 0.06179194 0.06313891 0.06905592 0.07788334\n",
      " 0.07874925 0.07841251 0.07675286 0.08036079 0.08187613 0.07562237\n",
      " 0.0791341  0.0771377  0.07562237 0.09029465 0.09012628 0.09226699\n",
      " 0.08734817 0.0911365  0.09991581 0.09770295 0.10013229 0.11148527\n",
      " 0.10710764 0.10434155 0.1018641  0.09397474 0.09782321 0.08721587\n",
      " 0.09760673 0.10032471 0.09340177 0.0932181  0.09325322 0.09335493\n",
      " 0.09349555 0.09367977 0.093909   0.09417439 0.09446029 0.09474944\n",
      " 0.09502635 0.09527938 0.0955008  0.09568675 0.09583656 0.09595204\n",
      " 0.09603696 0.09609613 0.0961351  0.09615948 0.09617466 0.09618548\n",
      " 0.09619606 0.09620968 0.09622872 0.09625477 0.09628858 0.09633033\n",
      " 0.09637962 0.09643567 0.09649748 0.09656381 0.09663348 0.09670533\n",
      " 0.09677829 0.09685148 0.09692417 0.09699582]\n",
      "8 day output [[0.09706608]]\n",
      "9 day input [0.07398677 0.07420325 0.07304871 0.06898376 0.06167168 0.06535177\n",
      " 0.06381239 0.06111846 0.0594107  0.05943476 0.06316296 0.05017438\n",
      " 0.06008419 0.044546   0.04432952 0.04834636 0.05919423 0.06900782\n",
      " 0.06819002 0.06248948 0.06164762 0.07011425 0.06944077 0.06956103\n",
      " 0.07206254 0.06987372 0.06660253 0.06806975 0.06494287 0.05654841\n",
      " 0.05972339 0.06179194 0.06313891 0.06905592 0.07788334 0.07874925\n",
      " 0.07841251 0.07675286 0.08036079 0.08187613 0.07562237 0.0791341\n",
      " 0.0771377  0.07562237 0.09029465 0.09012628 0.09226699 0.08734817\n",
      " 0.0911365  0.09991581 0.09770295 0.10013229 0.11148527 0.10710764\n",
      " 0.10434155 0.1018641  0.09397474 0.09782321 0.08721587 0.09760673\n",
      " 0.10032471 0.09340177 0.0932181  0.09325322 0.09335493 0.09349555\n",
      " 0.09367977 0.093909   0.09417439 0.09446029 0.09474944 0.09502635\n",
      " 0.09527938 0.0955008  0.09568675 0.09583656 0.09595204 0.09603696\n",
      " 0.09609613 0.0961351  0.09615948 0.09617466 0.09618548 0.09619606\n",
      " 0.09620968 0.09622872 0.09625477 0.09628858 0.09633033 0.09637962\n",
      " 0.09643567 0.09649748 0.09656381 0.09663348 0.09670533 0.09677829\n",
      " 0.09685148 0.09692417 0.09699582 0.09706608]\n",
      "9 day output [[0.09713478]]\n",
      "10 day input [0.07420325 0.07304871 0.06898376 0.06167168 0.06535177 0.06381239\n",
      " 0.06111846 0.0594107  0.05943476 0.06316296 0.05017438 0.06008419\n",
      " 0.044546   0.04432952 0.04834636 0.05919423 0.06900782 0.06819002\n",
      " 0.06248948 0.06164762 0.07011425 0.06944077 0.06956103 0.07206254\n",
      " 0.06987372 0.06660253 0.06806975 0.06494287 0.05654841 0.05972339\n",
      " 0.06179194 0.06313891 0.06905592 0.07788334 0.07874925 0.07841251\n",
      " 0.07675286 0.08036079 0.08187613 0.07562237 0.0791341  0.0771377\n",
      " 0.07562237 0.09029465 0.09012628 0.09226699 0.08734817 0.0911365\n",
      " 0.09991581 0.09770295 0.10013229 0.11148527 0.10710764 0.10434155\n",
      " 0.1018641  0.09397474 0.09782321 0.08721587 0.09760673 0.10032471\n",
      " 0.09340177 0.0932181  0.09325322 0.09335493 0.09349555 0.09367977\n",
      " 0.093909   0.09417439 0.09446029 0.09474944 0.09502635 0.09527938\n",
      " 0.0955008  0.09568675 0.09583656 0.09595204 0.09603696 0.09609613\n",
      " 0.0961351  0.09615948 0.09617466 0.09618548 0.09619606 0.09620968\n",
      " 0.09622872 0.09625477 0.09628858 0.09633033 0.09637962 0.09643567\n",
      " 0.09649748 0.09656381 0.09663348 0.09670533 0.09677829 0.09685148\n",
      " 0.09692417 0.09699582 0.09706608 0.09713478]\n",
      "10 day output [[0.09720187]]\n",
      "11 day input [0.07304871 0.06898376 0.06167168 0.06535177 0.06381239 0.06111846\n",
      " 0.0594107  0.05943476 0.06316296 0.05017438 0.06008419 0.044546\n",
      " 0.04432952 0.04834636 0.05919423 0.06900782 0.06819002 0.06248948\n",
      " 0.06164762 0.07011425 0.06944077 0.06956103 0.07206254 0.06987372\n",
      " 0.06660253 0.06806975 0.06494287 0.05654841 0.05972339 0.06179194\n",
      " 0.06313891 0.06905592 0.07788334 0.07874925 0.07841251 0.07675286\n",
      " 0.08036079 0.08187613 0.07562237 0.0791341  0.0771377  0.07562237\n",
      " 0.09029465 0.09012628 0.09226699 0.08734817 0.0911365  0.09991581\n",
      " 0.09770295 0.10013229 0.11148527 0.10710764 0.10434155 0.1018641\n",
      " 0.09397474 0.09782321 0.08721587 0.09760673 0.10032471 0.09340177\n",
      " 0.0932181  0.09325322 0.09335493 0.09349555 0.09367977 0.093909\n",
      " 0.09417439 0.09446029 0.09474944 0.09502635 0.09527938 0.0955008\n",
      " 0.09568675 0.09583656 0.09595204 0.09603696 0.09609613 0.0961351\n",
      " 0.09615948 0.09617466 0.09618548 0.09619606 0.09620968 0.09622872\n",
      " 0.09625477 0.09628858 0.09633033 0.09637962 0.09643567 0.09649748\n",
      " 0.09656381 0.09663348 0.09670533 0.09677829 0.09685148 0.09692417\n",
      " 0.09699582 0.09706608 0.09713478 0.09720187]\n",
      "11 day output [[0.09726743]]\n",
      "12 day input [0.06898376 0.06167168 0.06535177 0.06381239 0.06111846 0.0594107\n",
      " 0.05943476 0.06316296 0.05017438 0.06008419 0.044546   0.04432952\n",
      " 0.04834636 0.05919423 0.06900782 0.06819002 0.06248948 0.06164762\n",
      " 0.07011425 0.06944077 0.06956103 0.07206254 0.06987372 0.06660253\n",
      " 0.06806975 0.06494287 0.05654841 0.05972339 0.06179194 0.06313891\n",
      " 0.06905592 0.07788334 0.07874925 0.07841251 0.07675286 0.08036079\n",
      " 0.08187613 0.07562237 0.0791341  0.0771377  0.07562237 0.09029465\n",
      " 0.09012628 0.09226699 0.08734817 0.0911365  0.09991581 0.09770295\n",
      " 0.10013229 0.11148527 0.10710764 0.10434155 0.1018641  0.09397474\n",
      " 0.09782321 0.08721587 0.09760673 0.10032471 0.09340177 0.0932181\n",
      " 0.09325322 0.09335493 0.09349555 0.09367977 0.093909   0.09417439\n",
      " 0.09446029 0.09474944 0.09502635 0.09527938 0.0955008  0.09568675\n",
      " 0.09583656 0.09595204 0.09603696 0.09609613 0.0961351  0.09615948\n",
      " 0.09617466 0.09618548 0.09619606 0.09620968 0.09622872 0.09625477\n",
      " 0.09628858 0.09633033 0.09637962 0.09643567 0.09649748 0.09656381\n",
      " 0.09663348 0.09670533 0.09677829 0.09685148 0.09692417 0.09699582\n",
      " 0.09706608 0.09713478 0.09720187 0.09726743]\n",
      "12 day output [[0.0973316]]\n",
      "13 day input [0.06167168 0.06535177 0.06381239 0.06111846 0.0594107  0.05943476\n",
      " 0.06316296 0.05017438 0.06008419 0.044546   0.04432952 0.04834636\n",
      " 0.05919423 0.06900782 0.06819002 0.06248948 0.06164762 0.07011425\n",
      " 0.06944077 0.06956103 0.07206254 0.06987372 0.06660253 0.06806975\n",
      " 0.06494287 0.05654841 0.05972339 0.06179194 0.06313891 0.06905592\n",
      " 0.07788334 0.07874925 0.07841251 0.07675286 0.08036079 0.08187613\n",
      " 0.07562237 0.0791341  0.0771377  0.07562237 0.09029465 0.09012628\n",
      " 0.09226699 0.08734817 0.0911365  0.09991581 0.09770295 0.10013229\n",
      " 0.11148527 0.10710764 0.10434155 0.1018641  0.09397474 0.09782321\n",
      " 0.08721587 0.09760673 0.10032471 0.09340177 0.0932181  0.09325322\n",
      " 0.09335493 0.09349555 0.09367977 0.093909   0.09417439 0.09446029\n",
      " 0.09474944 0.09502635 0.09527938 0.0955008  0.09568675 0.09583656\n",
      " 0.09595204 0.09603696 0.09609613 0.0961351  0.09615948 0.09617466\n",
      " 0.09618548 0.09619606 0.09620968 0.09622872 0.09625477 0.09628858\n",
      " 0.09633033 0.09637962 0.09643567 0.09649748 0.09656381 0.09663348\n",
      " 0.09670533 0.09677829 0.09685148 0.09692417 0.09699582 0.09706608\n",
      " 0.09713478 0.09720187 0.09726743 0.0973316 ]\n",
      "13 day output [[0.09739462]]\n",
      "14 day input [0.06535177 0.06381239 0.06111846 0.0594107  0.05943476 0.06316296\n",
      " 0.05017438 0.06008419 0.044546   0.04432952 0.04834636 0.05919423\n",
      " 0.06900782 0.06819002 0.06248948 0.06164762 0.07011425 0.06944077\n",
      " 0.06956103 0.07206254 0.06987372 0.06660253 0.06806975 0.06494287\n",
      " 0.05654841 0.05972339 0.06179194 0.06313891 0.06905592 0.07788334\n",
      " 0.07874925 0.07841251 0.07675286 0.08036079 0.08187613 0.07562237\n",
      " 0.0791341  0.0771377  0.07562237 0.09029465 0.09012628 0.09226699\n",
      " 0.08734817 0.0911365  0.09991581 0.09770295 0.10013229 0.11148527\n",
      " 0.10710764 0.10434155 0.1018641  0.09397474 0.09782321 0.08721587\n",
      " 0.09760673 0.10032471 0.09340177 0.0932181  0.09325322 0.09335493\n",
      " 0.09349555 0.09367977 0.093909   0.09417439 0.09446029 0.09474944\n",
      " 0.09502635 0.09527938 0.0955008  0.09568675 0.09583656 0.09595204\n",
      " 0.09603696 0.09609613 0.0961351  0.09615948 0.09617466 0.09618548\n",
      " 0.09619606 0.09620968 0.09622872 0.09625477 0.09628858 0.09633033\n",
      " 0.09637962 0.09643567 0.09649748 0.09656381 0.09663348 0.09670533\n",
      " 0.09677829 0.09685148 0.09692417 0.09699582 0.09706608 0.09713478\n",
      " 0.09720187 0.09726743 0.0973316  0.09739462]\n",
      "14 day output [[0.09745674]]\n",
      "15 day input [0.06381239 0.06111846 0.0594107  0.05943476 0.06316296 0.05017438\n",
      " 0.06008419 0.044546   0.04432952 0.04834636 0.05919423 0.06900782\n",
      " 0.06819002 0.06248948 0.06164762 0.07011425 0.06944077 0.06956103\n",
      " 0.07206254 0.06987372 0.06660253 0.06806975 0.06494287 0.05654841\n",
      " 0.05972339 0.06179194 0.06313891 0.06905592 0.07788334 0.07874925\n",
      " 0.07841251 0.07675286 0.08036079 0.08187613 0.07562237 0.0791341\n",
      " 0.0771377  0.07562237 0.09029465 0.09012628 0.09226699 0.08734817\n",
      " 0.0911365  0.09991581 0.09770295 0.10013229 0.11148527 0.10710764\n",
      " 0.10434155 0.1018641  0.09397474 0.09782321 0.08721587 0.09760673\n",
      " 0.10032471 0.09340177 0.0932181  0.09325322 0.09335493 0.09349555\n",
      " 0.09367977 0.093909   0.09417439 0.09446029 0.09474944 0.09502635\n",
      " 0.09527938 0.0955008  0.09568675 0.09583656 0.09595204 0.09603696\n",
      " 0.09609613 0.0961351  0.09615948 0.09617466 0.09618548 0.09619606\n",
      " 0.09620968 0.09622872 0.09625477 0.09628858 0.09633033 0.09637962\n",
      " 0.09643567 0.09649748 0.09656381 0.09663348 0.09670533 0.09677829\n",
      " 0.09685148 0.09692417 0.09699582 0.09706608 0.09713478 0.09720187\n",
      " 0.09726743 0.0973316  0.09739462 0.09745674]\n",
      "15 day output [[0.09751824]]\n",
      "16 day input [0.06111846 0.0594107  0.05943476 0.06316296 0.05017438 0.06008419\n",
      " 0.044546   0.04432952 0.04834636 0.05919423 0.06900782 0.06819002\n",
      " 0.06248948 0.06164762 0.07011425 0.06944077 0.06956103 0.07206254\n",
      " 0.06987372 0.06660253 0.06806975 0.06494287 0.05654841 0.05972339\n",
      " 0.06179194 0.06313891 0.06905592 0.07788334 0.07874925 0.07841251\n",
      " 0.07675286 0.08036079 0.08187613 0.07562237 0.0791341  0.0771377\n",
      " 0.07562237 0.09029465 0.09012628 0.09226699 0.08734817 0.0911365\n",
      " 0.09991581 0.09770295 0.10013229 0.11148527 0.10710764 0.10434155\n",
      " 0.1018641  0.09397474 0.09782321 0.08721587 0.09760673 0.10032471\n",
      " 0.09340177 0.0932181  0.09325322 0.09335493 0.09349555 0.09367977\n",
      " 0.093909   0.09417439 0.09446029 0.09474944 0.09502635 0.09527938\n",
      " 0.0955008  0.09568675 0.09583656 0.09595204 0.09603696 0.09609613\n",
      " 0.0961351  0.09615948 0.09617466 0.09618548 0.09619606 0.09620968\n",
      " 0.09622872 0.09625477 0.09628858 0.09633033 0.09637962 0.09643567\n",
      " 0.09649748 0.09656381 0.09663348 0.09670533 0.09677829 0.09685148\n",
      " 0.09692417 0.09699582 0.09706608 0.09713478 0.09720187 0.09726743\n",
      " 0.0973316  0.09739462 0.09745674 0.09751824]\n",
      "16 day output [[0.09757936]]\n",
      "17 day input [0.0594107  0.05943476 0.06316296 0.05017438 0.06008419 0.044546\n",
      " 0.04432952 0.04834636 0.05919423 0.06900782 0.06819002 0.06248948\n",
      " 0.06164762 0.07011425 0.06944077 0.06956103 0.07206254 0.06987372\n",
      " 0.06660253 0.06806975 0.06494287 0.05654841 0.05972339 0.06179194\n",
      " 0.06313891 0.06905592 0.07788334 0.07874925 0.07841251 0.07675286\n",
      " 0.08036079 0.08187613 0.07562237 0.0791341  0.0771377  0.07562237\n",
      " 0.09029465 0.09012628 0.09226699 0.08734817 0.0911365  0.09991581\n",
      " 0.09770295 0.10013229 0.11148527 0.10710764 0.10434155 0.1018641\n",
      " 0.09397474 0.09782321 0.08721587 0.09760673 0.10032471 0.09340177\n",
      " 0.0932181  0.09325322 0.09335493 0.09349555 0.09367977 0.093909\n",
      " 0.09417439 0.09446029 0.09474944 0.09502635 0.09527938 0.0955008\n",
      " 0.09568675 0.09583656 0.09595204 0.09603696 0.09609613 0.0961351\n",
      " 0.09615948 0.09617466 0.09618548 0.09619606 0.09620968 0.09622872\n",
      " 0.09625477 0.09628858 0.09633033 0.09637962 0.09643567 0.09649748\n",
      " 0.09656381 0.09663348 0.09670533 0.09677829 0.09685148 0.09692417\n",
      " 0.09699582 0.09706608 0.09713478 0.09720187 0.09726743 0.0973316\n",
      " 0.09739462 0.09745674 0.09751824 0.09757936]\n",
      "17 day output [[0.09764034]]\n",
      "18 day input [0.05943476 0.06316296 0.05017438 0.06008419 0.044546   0.04432952\n",
      " 0.04834636 0.05919423 0.06900782 0.06819002 0.06248948 0.06164762\n",
      " 0.07011425 0.06944077 0.06956103 0.07206254 0.06987372 0.06660253\n",
      " 0.06806975 0.06494287 0.05654841 0.05972339 0.06179194 0.06313891\n",
      " 0.06905592 0.07788334 0.07874925 0.07841251 0.07675286 0.08036079\n",
      " 0.08187613 0.07562237 0.0791341  0.0771377  0.07562237 0.09029465\n",
      " 0.09012628 0.09226699 0.08734817 0.0911365  0.09991581 0.09770295\n",
      " 0.10013229 0.11148527 0.10710764 0.10434155 0.1018641  0.09397474\n",
      " 0.09782321 0.08721587 0.09760673 0.10032471 0.09340177 0.0932181\n",
      " 0.09325322 0.09335493 0.09349555 0.09367977 0.093909   0.09417439\n",
      " 0.09446029 0.09474944 0.09502635 0.09527938 0.0955008  0.09568675\n",
      " 0.09583656 0.09595204 0.09603696 0.09609613 0.0961351  0.09615948\n",
      " 0.09617466 0.09618548 0.09619606 0.09620968 0.09622872 0.09625477\n",
      " 0.09628858 0.09633033 0.09637962 0.09643567 0.09649748 0.09656381\n",
      " 0.09663348 0.09670533 0.09677829 0.09685148 0.09692417 0.09699582\n",
      " 0.09706608 0.09713478 0.09720187 0.09726743 0.0973316  0.09739462\n",
      " 0.09745674 0.09751824 0.09757936 0.09764034]\n",
      "18 day output [[0.09770139]]\n",
      "19 day input [0.06316296 0.05017438 0.06008419 0.044546   0.04432952 0.04834636\n",
      " 0.05919423 0.06900782 0.06819002 0.06248948 0.06164762 0.07011425\n",
      " 0.06944077 0.06956103 0.07206254 0.06987372 0.06660253 0.06806975\n",
      " 0.06494287 0.05654841 0.05972339 0.06179194 0.06313891 0.06905592\n",
      " 0.07788334 0.07874925 0.07841251 0.07675286 0.08036079 0.08187613\n",
      " 0.07562237 0.0791341  0.0771377  0.07562237 0.09029465 0.09012628\n",
      " 0.09226699 0.08734817 0.0911365  0.09991581 0.09770295 0.10013229\n",
      " 0.11148527 0.10710764 0.10434155 0.1018641  0.09397474 0.09782321\n",
      " 0.08721587 0.09760673 0.10032471 0.09340177 0.0932181  0.09325322\n",
      " 0.09335493 0.09349555 0.09367977 0.093909   0.09417439 0.09446029\n",
      " 0.09474944 0.09502635 0.09527938 0.0955008  0.09568675 0.09583656\n",
      " 0.09595204 0.09603696 0.09609613 0.0961351  0.09615948 0.09617466\n",
      " 0.09618548 0.09619606 0.09620968 0.09622872 0.09625477 0.09628858\n",
      " 0.09633033 0.09637962 0.09643567 0.09649748 0.09656381 0.09663348\n",
      " 0.09670533 0.09677829 0.09685148 0.09692417 0.09699582 0.09706608\n",
      " 0.09713478 0.09720187 0.09726743 0.0973316  0.09739462 0.09745674\n",
      " 0.09751824 0.09757936 0.09764034 0.09770139]\n",
      "19 day output [[0.09776266]]\n",
      "20 day input [0.05017438 0.06008419 0.044546   0.04432952 0.04834636 0.05919423\n",
      " 0.06900782 0.06819002 0.06248948 0.06164762 0.07011425 0.06944077\n",
      " 0.06956103 0.07206254 0.06987372 0.06660253 0.06806975 0.06494287\n",
      " 0.05654841 0.05972339 0.06179194 0.06313891 0.06905592 0.07788334\n",
      " 0.07874925 0.07841251 0.07675286 0.08036079 0.08187613 0.07562237\n",
      " 0.0791341  0.0771377  0.07562237 0.09029465 0.09012628 0.09226699\n",
      " 0.08734817 0.0911365  0.09991581 0.09770295 0.10013229 0.11148527\n",
      " 0.10710764 0.10434155 0.1018641  0.09397474 0.09782321 0.08721587\n",
      " 0.09760673 0.10032471 0.09340177 0.0932181  0.09325322 0.09335493\n",
      " 0.09349555 0.09367977 0.093909   0.09417439 0.09446029 0.09474944\n",
      " 0.09502635 0.09527938 0.0955008  0.09568675 0.09583656 0.09595204\n",
      " 0.09603696 0.09609613 0.0961351  0.09615948 0.09617466 0.09618548\n",
      " 0.09619606 0.09620968 0.09622872 0.09625477 0.09628858 0.09633033\n",
      " 0.09637962 0.09643567 0.09649748 0.09656381 0.09663348 0.09670533\n",
      " 0.09677829 0.09685148 0.09692417 0.09699582 0.09706608 0.09713478\n",
      " 0.09720187 0.09726743 0.0973316  0.09739462 0.09745674 0.09751824\n",
      " 0.09757936 0.09764034 0.09770139 0.09776266]\n",
      "20 day output [[0.09782428]]\n",
      "21 day input [0.06008419 0.044546   0.04432952 0.04834636 0.05919423 0.06900782\n",
      " 0.06819002 0.06248948 0.06164762 0.07011425 0.06944077 0.06956103\n",
      " 0.07206254 0.06987372 0.06660253 0.06806975 0.06494287 0.05654841\n",
      " 0.05972339 0.06179194 0.06313891 0.06905592 0.07788334 0.07874925\n",
      " 0.07841251 0.07675286 0.08036079 0.08187613 0.07562237 0.0791341\n",
      " 0.0771377  0.07562237 0.09029465 0.09012628 0.09226699 0.08734817\n",
      " 0.0911365  0.09991581 0.09770295 0.10013229 0.11148527 0.10710764\n",
      " 0.10434155 0.1018641  0.09397474 0.09782321 0.08721587 0.09760673\n",
      " 0.10032471 0.09340177 0.0932181  0.09325322 0.09335493 0.09349555\n",
      " 0.09367977 0.093909   0.09417439 0.09446029 0.09474944 0.09502635\n",
      " 0.09527938 0.0955008  0.09568675 0.09583656 0.09595204 0.09603696\n",
      " 0.09609613 0.0961351  0.09615948 0.09617466 0.09618548 0.09619606\n",
      " 0.09620968 0.09622872 0.09625477 0.09628858 0.09633033 0.09637962\n",
      " 0.09643567 0.09649748 0.09656381 0.09663348 0.09670533 0.09677829\n",
      " 0.09685148 0.09692417 0.09699582 0.09706608 0.09713478 0.09720187\n",
      " 0.09726743 0.0973316  0.09739462 0.09745674 0.09751824 0.09757936\n",
      " 0.09764034 0.09770139 0.09776266 0.09782428]\n",
      "21 day output [[0.09788635]]\n",
      "22 day input [0.044546   0.04432952 0.04834636 0.05919423 0.06900782 0.06819002\n",
      " 0.06248948 0.06164762 0.07011425 0.06944077 0.06956103 0.07206254\n",
      " 0.06987372 0.06660253 0.06806975 0.06494287 0.05654841 0.05972339\n",
      " 0.06179194 0.06313891 0.06905592 0.07788334 0.07874925 0.07841251\n",
      " 0.07675286 0.08036079 0.08187613 0.07562237 0.0791341  0.0771377\n",
      " 0.07562237 0.09029465 0.09012628 0.09226699 0.08734817 0.0911365\n",
      " 0.09991581 0.09770295 0.10013229 0.11148527 0.10710764 0.10434155\n",
      " 0.1018641  0.09397474 0.09782321 0.08721587 0.09760673 0.10032471\n",
      " 0.09340177 0.0932181  0.09325322 0.09335493 0.09349555 0.09367977\n",
      " 0.093909   0.09417439 0.09446029 0.09474944 0.09502635 0.09527938\n",
      " 0.0955008  0.09568675 0.09583656 0.09595204 0.09603696 0.09609613\n",
      " 0.0961351  0.09615948 0.09617466 0.09618548 0.09619606 0.09620968\n",
      " 0.09622872 0.09625477 0.09628858 0.09633033 0.09637962 0.09643567\n",
      " 0.09649748 0.09656381 0.09663348 0.09670533 0.09677829 0.09685148\n",
      " 0.09692417 0.09699582 0.09706608 0.09713478 0.09720187 0.09726743\n",
      " 0.0973316  0.09739462 0.09745674 0.09751824 0.09757936 0.09764034\n",
      " 0.09770139 0.09776266 0.09782428 0.09788635]\n",
      "22 day output [[0.0979489]]\n",
      "23 day input [0.04432952 0.04834636 0.05919423 0.06900782 0.06819002 0.06248948\n",
      " 0.06164762 0.07011425 0.06944077 0.06956103 0.07206254 0.06987372\n",
      " 0.06660253 0.06806975 0.06494287 0.05654841 0.05972339 0.06179194\n",
      " 0.06313891 0.06905592 0.07788334 0.07874925 0.07841251 0.07675286\n",
      " 0.08036079 0.08187613 0.07562237 0.0791341  0.0771377  0.07562237\n",
      " 0.09029465 0.09012628 0.09226699 0.08734817 0.0911365  0.09991581\n",
      " 0.09770295 0.10013229 0.11148527 0.10710764 0.10434155 0.1018641\n",
      " 0.09397474 0.09782321 0.08721587 0.09760673 0.10032471 0.09340177\n",
      " 0.0932181  0.09325322 0.09335493 0.09349555 0.09367977 0.093909\n",
      " 0.09417439 0.09446029 0.09474944 0.09502635 0.09527938 0.0955008\n",
      " 0.09568675 0.09583656 0.09595204 0.09603696 0.09609613 0.0961351\n",
      " 0.09615948 0.09617466 0.09618548 0.09619606 0.09620968 0.09622872\n",
      " 0.09625477 0.09628858 0.09633033 0.09637962 0.09643567 0.09649748\n",
      " 0.09656381 0.09663348 0.09670533 0.09677829 0.09685148 0.09692417\n",
      " 0.09699582 0.09706608 0.09713478 0.09720187 0.09726743 0.0973316\n",
      " 0.09739462 0.09745674 0.09751824 0.09757936 0.09764034 0.09770139\n",
      " 0.09776266 0.09782428 0.09788635 0.0979489 ]\n",
      "23 day output [[0.09801194]]\n",
      "24 day input [0.04834636 0.05919423 0.06900782 0.06819002 0.06248948 0.06164762\n",
      " 0.07011425 0.06944077 0.06956103 0.07206254 0.06987372 0.06660253\n",
      " 0.06806975 0.06494287 0.05654841 0.05972339 0.06179194 0.06313891\n",
      " 0.06905592 0.07788334 0.07874925 0.07841251 0.07675286 0.08036079\n",
      " 0.08187613 0.07562237 0.0791341  0.0771377  0.07562237 0.09029465\n",
      " 0.09012628 0.09226699 0.08734817 0.0911365  0.09991581 0.09770295\n",
      " 0.10013229 0.11148527 0.10710764 0.10434155 0.1018641  0.09397474\n",
      " 0.09782321 0.08721587 0.09760673 0.10032471 0.09340177 0.0932181\n",
      " 0.09325322 0.09335493 0.09349555 0.09367977 0.093909   0.09417439\n",
      " 0.09446029 0.09474944 0.09502635 0.09527938 0.0955008  0.09568675\n",
      " 0.09583656 0.09595204 0.09603696 0.09609613 0.0961351  0.09615948\n",
      " 0.09617466 0.09618548 0.09619606 0.09620968 0.09622872 0.09625477\n",
      " 0.09628858 0.09633033 0.09637962 0.09643567 0.09649748 0.09656381\n",
      " 0.09663348 0.09670533 0.09677829 0.09685148 0.09692417 0.09699582\n",
      " 0.09706608 0.09713478 0.09720187 0.09726743 0.0973316  0.09739462\n",
      " 0.09745674 0.09751824 0.09757936 0.09764034 0.09770139 0.09776266\n",
      " 0.09782428 0.09788635 0.0979489  0.09801194]\n",
      "24 day output [[0.09807549]]\n",
      "25 day input [0.05919423 0.06900782 0.06819002 0.06248948 0.06164762 0.07011425\n",
      " 0.06944077 0.06956103 0.07206254 0.06987372 0.06660253 0.06806975\n",
      " 0.06494287 0.05654841 0.05972339 0.06179194 0.06313891 0.06905592\n",
      " 0.07788334 0.07874925 0.07841251 0.07675286 0.08036079 0.08187613\n",
      " 0.07562237 0.0791341  0.0771377  0.07562237 0.09029465 0.09012628\n",
      " 0.09226699 0.08734817 0.0911365  0.09991581 0.09770295 0.10013229\n",
      " 0.11148527 0.10710764 0.10434155 0.1018641  0.09397474 0.09782321\n",
      " 0.08721587 0.09760673 0.10032471 0.09340177 0.0932181  0.09325322\n",
      " 0.09335493 0.09349555 0.09367977 0.093909   0.09417439 0.09446029\n",
      " 0.09474944 0.09502635 0.09527938 0.0955008  0.09568675 0.09583656\n",
      " 0.09595204 0.09603696 0.09609613 0.0961351  0.09615948 0.09617466\n",
      " 0.09618548 0.09619606 0.09620968 0.09622872 0.09625477 0.09628858\n",
      " 0.09633033 0.09637962 0.09643567 0.09649748 0.09656381 0.09663348\n",
      " 0.09670533 0.09677829 0.09685148 0.09692417 0.09699582 0.09706608\n",
      " 0.09713478 0.09720187 0.09726743 0.0973316  0.09739462 0.09745674\n",
      " 0.09751824 0.09757936 0.09764034 0.09770139 0.09776266 0.09782428\n",
      " 0.09788635 0.0979489  0.09801194 0.09807549]\n",
      "25 day output [[0.09813949]]\n",
      "26 day input [0.06900782 0.06819002 0.06248948 0.06164762 0.07011425 0.06944077\n",
      " 0.06956103 0.07206254 0.06987372 0.06660253 0.06806975 0.06494287\n",
      " 0.05654841 0.05972339 0.06179194 0.06313891 0.06905592 0.07788334\n",
      " 0.07874925 0.07841251 0.07675286 0.08036079 0.08187613 0.07562237\n",
      " 0.0791341  0.0771377  0.07562237 0.09029465 0.09012628 0.09226699\n",
      " 0.08734817 0.0911365  0.09991581 0.09770295 0.10013229 0.11148527\n",
      " 0.10710764 0.10434155 0.1018641  0.09397474 0.09782321 0.08721587\n",
      " 0.09760673 0.10032471 0.09340177 0.0932181  0.09325322 0.09335493\n",
      " 0.09349555 0.09367977 0.093909   0.09417439 0.09446029 0.09474944\n",
      " 0.09502635 0.09527938 0.0955008  0.09568675 0.09583656 0.09595204\n",
      " 0.09603696 0.09609613 0.0961351  0.09615948 0.09617466 0.09618548\n",
      " 0.09619606 0.09620968 0.09622872 0.09625477 0.09628858 0.09633033\n",
      " 0.09637962 0.09643567 0.09649748 0.09656381 0.09663348 0.09670533\n",
      " 0.09677829 0.09685148 0.09692417 0.09699582 0.09706608 0.09713478\n",
      " 0.09720187 0.09726743 0.0973316  0.09739462 0.09745674 0.09751824\n",
      " 0.09757936 0.09764034 0.09770139 0.09776266 0.09782428 0.09788635\n",
      " 0.0979489  0.09801194 0.09807549 0.09813949]\n",
      "26 day output [[0.09820393]]\n",
      "27 day input [0.06819002 0.06248948 0.06164762 0.07011425 0.06944077 0.06956103\n",
      " 0.07206254 0.06987372 0.06660253 0.06806975 0.06494287 0.05654841\n",
      " 0.05972339 0.06179194 0.06313891 0.06905592 0.07788334 0.07874925\n",
      " 0.07841251 0.07675286 0.08036079 0.08187613 0.07562237 0.0791341\n",
      " 0.0771377  0.07562237 0.09029465 0.09012628 0.09226699 0.08734817\n",
      " 0.0911365  0.09991581 0.09770295 0.10013229 0.11148527 0.10710764\n",
      " 0.10434155 0.1018641  0.09397474 0.09782321 0.08721587 0.09760673\n",
      " 0.10032471 0.09340177 0.0932181  0.09325322 0.09335493 0.09349555\n",
      " 0.09367977 0.093909   0.09417439 0.09446029 0.09474944 0.09502635\n",
      " 0.09527938 0.0955008  0.09568675 0.09583656 0.09595204 0.09603696\n",
      " 0.09609613 0.0961351  0.09615948 0.09617466 0.09618548 0.09619606\n",
      " 0.09620968 0.09622872 0.09625477 0.09628858 0.09633033 0.09637962\n",
      " 0.09643567 0.09649748 0.09656381 0.09663348 0.09670533 0.09677829\n",
      " 0.09685148 0.09692417 0.09699582 0.09706608 0.09713478 0.09720187\n",
      " 0.09726743 0.0973316  0.09739462 0.09745674 0.09751824 0.09757936\n",
      " 0.09764034 0.09770139 0.09776266 0.09782428 0.09788635 0.0979489\n",
      " 0.09801194 0.09807549 0.09813949 0.09820393]\n",
      "27 day output [[0.09826873]]\n",
      "28 day input [0.06248948 0.06164762 0.07011425 0.06944077 0.06956103 0.07206254\n",
      " 0.06987372 0.06660253 0.06806975 0.06494287 0.05654841 0.05972339\n",
      " 0.06179194 0.06313891 0.06905592 0.07788334 0.07874925 0.07841251\n",
      " 0.07675286 0.08036079 0.08187613 0.07562237 0.0791341  0.0771377\n",
      " 0.07562237 0.09029465 0.09012628 0.09226699 0.08734817 0.0911365\n",
      " 0.09991581 0.09770295 0.10013229 0.11148527 0.10710764 0.10434155\n",
      " 0.1018641  0.09397474 0.09782321 0.08721587 0.09760673 0.10032471\n",
      " 0.09340177 0.0932181  0.09325322 0.09335493 0.09349555 0.09367977\n",
      " 0.093909   0.09417439 0.09446029 0.09474944 0.09502635 0.09527938\n",
      " 0.0955008  0.09568675 0.09583656 0.09595204 0.09603696 0.09609613\n",
      " 0.0961351  0.09615948 0.09617466 0.09618548 0.09619606 0.09620968\n",
      " 0.09622872 0.09625477 0.09628858 0.09633033 0.09637962 0.09643567\n",
      " 0.09649748 0.09656381 0.09663348 0.09670533 0.09677829 0.09685148\n",
      " 0.09692417 0.09699582 0.09706608 0.09713478 0.09720187 0.09726743\n",
      " 0.0973316  0.09739462 0.09745674 0.09751824 0.09757936 0.09764034\n",
      " 0.09770139 0.09776266 0.09782428 0.09788635 0.0979489  0.09801194\n",
      " 0.09807549 0.09813949 0.09820393 0.09826873]\n",
      "28 day output [[0.09833385]]\n",
      "29 day input [0.06164762 0.07011425 0.06944077 0.06956103 0.07206254 0.06987372\n",
      " 0.06660253 0.06806975 0.06494287 0.05654841 0.05972339 0.06179194\n",
      " 0.06313891 0.06905592 0.07788334 0.07874925 0.07841251 0.07675286\n",
      " 0.08036079 0.08187613 0.07562237 0.0791341  0.0771377  0.07562237\n",
      " 0.09029465 0.09012628 0.09226699 0.08734817 0.0911365  0.09991581\n",
      " 0.09770295 0.10013229 0.11148527 0.10710764 0.10434155 0.1018641\n",
      " 0.09397474 0.09782321 0.08721587 0.09760673 0.10032471 0.09340177\n",
      " 0.0932181  0.09325322 0.09335493 0.09349555 0.09367977 0.093909\n",
      " 0.09417439 0.09446029 0.09474944 0.09502635 0.09527938 0.0955008\n",
      " 0.09568675 0.09583656 0.09595204 0.09603696 0.09609613 0.0961351\n",
      " 0.09615948 0.09617466 0.09618548 0.09619606 0.09620968 0.09622872\n",
      " 0.09625477 0.09628858 0.09633033 0.09637962 0.09643567 0.09649748\n",
      " 0.09656381 0.09663348 0.09670533 0.09677829 0.09685148 0.09692417\n",
      " 0.09699582 0.09706608 0.09713478 0.09720187 0.09726743 0.0973316\n",
      " 0.09739462 0.09745674 0.09751824 0.09757936 0.09764034 0.09770139\n",
      " 0.09776266 0.09782428 0.09788635 0.0979489  0.09801194 0.09807549\n",
      " 0.09813949 0.09820393 0.09826873 0.09833385]\n",
      "29 day output [[0.09839921]]\n",
      "[[0.09649747610092163], [0.09656380861997604], [0.09663347899913788], [0.09670533239841461], [0.09677828848361969], [0.09685148298740387], [0.09692417085170746], [0.09699582308530807], [0.09706608206033707], [0.0971347838640213], [0.097201868891716], [0.09726742655038834], [0.09733159840106964], [0.09739461541175842], [0.09745673835277557], [0.09751824289560318], [0.09757936000823975], [0.09764034301042557], [0.09770138561725616], [0.09776265919208527], [0.09782427549362183], [0.0978863462805748], [0.09794890135526657], [0.09801194071769714], [0.0980754941701889], [0.09813949465751648], [0.09820392727851868], [0.09826873242855072], [0.09833385050296783], [0.09839921444654465]]\n"
     ]
    }
   ],
   "source": [
    "# prediction for the next 30 days\n",
    "\n",
    "lst_output=[]\n",
    "n_steps=100\n",
    "i=0\n",
    "while(i<30):\n",
    "    \n",
    "    if(len(temp_input)>100):\n",
    "        #print(temp_input)\n",
    "        x_input=np.array(temp_input[1:])\n",
    "        print(\"{} day input {}\".format(i,x_input))\n",
    "        x_input=x_input.reshape(1,-1)\n",
    "        x_input = x_input.reshape((1, n_steps, 1))\n",
    "        #print(x_input)\n",
    "        yhat = model.predict(x_input, verbose=0)\n",
    "        print(\"{} day output {}\".format(i,yhat))\n",
    "        temp_input.extend(yhat[0].tolist())\n",
    "        temp_input=temp_input[1:]\n",
    "        #print(temp_input)\n",
    "        lst_output.extend(yhat.tolist())\n",
    "        i=i+1\n",
    "    else:\n",
    "        x_input = x_input.reshape((1, n_steps,1))\n",
    "        yhat = model.predict(x_input, verbose=0)\n",
    "        print(yhat[0])\n",
    "        temp_input.extend(yhat[0].tolist())\n",
    "#         print(len(temp_input))\n",
    "        lst_output.extend(yhat.tolist())\n",
    "        i=i+1\n",
    "    \n",
    "\n",
    "print(lst_output)"
   ]
  },
  {
   "cell_type": "code",
   "execution_count": 104,
   "metadata": {},
   "outputs": [],
   "source": [
    "day_new=np.arange(1,101)\n",
    "day_pred=np.arange(101,131)"
   ]
  },
  {
   "cell_type": "code",
   "execution_count": 105,
   "metadata": {},
   "outputs": [
    {
     "data": {
      "text/plain": [
       "1259"
      ]
     },
     "execution_count": 105,
     "metadata": {},
     "output_type": "execute_result"
    }
   ],
   "source": [
    "len(df)"
   ]
  },
  {
   "cell_type": "code",
   "execution_count": 117,
   "metadata": {},
   "outputs": [
    {
     "data": {
      "text/plain": [
       "[<matplotlib.lines.Line2D at 0x29d022caf48>]"
      ]
     },
     "execution_count": 117,
     "metadata": {},
     "output_type": "execute_result"
    },
    {
     "data": {
      "image/png": "[encoded data removed]",
      "text/plain": [
       "<Figure size 1080x576 with 1 Axes>"
      ]
     },
     "metadata": {
      "needs_background": "light"
     },
     "output_type": "display_data"
    }
   ],
   "source": [
    "plt.figure(figsize=(15,8))\n",
    "plt.plot(day_new,scaler.inverse_transform(df[1159:]))\n",
    "plt.plot(day_pred,scaler.inverse_transform(lst_output))"
   ]
  },
  {
   "cell_type": "code",
   "execution_count": 121,
   "metadata": {},
   "outputs": [
    {
     "data": {
      "text/plain": [
       "[<matplotlib.lines.Line2D at 0x29d02b3efc8>]"
      ]
     },
     "execution_count": 121,
     "metadata": {},
     "output_type": "execute_result"
    },
    {
     "data": {
      "image/png": "[encoded data removed]",
      "text/plain": [
       "<Figure size 1080x576 with 1 Axes>"
      ]
     },
     "metadata": {
      "needs_background": "light"
     },
     "output_type": "display_data"
    }
   ],
   "source": [
    "# Combine predicted with true data\n",
    "\n",
    "df2=df.tolist()\n",
    "df2.extend(lst_output)\n",
    "plt.figure(figsize=(15,8))\n",
    "plt.plot(df2[1200:])"
   ]
  },
  {
   "cell_type": "markdown",
   "metadata": {},
   "source": [
    "### We can say that price slowly and gradually going up after a major drop in 2020 due to shutdown"
   ]
  },
  {
   "cell_type": "code",
   "execution_count": null,
   "metadata": {},
   "outputs": [],
   "source": []
  }
 ],
 "metadata": {
  "kernelspec": {
   "display_name": "Python 3",
   "language": "python",
   "name": "python3"
  },
  "language_info": {
   "codemirror_mode": {
    "name": "ipython",
    "version": 3
   },
   "file_extension": ".py",
   "mimetype": "text/x-python",
   "name": "python",
   "nbconvert_exporter": "python",
   "pygments_lexer": "ipython3",
   "version": "3.7.6"
  }
 },
 "nbformat": 4,
 "nbformat_minor": 4
}
