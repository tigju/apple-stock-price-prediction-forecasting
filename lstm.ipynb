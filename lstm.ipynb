{
 "cells": [
  {
   "cell_type": "markdown",
   "metadata": {},
   "source": [
    "# Apple Stock Price Prediction and Forecasting using LSTM Neural Network"
   ]
  },
  {
   "cell_type": "code",
   "execution_count": 3,
   "metadata": {},
   "outputs": [
    {
     "data": {
      "text/plain": [
       "'2.1.0'"
      ]
     },
     "execution_count": 3,
     "metadata": {},
     "output_type": "execute_result"
    }
   ],
   "source": [
    "import tensorflow as tf\n",
    "tf.__version__"
   ]
  },
  {
   "cell_type": "markdown",
   "metadata": {},
   "source": [
    "### Data collection"
   ]
  },
  {
   "cell_type": "code",
   "execution_count": 4,
   "metadata": {},
   "outputs": [],
   "source": [
    "import pandas_datareader as pdr\n",
    "import os"
   ]
  },
  {
   "cell_type": "code",
   "execution_count": 5,
   "metadata": {},
   "outputs": [],
   "source": [
    "%reload_ext dotenv\n",
    "%dotenv"
   ]
  },
  {
   "cell_type": "code",
   "execution_count": 6,
   "metadata": {},
   "outputs": [],
   "source": [
    "df = pdr.get_data_tiingo('AAPL', api_key=os.getenv('TIINGO_API_KEY'))"
   ]
  },
  {
   "cell_type": "code",
   "execution_count": 7,
   "metadata": {},
   "outputs": [],
   "source": [
    "df.to_csv(\"aapl.csv\")"
   ]
  },
  {
   "cell_type": "code",
   "execution_count": 8,
   "metadata": {},
   "outputs": [],
   "source": [
    "import pandas as pd"
   ]
  },
  {
   "cell_type": "code",
   "execution_count": 9,
   "metadata": {},
   "outputs": [],
   "source": [
    "aapl = pd.read_csv(\"aapl.csv\")"
   ]
  },
  {
   "cell_type": "code",
   "execution_count": 10,
   "metadata": {},
   "outputs": [
    {
     "data": {
      "text/html": [
       "<div>\n",
       "<style scoped>\n",
       "    .dataframe tbody tr th:only-of-type {\n",
       "        vertical-align: middle;\n",
       "    }\n",
       "\n",
       "    .dataframe tbody tr th {\n",
       "        vertical-align: top;\n",
       "    }\n",
       "\n",
       "    .dataframe thead th {\n",
       "        text-align: right;\n",
       "    }\n",
       "</style>\n",
       "<table border=\"1\" class=\"dataframe\">\n",
       "  <thead>\n",
       "    <tr style=\"text-align: right;\">\n",
       "      <th></th>\n",
       "      <th>symbol</th>\n",
       "      <th>date</th>\n",
       "      <th>close</th>\n",
       "      <th>high</th>\n",
       "      <th>low</th>\n",
       "      <th>open</th>\n",
       "      <th>volume</th>\n",
       "      <th>adjClose</th>\n",
       "      <th>adjHigh</th>\n",
       "      <th>adjLow</th>\n",
       "      <th>adjOpen</th>\n",
       "      <th>adjVolume</th>\n",
       "      <th>divCash</th>\n",
       "      <th>splitFactor</th>\n",
       "    </tr>\n",
       "  </thead>\n",
       "  <tbody>\n",
       "    <tr>\n",
       "      <th>0</th>\n",
       "      <td>AAPL</td>\n",
       "      <td>2016-01-11 00:00:00+00:00</td>\n",
       "      <td>98.53</td>\n",
       "      <td>99.06</td>\n",
       "      <td>97.3400</td>\n",
       "      <td>98.97</td>\n",
       "      <td>49739377</td>\n",
       "      <td>22.818423</td>\n",
       "      <td>22.941165</td>\n",
       "      <td>22.542833</td>\n",
       "      <td>22.920322</td>\n",
       "      <td>198957508</td>\n",
       "      <td>0.0</td>\n",
       "      <td>1.0</td>\n",
       "    </tr>\n",
       "    <tr>\n",
       "      <th>1</th>\n",
       "      <td>AAPL</td>\n",
       "      <td>2016-01-12 00:00:00+00:00</td>\n",
       "      <td>99.96</td>\n",
       "      <td>100.69</td>\n",
       "      <td>98.8399</td>\n",
       "      <td>100.55</td>\n",
       "      <td>49154227</td>\n",
       "      <td>23.149595</td>\n",
       "      <td>23.318654</td>\n",
       "      <td>22.890192</td>\n",
       "      <td>23.286232</td>\n",
       "      <td>196616908</td>\n",
       "      <td>0.0</td>\n",
       "      <td>1.0</td>\n",
       "    </tr>\n",
       "    <tr>\n",
       "      <th>2</th>\n",
       "      <td>AAPL</td>\n",
       "      <td>2016-01-13 00:00:00+00:00</td>\n",
       "      <td>97.39</td>\n",
       "      <td>101.19</td>\n",
       "      <td>97.3000</td>\n",
       "      <td>100.32</td>\n",
       "      <td>62439631</td>\n",
       "      <td>22.554412</td>\n",
       "      <td>23.434449</td>\n",
       "      <td>22.533569</td>\n",
       "      <td>23.232967</td>\n",
       "      <td>249758524</td>\n",
       "      <td>0.0</td>\n",
       "      <td>1.0</td>\n",
       "    </tr>\n",
       "    <tr>\n",
       "      <th>3</th>\n",
       "      <td>AAPL</td>\n",
       "      <td>2016-01-14 00:00:00+00:00</td>\n",
       "      <td>99.52</td>\n",
       "      <td>100.48</td>\n",
       "      <td>95.7400</td>\n",
       "      <td>97.96</td>\n",
       "      <td>63170127</td>\n",
       "      <td>23.047696</td>\n",
       "      <td>23.270021</td>\n",
       "      <td>22.172291</td>\n",
       "      <td>22.686417</td>\n",
       "      <td>252680508</td>\n",
       "      <td>0.0</td>\n",
       "      <td>1.0</td>\n",
       "    </tr>\n",
       "    <tr>\n",
       "      <th>4</th>\n",
       "      <td>AAPL</td>\n",
       "      <td>2016-01-15 00:00:00+00:00</td>\n",
       "      <td>97.13</td>\n",
       "      <td>97.71</td>\n",
       "      <td>95.3600</td>\n",
       "      <td>96.20</td>\n",
       "      <td>79833891</td>\n",
       "      <td>22.494199</td>\n",
       "      <td>22.628520</td>\n",
       "      <td>22.084287</td>\n",
       "      <td>22.278822</td>\n",
       "      <td>319335564</td>\n",
       "      <td>0.0</td>\n",
       "      <td>1.0</td>\n",
       "    </tr>\n",
       "  </tbody>\n",
       "</table>\n",
       "</div>"
      ],
      "text/plain": [
       "  symbol                       date  close    high      low    open    volume  \\\n",
       "0   AAPL  2016-01-11 00:00:00+00:00  98.53   99.06  97.3400   98.97  49739377   \n",
       "1   AAPL  2016-01-12 00:00:00+00:00  99.96  100.69  98.8399  100.55  49154227   \n",
       "2   AAPL  2016-01-13 00:00:00+00:00  97.39  101.19  97.3000  100.32  62439631   \n",
       "3   AAPL  2016-01-14 00:00:00+00:00  99.52  100.48  95.7400   97.96  63170127   \n",
       "4   AAPL  2016-01-15 00:00:00+00:00  97.13   97.71  95.3600   96.20  79833891   \n",
       "\n",
       "    adjClose    adjHigh     adjLow    adjOpen  adjVolume  divCash  splitFactor  \n",
       "0  22.818423  22.941165  22.542833  22.920322  198957508      0.0          1.0  \n",
       "1  23.149595  23.318654  22.890192  23.286232  196616908      0.0          1.0  \n",
       "2  22.554412  23.434449  22.533569  23.232967  249758524      0.0          1.0  \n",
       "3  23.047696  23.270021  22.172291  22.686417  252680508      0.0          1.0  \n",
       "4  22.494199  22.628520  22.084287  22.278822  319335564      0.0          1.0  "
      ]
     },
     "execution_count": 10,
     "metadata": {},
     "output_type": "execute_result"
    }
   ],
   "source": [
    "aapl.head()"
   ]
  },
  {
   "cell_type": "code",
   "execution_count": 11,
   "metadata": {},
   "outputs": [
    {
     "data": {
      "text/html": [
       "<div>\n",
       "<style scoped>\n",
       "    .dataframe tbody tr th:only-of-type {\n",
       "        vertical-align: middle;\n",
       "    }\n",
       "\n",
       "    .dataframe tbody tr th {\n",
       "        vertical-align: top;\n",
       "    }\n",
       "\n",
       "    .dataframe thead th {\n",
       "        text-align: right;\n",
       "    }\n",
       "</style>\n",
       "<table border=\"1\" class=\"dataframe\">\n",
       "  <thead>\n",
       "    <tr style=\"text-align: right;\">\n",
       "      <th></th>\n",
       "      <th>symbol</th>\n",
       "      <th>date</th>\n",
       "      <th>close</th>\n",
       "      <th>high</th>\n",
       "      <th>low</th>\n",
       "      <th>open</th>\n",
       "      <th>volume</th>\n",
       "      <th>adjClose</th>\n",
       "      <th>adjHigh</th>\n",
       "      <th>adjLow</th>\n",
       "      <th>adjOpen</th>\n",
       "      <th>adjVolume</th>\n",
       "      <th>divCash</th>\n",
       "      <th>splitFactor</th>\n",
       "    </tr>\n",
       "  </thead>\n",
       "  <tbody>\n",
       "    <tr>\n",
       "      <th>1254</th>\n",
       "      <td>AAPL</td>\n",
       "      <td>2021-01-04 00:00:00+00:00</td>\n",
       "      <td>129.41</td>\n",
       "      <td>133.6116</td>\n",
       "      <td>126.760</td>\n",
       "      <td>133.52</td>\n",
       "      <td>143301887</td>\n",
       "      <td>129.41</td>\n",
       "      <td>133.6116</td>\n",
       "      <td>126.760</td>\n",
       "      <td>133.52</td>\n",
       "      <td>143301887</td>\n",
       "      <td>0.0</td>\n",
       "      <td>1.0</td>\n",
       "    </tr>\n",
       "    <tr>\n",
       "      <th>1255</th>\n",
       "      <td>AAPL</td>\n",
       "      <td>2021-01-05 00:00:00+00:00</td>\n",
       "      <td>131.01</td>\n",
       "      <td>131.7400</td>\n",
       "      <td>128.430</td>\n",
       "      <td>128.89</td>\n",
       "      <td>97664898</td>\n",
       "      <td>131.01</td>\n",
       "      <td>131.7400</td>\n",
       "      <td>128.430</td>\n",
       "      <td>128.89</td>\n",
       "      <td>97664898</td>\n",
       "      <td>0.0</td>\n",
       "      <td>1.0</td>\n",
       "    </tr>\n",
       "    <tr>\n",
       "      <th>1256</th>\n",
       "      <td>AAPL</td>\n",
       "      <td>2021-01-06 00:00:00+00:00</td>\n",
       "      <td>126.60</td>\n",
       "      <td>131.0499</td>\n",
       "      <td>126.382</td>\n",
       "      <td>127.72</td>\n",
       "      <td>155087970</td>\n",
       "      <td>126.60</td>\n",
       "      <td>131.0499</td>\n",
       "      <td>126.382</td>\n",
       "      <td>127.72</td>\n",
       "      <td>155087970</td>\n",
       "      <td>0.0</td>\n",
       "      <td>1.0</td>\n",
       "    </tr>\n",
       "    <tr>\n",
       "      <th>1257</th>\n",
       "      <td>AAPL</td>\n",
       "      <td>2021-01-07 00:00:00+00:00</td>\n",
       "      <td>130.92</td>\n",
       "      <td>131.6300</td>\n",
       "      <td>127.860</td>\n",
       "      <td>128.36</td>\n",
       "      <td>109578157</td>\n",
       "      <td>130.92</td>\n",
       "      <td>131.6300</td>\n",
       "      <td>127.860</td>\n",
       "      <td>128.36</td>\n",
       "      <td>109578157</td>\n",
       "      <td>0.0</td>\n",
       "      <td>1.0</td>\n",
       "    </tr>\n",
       "    <tr>\n",
       "      <th>1258</th>\n",
       "      <td>AAPL</td>\n",
       "      <td>2021-01-08 00:00:00+00:00</td>\n",
       "      <td>132.05</td>\n",
       "      <td>132.6300</td>\n",
       "      <td>130.230</td>\n",
       "      <td>132.43</td>\n",
       "      <td>105158245</td>\n",
       "      <td>132.05</td>\n",
       "      <td>132.6300</td>\n",
       "      <td>130.230</td>\n",
       "      <td>132.43</td>\n",
       "      <td>105158245</td>\n",
       "      <td>0.0</td>\n",
       "      <td>1.0</td>\n",
       "    </tr>\n",
       "  </tbody>\n",
       "</table>\n",
       "</div>"
      ],
      "text/plain": [
       "     symbol                       date   close      high      low    open  \\\n",
       "1254   AAPL  2021-01-04 00:00:00+00:00  129.41  133.6116  126.760  133.52   \n",
       "1255   AAPL  2021-01-05 00:00:00+00:00  131.01  131.7400  128.430  128.89   \n",
       "1256   AAPL  2021-01-06 00:00:00+00:00  126.60  131.0499  126.382  127.72   \n",
       "1257   AAPL  2021-01-07 00:00:00+00:00  130.92  131.6300  127.860  128.36   \n",
       "1258   AAPL  2021-01-08 00:00:00+00:00  132.05  132.6300  130.230  132.43   \n",
       "\n",
       "         volume  adjClose   adjHigh   adjLow  adjOpen  adjVolume  divCash  \\\n",
       "1254  143301887    129.41  133.6116  126.760   133.52  143301887      0.0   \n",
       "1255   97664898    131.01  131.7400  128.430   128.89   97664898      0.0   \n",
       "1256  155087970    126.60  131.0499  126.382   127.72  155087970      0.0   \n",
       "1257  109578157    130.92  131.6300  127.860   128.36  109578157      0.0   \n",
       "1258  105158245    132.05  132.6300  130.230   132.43  105158245      0.0   \n",
       "\n",
       "      splitFactor  \n",
       "1254          1.0  \n",
       "1255          1.0  \n",
       "1256          1.0  \n",
       "1257          1.0  \n",
       "1258          1.0  "
      ]
     },
     "execution_count": 11,
     "metadata": {},
     "output_type": "execute_result"
    }
   ],
   "source": [
    "aapl.tail()"
   ]
  },
  {
   "cell_type": "code",
   "execution_count": 12,
   "metadata": {},
   "outputs": [
    {
     "data": {
      "text/plain": [
       "count    1259.000000\n",
       "mean      182.673928\n",
       "std        75.620351\n",
       "min        90.340000\n",
       "25%       120.040000\n",
       "50%       170.410000\n",
       "75%       209.435000\n",
       "max       506.090000\n",
       "Name: close, dtype: float64"
      ]
     },
     "execution_count": 12,
     "metadata": {},
     "output_type": "execute_result"
    }
   ],
   "source": [
    "aapl[\"close\"].describe()"
   ]
  },
  {
   "cell_type": "code",
   "execution_count": 13,
   "metadata": {},
   "outputs": [],
   "source": [
    "df = aapl[\"close\"]"
   ]
  },
  {
   "cell_type": "code",
   "execution_count": 14,
   "metadata": {},
   "outputs": [
    {
     "data": {
      "text/plain": [
       "(1259,)"
      ]
     },
     "execution_count": 14,
     "metadata": {},
     "output_type": "execute_result"
    }
   ],
   "source": [
    "df.shape"
   ]
  },
  {
   "cell_type": "code",
   "execution_count": 15,
   "metadata": {},
   "outputs": [
    {
     "data": {
      "text/plain": [
       "[<matplotlib.lines.Line2D at 0x2602cbfd308>]"
      ]
     },
     "execution_count": 15,
     "metadata": {},
     "output_type": "execute_result"
    },
    {
     "data": {
      "image/png": "[encoded data removed]",
      "text/plain": [
       "<Figure size 432x288 with 1 Axes>"
      ]
     },
     "metadata": {
      "needs_background": "light"
     },
     "output_type": "display_data"
    }
   ],
   "source": [
    "import matplotlib.pyplot as plt\n",
    "\n",
    "plt.plot(df)"
   ]
  },
  {
   "cell_type": "markdown",
   "metadata": {},
   "source": [
    "### Data Preprocessing"
   ]
  },
  {
   "cell_type": "markdown",
   "metadata": {},
   "source": [
    "#### LSTM are sensitive to the scale of the data. We will apply MinMax Scaler"
   ]
  },
  {
   "cell_type": "code",
   "execution_count": 16,
   "metadata": {},
   "outputs": [],
   "source": [
    "import numpy as np"
   ]
  },
  {
   "cell_type": "code",
   "execution_count": 17,
   "metadata": {},
   "outputs": [],
   "source": [
    "from sklearn.preprocessing import MinMaxScaler\n",
    "\n",
    "scaler = MinMaxScaler(feature_range=(0,1))\n",
    "df = scaler.fit_transform(np.array(df).reshape(-1,1))"
   ]
  },
  {
   "cell_type": "code",
   "execution_count": 18,
   "metadata": {},
   "outputs": [
    {
     "data": {
      "text/plain": [
       "array([[0.01969934],\n",
       "       [0.02313891],\n",
       "       [0.01695731],\n",
       "       ...,\n",
       "       [0.08721587],\n",
       "       [0.09760673],\n",
       "       [0.10032471]])"
      ]
     },
     "execution_count": 18,
     "metadata": {},
     "output_type": "execute_result"
    }
   ],
   "source": [
    "df"
   ]
  },
  {
   "cell_type": "markdown",
   "metadata": {},
   "source": [
    "#### For timeseries data train test split performed by date (because tomorrow's day can be dependent on today's day, and today's day is dependent on yesterday's day)"
   ]
  },
  {
   "cell_type": "code",
   "execution_count": 19,
   "metadata": {},
   "outputs": [],
   "source": [
    "training_size = int(len(df)*0.7)\n",
    "test_size = len(df) - training_size\n",
    "train, test = df[0:training_size,:], df[training_size:len(df), :1]"
   ]
  },
  {
   "cell_type": "code",
   "execution_count": 20,
   "metadata": {},
   "outputs": [
    {
     "data": {
      "text/plain": [
       "((881, 1), (378, 1))"
      ]
     },
     "execution_count": 20,
     "metadata": {},
     "output_type": "execute_result"
    }
   ],
   "source": [
    "train.shape, test.shape"
   ]
  },
  {
   "cell_type": "code",
   "execution_count": 21,
   "metadata": {},
   "outputs": [],
   "source": [
    "# convert array of values into dataset matrix\n",
    "\n",
    "def create_dataset(dataset, time_step=1):\n",
    "    dataX, dataY = [], []\n",
    "    for i in range(len(dataset)-time_step-1):\n",
    "        a = dataset[i:(i+time_step), 0]\n",
    "        dataX.append(a)\n",
    "        dataY.append(dataset[i+time_step, 0])\n",
    "    return np.array(dataX), np.array(dataY)\n",
    "    "
   ]
  },
  {
   "cell_type": "code",
   "execution_count": 22,
   "metadata": {},
   "outputs": [],
   "source": [
    "time_step = 100\n",
    "X_train, y_train = create_dataset(train, time_step)\n",
    "X_test, y_test = create_dataset(test, time_step)"
   ]
  },
  {
   "cell_type": "code",
   "execution_count": 23,
   "metadata": {},
   "outputs": [
    {
     "data": {
      "text/plain": [
       "((780, 100), (277, 100))"
      ]
     },
     "execution_count": 23,
     "metadata": {},
     "output_type": "execute_result"
    }
   ],
   "source": [
    "X_train.shape, X_test.shape"
   ]
  },
  {
   "cell_type": "markdown",
   "metadata": {},
   "source": [
    "### Create LSTM model"
   ]
  },
  {
   "cell_type": "markdown",
   "metadata": {},
   "source": [
    "#### Reshape data in 3 dimentions for LSTM (requirement) [samples, time_step, features]"
   ]
  },
  {
   "cell_type": "code",
   "execution_count": 24,
   "metadata": {},
   "outputs": [],
   "source": [
    "X_train = X_train.reshape(X_train.shape[0], X_train.shape[1], 1)\n",
    "X_test = X_test.reshape(X_test.shape[0], X_test.shape[1], 1)"
   ]
  },
  {
   "cell_type": "code",
   "execution_count": 25,
   "metadata": {},
   "outputs": [],
   "source": [
    "### Create LSTM model\n",
    "from tensorflow.keras.models import Sequential\n",
    "from tensorflow.keras.layers import Dense\n",
    "from tensorflow.keras.layers import LSTM"
   ]
  },
  {
   "cell_type": "code",
   "execution_count": 26,
   "metadata": {},
   "outputs": [],
   "source": [
    "# create stacked LSTM model\n",
    "model = Sequential()\n",
    "model.add(LSTM(50, return_sequences=True, input_shape=(100,1)))\n",
    "model.add(LSTM(50, return_sequences=True))\n",
    "model.add(LSTM(50))\n",
    "model.add(Dense(1))\n",
    "model.compile(loss=\"mean_squared_error\", optimizer=\"adam\")"
   ]
  },
  {
   "cell_type": "code",
   "execution_count": 27,
   "metadata": {},
   "outputs": [
    {
     "name": "stdout",
     "output_type": "stream",
     "text": [
      "Model: \"sequential\"\n",
      "_________________________________________________________________\n",
      "Layer (type)                 Output Shape              Param #   \n",
      "=================================================================\n",
      "lstm (LSTM)                  (None, 100, 50)           10400     \n",
      "_________________________________________________________________\n",
      "lstm_1 (LSTM)                (None, 100, 50)           20200     \n",
      "_________________________________________________________________\n",
      "lstm_2 (LSTM)                (None, 50)                20200     \n",
      "_________________________________________________________________\n",
      "dense (Dense)                (None, 1)                 51        \n",
      "=================================================================\n",
      "Total params: 50,851\n",
      "Trainable params: 50,851\n",
      "Non-trainable params: 0\n",
      "_________________________________________________________________\n"
     ]
    }
   ],
   "source": [
    "model.summary()"
   ]
  },
  {
   "cell_type": "code",
   "execution_count": 28,
   "metadata": {},
   "outputs": [
    {
     "name": "stdout",
     "output_type": "stream",
     "text": [
      "Train on 780 samples, validate on 277 samples\n",
      "Epoch 1/100\n",
      "780/780 [==============================] - 5s 6ms/sample - loss: 0.0095 - val_loss: 0.0633\n",
      "Epoch 2/100\n",
      "780/780 [==============================] - 0s 526us/sample - loss: 0.0020 - val_loss: 0.0300\n",
      "Epoch 3/100\n",
      "780/780 [==============================] - 0s 477us/sample - loss: 6.7105e-04 - val_loss: 0.0273\n",
      "Epoch 4/100\n",
      "780/780 [==============================] - 0s 460us/sample - loss: 4.7502e-04 - val_loss: 0.0267\n",
      "Epoch 5/100\n",
      "780/780 [==============================] - 0s 471us/sample - loss: 4.3492e-04 - val_loss: 0.0242\n",
      "Epoch 6/100\n",
      "780/780 [==============================] - 0s 470us/sample - loss: 4.1273e-04 - val_loss: 0.0236\n",
      "Epoch 7/100\n",
      "780/780 [==============================] - 0s 477us/sample - loss: 3.8892e-04 - val_loss: 0.0230\n",
      "Epoch 8/100\n",
      "780/780 [==============================] - 0s 520us/sample - loss: 3.6558e-04 - val_loss: 0.0223\n",
      "Epoch 9/100\n",
      "780/780 [==============================] - 0s 504us/sample - loss: 3.4389e-04 - val_loss: 0.0217\n",
      "Epoch 10/100\n",
      "780/780 [==============================] - 0s 516us/sample - loss: 3.3704e-04 - val_loss: 0.0212\n",
      "Epoch 11/100\n",
      "780/780 [==============================] - 0s 494us/sample - loss: 3.1198e-04 - val_loss: 0.0209\n",
      "Epoch 12/100\n",
      "780/780 [==============================] - 0s 502us/sample - loss: 3.1914e-04 - val_loss: 0.0202\n",
      "Epoch 13/100\n",
      "780/780 [==============================] - 0s 521us/sample - loss: 2.9543e-04 - val_loss: 0.0195\n",
      "Epoch 14/100\n",
      "780/780 [==============================] - 0s 512us/sample - loss: 2.8237e-04 - val_loss: 0.0193\n",
      "Epoch 15/100\n",
      "780/780 [==============================] - 0s 499us/sample - loss: 3.1517e-04 - val_loss: 0.0183\n",
      "Epoch 16/100\n",
      "780/780 [==============================] - 0s 509us/sample - loss: 2.6338e-04 - val_loss: 0.0180\n",
      "Epoch 17/100\n",
      "780/780 [==============================] - 0s 505us/sample - loss: 2.5011e-04 - val_loss: 0.0176\n",
      "Epoch 18/100\n",
      "780/780 [==============================] - 0s 481us/sample - loss: 2.6728e-04 - val_loss: 0.0167\n",
      "Epoch 19/100\n",
      "780/780 [==============================] - 0s 491us/sample - loss: 2.8357e-04 - val_loss: 0.0166\n",
      "Epoch 20/100\n",
      "780/780 [==============================] - 0s 487us/sample - loss: 2.4638e-04 - val_loss: 0.0164\n",
      "Epoch 21/100\n",
      "780/780 [==============================] - 0s 447us/sample - loss: 2.2578e-04 - val_loss: 0.0168\n",
      "Epoch 22/100\n",
      "780/780 [==============================] - 0s 483us/sample - loss: 2.2632e-04 - val_loss: 0.0159\n",
      "Epoch 23/100\n",
      "780/780 [==============================] - 0s 467us/sample - loss: 2.1746e-04 - val_loss: 0.0152\n",
      "Epoch 24/100\n",
      "780/780 [==============================] - 0s 474us/sample - loss: 2.2788e-04 - val_loss: 0.0162\n",
      "Epoch 25/100\n",
      "780/780 [==============================] - 0s 510us/sample - loss: 2.3454e-04 - val_loss: 0.0143\n",
      "Epoch 26/100\n",
      "780/780 [==============================] - 0s 506us/sample - loss: 2.6618e-04 - val_loss: 0.0146\n",
      "Epoch 27/100\n",
      "780/780 [==============================] - 0s 473us/sample - loss: 2.5056e-04 - val_loss: 0.0162\n",
      "Epoch 28/100\n",
      "780/780 [==============================] - 0s 486us/sample - loss: 2.3318e-04 - val_loss: 0.0140\n",
      "Epoch 29/100\n",
      "780/780 [==============================] - 0s 495us/sample - loss: 2.0010e-04 - val_loss: 0.0164\n",
      "Epoch 30/100\n",
      "780/780 [==============================] - 0s 499us/sample - loss: 2.4898e-04 - val_loss: 0.0135\n",
      "Epoch 31/100\n",
      "780/780 [==============================] - 0s 453us/sample - loss: 2.2053e-04 - val_loss: 0.0139\n",
      "Epoch 32/100\n",
      "780/780 [==============================] - 0s 493us/sample - loss: 1.9913e-04 - val_loss: 0.0140\n",
      "Epoch 33/100\n",
      "780/780 [==============================] - 0s 500us/sample - loss: 1.9378e-04 - val_loss: 0.0138\n",
      "Epoch 34/100\n",
      "780/780 [==============================] - 0s 492us/sample - loss: 1.8421e-04 - val_loss: 0.0130\n",
      "Epoch 35/100\n",
      "780/780 [==============================] - 0s 491us/sample - loss: 1.8601e-04 - val_loss: 0.0145\n",
      "Epoch 36/100\n",
      "780/780 [==============================] - 0s 485us/sample - loss: 1.8800e-04 - val_loss: 0.0121\n",
      "Epoch 37/100\n",
      "780/780 [==============================] - 0s 496us/sample - loss: 1.8634e-04 - val_loss: 0.0125\n",
      "Epoch 38/100\n",
      "780/780 [==============================] - 0s 490us/sample - loss: 1.7216e-04 - val_loss: 0.0126\n",
      "Epoch 39/100\n",
      "780/780 [==============================] - 0s 484us/sample - loss: 1.7087e-04 - val_loss: 0.0123\n",
      "Epoch 40/100\n",
      "780/780 [==============================] - 0s 491us/sample - loss: 1.7438e-04 - val_loss: 0.0123\n",
      "Epoch 41/100\n",
      "780/780 [==============================] - 0s 468us/sample - loss: 1.7324e-04 - val_loss: 0.0128\n",
      "Epoch 42/100\n",
      "780/780 [==============================] - 0s 557us/sample - loss: 2.2732e-04 - val_loss: 0.0109\n",
      "Epoch 43/100\n",
      "780/780 [==============================] - 0s 557us/sample - loss: 1.8418e-04 - val_loss: 0.0113\n",
      "Epoch 44/100\n",
      "780/780 [==============================] - 0s 501us/sample - loss: 1.8752e-04 - val_loss: 0.0120\n",
      "Epoch 45/100\n",
      "780/780 [==============================] - 0s 521us/sample - loss: 1.7024e-04 - val_loss: 0.0119\n",
      "Epoch 46/100\n",
      "780/780 [==============================] - 0s 496us/sample - loss: 1.7337e-04 - val_loss: 0.0109\n",
      "Epoch 47/100\n",
      "780/780 [==============================] - 0s 503us/sample - loss: 1.5738e-04 - val_loss: 0.0115\n",
      "Epoch 48/100\n",
      "780/780 [==============================] - 0s 505us/sample - loss: 1.6191e-04 - val_loss: 0.0115\n",
      "Epoch 49/100\n",
      "780/780 [==============================] - 0s 486us/sample - loss: 1.6820e-04 - val_loss: 0.0111\n",
      "Epoch 50/100\n",
      "780/780 [==============================] - 0s 488us/sample - loss: 1.5951e-04 - val_loss: 0.0103\n",
      "Epoch 51/100\n",
      "780/780 [==============================] - 0s 497us/sample - loss: 1.6039e-04 - val_loss: 0.0112\n",
      "Epoch 52/100\n",
      "780/780 [==============================] - 0s 496us/sample - loss: 1.5771e-04 - val_loss: 0.0115\n",
      "Epoch 53/100\n",
      "780/780 [==============================] - 0s 498us/sample - loss: 1.5927e-04 - val_loss: 0.0109\n",
      "Epoch 54/100\n",
      "780/780 [==============================] - 0s 513us/sample - loss: 1.6905e-04 - val_loss: 0.0103\n",
      "Epoch 55/100\n",
      "780/780 [==============================] - 0s 517us/sample - loss: 1.7435e-04 - val_loss: 0.0096\n",
      "Epoch 56/100\n",
      "780/780 [==============================] - 0s 487us/sample - loss: 1.9898e-04 - val_loss: 0.0116\n",
      "Epoch 57/100\n",
      "780/780 [==============================] - 0s 527us/sample - loss: 1.6436e-04 - val_loss: 0.0095\n",
      "Epoch 58/100\n",
      "780/780 [==============================] - 0s 499us/sample - loss: 1.5866e-04 - val_loss: 0.0105\n",
      "Epoch 59/100\n",
      "780/780 [==============================] - 0s 511us/sample - loss: 1.4502e-04 - val_loss: 0.0106\n",
      "Epoch 60/100\n",
      "780/780 [==============================] - 0s 502us/sample - loss: 1.4605e-04 - val_loss: 0.0094\n",
      "Epoch 61/100\n",
      "780/780 [==============================] - 0s 580us/sample - loss: 1.6425e-04 - val_loss: 0.0097\n",
      "Epoch 62/100\n",
      "780/780 [==============================] - 0s 541us/sample - loss: 1.5476e-04 - val_loss: 0.0102\n",
      "Epoch 63/100\n",
      "780/780 [==============================] - 0s 549us/sample - loss: 1.5669e-04 - val_loss: 0.0097\n",
      "Epoch 64/100\n",
      "780/780 [==============================] - 0s 519us/sample - loss: 1.4402e-04 - val_loss: 0.0093\n",
      "Epoch 65/100\n",
      "780/780 [==============================] - 0s 533us/sample - loss: 1.3336e-04 - val_loss: 0.0098\n",
      "Epoch 66/100\n",
      "780/780 [==============================] - 0s 531us/sample - loss: 1.3996e-04 - val_loss: 0.0101\n",
      "Epoch 67/100\n",
      "780/780 [==============================] - 0s 511us/sample - loss: 1.3116e-04 - val_loss: 0.0095\n",
      "Epoch 68/100\n",
      "780/780 [==============================] - 0s 531us/sample - loss: 1.2672e-04 - val_loss: 0.0096\n",
      "Epoch 69/100\n",
      "780/780 [==============================] - 0s 509us/sample - loss: 1.2572e-04 - val_loss: 0.0093\n",
      "Epoch 70/100\n",
      "780/780 [==============================] - 0s 503us/sample - loss: 1.2805e-04 - val_loss: 0.0093\n",
      "Epoch 71/100\n",
      "780/780 [==============================] - 0s 498us/sample - loss: 1.3318e-04 - val_loss: 0.0097\n",
      "Epoch 72/100\n",
      "780/780 [==============================] - 0s 516us/sample - loss: 1.2428e-04 - val_loss: 0.0092\n",
      "Epoch 73/100\n",
      "780/780 [==============================] - 0s 534us/sample - loss: 1.2355e-04 - val_loss: 0.0091\n",
      "Epoch 74/100\n",
      "780/780 [==============================] - 0s 516us/sample - loss: 1.2212e-04 - val_loss: 0.0091\n",
      "Epoch 75/100\n",
      "780/780 [==============================] - 0s 505us/sample - loss: 1.2411e-04 - val_loss: 0.0095\n",
      "Epoch 76/100\n",
      "780/780 [==============================] - 0s 505us/sample - loss: 1.2238e-04 - val_loss: 0.0089\n",
      "Epoch 77/100\n",
      "780/780 [==============================] - 0s 532us/sample - loss: 1.3290e-04 - val_loss: 0.0089\n",
      "Epoch 78/100\n",
      "780/780 [==============================] - 0s 510us/sample - loss: 1.3237e-04 - val_loss: 0.0088\n",
      "Epoch 79/100\n",
      "780/780 [==============================] - 0s 536us/sample - loss: 1.1835e-04 - val_loss: 0.0090\n",
      "Epoch 80/100\n",
      "780/780 [==============================] - 0s 481us/sample - loss: 1.1274e-04 - val_loss: 0.0086\n",
      "Epoch 81/100\n",
      "780/780 [==============================] - 0s 540us/sample - loss: 1.2243e-04 - val_loss: 0.0087\n",
      "Epoch 82/100\n",
      "780/780 [==============================] - 0s 516us/sample - loss: 1.1075e-04 - val_loss: 0.0084\n",
      "Epoch 83/100\n",
      "780/780 [==============================] - 0s 504us/sample - loss: 1.1006e-04 - val_loss: 0.0085\n",
      "Epoch 84/100\n",
      "780/780 [==============================] - 0s 531us/sample - loss: 1.1164e-04 - val_loss: 0.0082\n",
      "Epoch 85/100\n",
      "780/780 [==============================] - 0s 517us/sample - loss: 1.1430e-04 - val_loss: 0.0089\n",
      "Epoch 86/100\n",
      "780/780 [==============================] - 0s 535us/sample - loss: 1.2683e-04 - val_loss: 0.0086\n",
      "Epoch 87/100\n",
      "780/780 [==============================] - 0s 504us/sample - loss: 1.3889e-04 - val_loss: 0.0079\n",
      "Epoch 88/100\n",
      "780/780 [==============================] - 0s 525us/sample - loss: 1.1063e-04 - val_loss: 0.0080\n",
      "Epoch 89/100\n",
      "780/780 [==============================] - 0s 513us/sample - loss: 1.0716e-04 - val_loss: 0.0080\n",
      "Epoch 90/100\n",
      "780/780 [==============================] - 0s 523us/sample - loss: 1.0871e-04 - val_loss: 0.0083\n",
      "Epoch 91/100\n",
      "780/780 [==============================] - 0s 498us/sample - loss: 1.1759e-04 - val_loss: 0.0078\n",
      "Epoch 92/100\n",
      "780/780 [==============================] - 0s 515us/sample - loss: 1.0945e-04 - val_loss: 0.0079\n",
      "Epoch 93/100\n",
      "780/780 [==============================] - 0s 511us/sample - loss: 1.0775e-04 - val_loss: 0.0080\n",
      "Epoch 94/100\n",
      "780/780 [==============================] - 0s 513us/sample - loss: 1.0446e-04 - val_loss: 0.0078\n",
      "Epoch 95/100\n",
      "780/780 [==============================] - 0s 558us/sample - loss: 1.0599e-04 - val_loss: 0.0075\n",
      "Epoch 96/100\n",
      "780/780 [==============================] - 0s 508us/sample - loss: 1.1575e-04 - val_loss: 0.0079\n",
      "Epoch 97/100\n",
      "780/780 [==============================] - 0s 533us/sample - loss: 1.1136e-04 - val_loss: 0.0075\n",
      "Epoch 98/100\n",
      "780/780 [==============================] - 0s 520us/sample - loss: 9.6518e-05 - val_loss: 0.0074\n",
      "Epoch 99/100\n",
      "780/780 [==============================] - 0s 523us/sample - loss: 9.7762e-05 - val_loss: 0.0074\n",
      "Epoch 100/100\n",
      "780/780 [==============================] - 0s 501us/sample - loss: 9.5136e-05 - val_loss: 0.0071\n"
     ]
    },
    {
     "data": {
      "text/plain": [
       "<tensorflow.python.keras.callbacks.History at 0x2607084a888>"
      ]
     },
     "execution_count": 28,
     "metadata": {},
     "output_type": "execute_result"
    }
   ],
   "source": [
    "model.fit(X_train, y_train, validation_data=(X_test, y_test), epochs=100, batch_size=64, verbose=1)"
   ]
  },
  {
   "cell_type": "code",
   "execution_count": 29,
   "metadata": {},
   "outputs": [],
   "source": [
    "# Let's do the predict train and test\n",
    "train_predict = model.predict(X_train)\n",
    "test_predict = model.predict(X_test)"
   ]
  },
  {
   "cell_type": "code",
   "execution_count": 30,
   "metadata": {},
   "outputs": [],
   "source": [
    "# transform back the data to it's original form\n",
    "train_predict = scaler.inverse_transform(train_predict)\n",
    "test_predict = scaler.inverse_transform(test_predict)"
   ]
  },
  {
   "cell_type": "code",
   "execution_count": 31,
   "metadata": {},
   "outputs": [
    {
     "data": {
      "text/plain": [
       "165.19399243313273"
      ]
     },
     "execution_count": 31,
     "metadata": {},
     "output_type": "execute_result"
    }
   ],
   "source": [
    "# Calculate RMSE performance metrics\n",
    "from sklearn.metrics import mean_squared_error\n",
    "np.sqrt(mean_squared_error(y_train, train_predict))"
   ]
  },
  {
   "cell_type": "code",
   "execution_count": 32,
   "metadata": {},
   "outputs": [
    {
     "data": {
      "text/plain": [
       "281.38316512519566"
      ]
     },
     "execution_count": 32,
     "metadata": {},
     "output_type": "execute_result"
    }
   ],
   "source": [
    "# Test data RMSE\n",
    "np.sqrt(mean_squared_error(y_test, test_predict))"
   ]
  },
  {
   "cell_type": "code",
   "execution_count": 33,
   "metadata": {},
   "outputs": [
    {
     "data": {
      "image/png": "[encoded data removed]",
      "text/plain": [
       "<Figure size 1440x720 with 1 Axes>"
      ]
     },
     "metadata": {
      "needs_background": "light"
     },
     "output_type": "display_data"
    }
   ],
   "source": [
    "# shift train prediction for ploting\n",
    "trainPredictPlot = np.empty_like(df)\n",
    "trainPredictPlot[:,:] = np.nan\n",
    "trainPredictPlot[100:len(train_predict)+100, :] = train_predict\n",
    "\n",
    "# shift test prediction for plotting\n",
    "testPredictPlot = np.empty_like(df)\n",
    "testPredictPlot[:,:] = np.nan\n",
    "testPredictPlot[len(train_predict)+(100*2)+1:len(df)-1, :] = test_predict\n",
    "\n",
    "# plot baseline and predictions\n",
    "plt.figure(figsize=(20,10))\n",
    "plt.plot(scaler.inverse_transform(df))\n",
    "plt.plot(trainPredictPlot)\n",
    "plt.plot(testPredictPlot)\n",
    "plt.show()"
   ]
  },
  {
   "cell_type": "markdown",
   "metadata": {},
   "source": [
    "### Predict future 30 days"
   ]
  },
  {
   "cell_type": "code",
   "execution_count": 34,
   "metadata": {},
   "outputs": [
    {
     "data": {
      "text/plain": [
       "378"
      ]
     },
     "execution_count": 34,
     "metadata": {},
     "output_type": "execute_result"
    }
   ],
   "source": [
    "len(test)"
   ]
  },
  {
   "cell_type": "code",
   "execution_count": 35,
   "metadata": {},
   "outputs": [],
   "source": [
    "# take last 100 days from test data\n",
    "x_input = test[278:].reshape(1,-1)"
   ]
  },
  {
   "cell_type": "code",
   "execution_count": 36,
   "metadata": {},
   "outputs": [
    {
     "data": {
      "text/plain": [
       "(1, 100)"
      ]
     },
     "execution_count": 36,
     "metadata": {},
     "output_type": "execute_result"
    }
   ],
   "source": [
    "x_input.shape"
   ]
  },
  {
   "cell_type": "code",
   "execution_count": 37,
   "metadata": {},
   "outputs": [
    {
     "data": {
      "text/plain": [
       "array([[0.89455201, 0.89594708, 0.92064943, 0.97929044, 0.99360192,\n",
       "        0.98366807, 1.        , 0.98544799, 0.9834997 , 0.09308479,\n",
       "        0.10544799, 0.09876127, 0.07345761, 0.07365003, 0.05407096,\n",
       "        0.06489477, 0.0556825 , 0.05209862, 0.06016837, 0.06061335,\n",
       "        0.0524113 , 0.04810583, 0.03968731, 0.04748046, 0.05164161,\n",
       "        0.04036079, 0.04300661, 0.0527721 , 0.05921828, 0.05712568,\n",
       "        0.06126278, 0.06361996, 0.05455201, 0.06292243, 0.05488876,\n",
       "        0.05950692, 0.05924233, 0.06405292, 0.08192423, 0.07398677,\n",
       "        0.07420325, 0.07304871, 0.06898376, 0.06167168, 0.06535177,\n",
       "        0.06381239, 0.06111846, 0.0594107 , 0.05943476, 0.06316296,\n",
       "        0.05017438, 0.06008419, 0.044546  , 0.04432952, 0.04834636,\n",
       "        0.05919423, 0.06900782, 0.06819002, 0.06248948, 0.06164762,\n",
       "        0.07011425, 0.06944077, 0.06956103, 0.07206254, 0.06987372,\n",
       "        0.06660253, 0.06806975, 0.06494287, 0.05654841, 0.05972339,\n",
       "        0.06179194, 0.06313891, 0.06905592, 0.07788334, 0.07874925,\n",
       "        0.07841251, 0.07675286, 0.08036079, 0.08187613, 0.07562237,\n",
       "        0.0791341 , 0.0771377 , 0.07562237, 0.09029465, 0.09012628,\n",
       "        0.09226699, 0.08734817, 0.0911365 , 0.09991581, 0.09770295,\n",
       "        0.10013229, 0.11148527, 0.10710764, 0.10434155, 0.1018641 ,\n",
       "        0.09397474, 0.09782321, 0.08721587, 0.09760673, 0.10032471]])"
      ]
     },
     "execution_count": 37,
     "metadata": {},
     "output_type": "execute_result"
    }
   ],
   "source": [
    "x_input"
   ]
  },
  {
   "cell_type": "code",
   "execution_count": 38,
   "metadata": {},
   "outputs": [],
   "source": [
    "temp_input = list(x_input)\n",
    "temp_input = temp_input[0].tolist()"
   ]
  },
  {
   "cell_type": "code",
   "execution_count": 39,
   "metadata": {},
   "outputs": [
    {
     "data": {
      "text/plain": [
       "[0.89455201443175,\n",
       " 0.8959470835838845,\n",
       " 0.9206494287432352,\n",
       " 0.9792904389657247,\n",
       " 0.9936019242333134,\n",
       " 0.9836680697534577,\n",
       " 1.0,\n",
       " 0.9854479855682503,\n",
       " 0.983499699338545,\n",
       " 0.09308478653036678,\n",
       " 0.10544798556825014,\n",
       " 0.09876127480457003,\n",
       " 0.07345760673481655,\n",
       " 0.07365003006614551,\n",
       " 0.05407095610342749,\n",
       " 0.06489476849067943,\n",
       " 0.055682501503307225,\n",
       " 0.052098616957306054,\n",
       " 0.0601683704149128,\n",
       " 0.06061334936861096,\n",
       " 0.05241130487071555,\n",
       " 0.04810583283223091,\n",
       " 0.03968731208659049,\n",
       " 0.04748045700541187,\n",
       " 0.05164161154539987,\n",
       " 0.04036079374624174,\n",
       " 0.04300661455201443,\n",
       " 0.05277209861695731,\n",
       " 0.05921828021647624,\n",
       " 0.05712567648827421,\n",
       " 0.06126277811184605,\n",
       " 0.06361996392062536,\n",
       " 0.05455201443174984,\n",
       " 0.062922429344558,\n",
       " 0.05488875526157544,\n",
       " 0.059506915213469624,\n",
       " 0.059242333132892344,\n",
       " 0.06405291641611544,\n",
       " 0.08192423331328924,\n",
       " 0.07398677089597111,\n",
       " 0.07420324714371618,\n",
       " 0.07304870715574258,\n",
       " 0.06898376428141911,\n",
       " 0.061671677690920024,\n",
       " 0.06535177390258567,\n",
       " 0.06381238725195432,\n",
       " 0.06111846061334936,\n",
       " 0.059410703547805144,\n",
       " 0.05943475646422125,\n",
       " 0.06316295850871917,\n",
       " 0.05017438364401683,\n",
       " 0.06008418520745634,\n",
       " 0.04454600120264579,\n",
       " 0.04432952495490078,\n",
       " 0.04834636199639203,\n",
       " 0.05919422730006013,\n",
       " 0.06900781719783522,\n",
       " 0.06819001803968727,\n",
       " 0.062489476849067915,\n",
       " 0.06164762477450386,\n",
       " 0.0701142513529765,\n",
       " 0.0694407696933253,\n",
       " 0.06956103427540589,\n",
       " 0.07206253758268188,\n",
       " 0.06987372218881538,\n",
       " 0.0666025255562237,\n",
       " 0.06806975345760674,\n",
       " 0.0649428743235117,\n",
       " 0.056548406494287384,\n",
       " 0.05972339146121464,\n",
       " 0.06179194227300061,\n",
       " 0.06313890559230306,\n",
       " 0.06905592303066743,\n",
       " 0.07788334335538183,\n",
       " 0.07874924834636199,\n",
       " 0.07841250751653633,\n",
       " 0.07675285628382439,\n",
       " 0.08036079374624172,\n",
       " 0.08187612748045697,\n",
       " 0.07562236921226695,\n",
       " 0.0791340950090198,\n",
       " 0.07713770294648226,\n",
       " 0.07562236921226695,\n",
       " 0.0902946482260974,\n",
       " 0.0901262778111846,\n",
       " 0.09226698737221883,\n",
       " 0.08734816596512324,\n",
       " 0.0911365003006614,\n",
       " 0.09991581479254358,\n",
       " 0.09770294648226097,\n",
       " 0.10013229104028859,\n",
       " 0.11148526758869509,\n",
       " 0.10710763680096214,\n",
       " 0.1043415514131088,\n",
       " 0.10186410102224891,\n",
       " 0.09397474443776305,\n",
       " 0.0978232110643415,\n",
       " 0.08721587492483462,\n",
       " 0.09760673481659649,\n",
       " 0.10032471437161755]"
      ]
     },
     "execution_count": 39,
     "metadata": {},
     "output_type": "execute_result"
    }
   ],
   "source": [
    "temp_input"
   ]
  },
  {
   "cell_type": "code",
   "execution_count": 40,
   "metadata": {},
   "outputs": [
    {
     "name": "stdout",
     "output_type": "stream",
     "text": [
      "[0.10078996]\n",
      "1 day input [0.89594708 0.92064943 0.97929044 0.99360192 0.98366807 1.\n",
      " 0.98544799 0.9834997  0.09308479 0.10544799 0.09876127 0.07345761\n",
      " 0.07365003 0.05407096 0.06489477 0.0556825  0.05209862 0.06016837\n",
      " 0.06061335 0.0524113  0.04810583 0.03968731 0.04748046 0.05164161\n",
      " 0.04036079 0.04300661 0.0527721  0.05921828 0.05712568 0.06126278\n",
      " 0.06361996 0.05455201 0.06292243 0.05488876 0.05950692 0.05924233\n",
      " 0.06405292 0.08192423 0.07398677 0.07420325 0.07304871 0.06898376\n",
      " 0.06167168 0.06535177 0.06381239 0.06111846 0.0594107  0.05943476\n",
      " 0.06316296 0.05017438 0.06008419 0.044546   0.04432952 0.04834636\n",
      " 0.05919423 0.06900782 0.06819002 0.06248948 0.06164762 0.07011425\n",
      " 0.06944077 0.06956103 0.07206254 0.06987372 0.06660253 0.06806975\n",
      " 0.06494287 0.05654841 0.05972339 0.06179194 0.06313891 0.06905592\n",
      " 0.07788334 0.07874925 0.07841251 0.07675286 0.08036079 0.08187613\n",
      " 0.07562237 0.0791341  0.0771377  0.07562237 0.09029465 0.09012628\n",
      " 0.09226699 0.08734817 0.0911365  0.09991581 0.09770295 0.10013229\n",
      " 0.11148527 0.10710764 0.10434155 0.1018641  0.09397474 0.09782321\n",
      " 0.08721587 0.09760673 0.10032471 0.10078996]\n",
      "1 day output [[0.10047784]]\n",
      "2 day input [0.92064943 0.97929044 0.99360192 0.98366807 1.         0.98544799\n",
      " 0.9834997  0.09308479 0.10544799 0.09876127 0.07345761 0.07365003\n",
      " 0.05407096 0.06489477 0.0556825  0.05209862 0.06016837 0.06061335\n",
      " 0.0524113  0.04810583 0.03968731 0.04748046 0.05164161 0.04036079\n",
      " 0.04300661 0.0527721  0.05921828 0.05712568 0.06126278 0.06361996\n",
      " 0.05455201 0.06292243 0.05488876 0.05950692 0.05924233 0.06405292\n",
      " 0.08192423 0.07398677 0.07420325 0.07304871 0.06898376 0.06167168\n",
      " 0.06535177 0.06381239 0.06111846 0.0594107  0.05943476 0.06316296\n",
      " 0.05017438 0.06008419 0.044546   0.04432952 0.04834636 0.05919423\n",
      " 0.06900782 0.06819002 0.06248948 0.06164762 0.07011425 0.06944077\n",
      " 0.06956103 0.07206254 0.06987372 0.06660253 0.06806975 0.06494287\n",
      " 0.05654841 0.05972339 0.06179194 0.06313891 0.06905592 0.07788334\n",
      " 0.07874925 0.07841251 0.07675286 0.08036079 0.08187613 0.07562237\n",
      " 0.0791341  0.0771377  0.07562237 0.09029465 0.09012628 0.09226699\n",
      " 0.08734817 0.0911365  0.09991581 0.09770295 0.10013229 0.11148527\n",
      " 0.10710764 0.10434155 0.1018641  0.09397474 0.09782321 0.08721587\n",
      " 0.09760673 0.10032471 0.10078996 0.10047784]\n",
      "2 day output [[0.10101646]]\n",
      "3 day input [0.97929044 0.99360192 0.98366807 1.         0.98544799 0.9834997\n",
      " 0.09308479 0.10544799 0.09876127 0.07345761 0.07365003 0.05407096\n",
      " 0.06489477 0.0556825  0.05209862 0.06016837 0.06061335 0.0524113\n",
      " 0.04810583 0.03968731 0.04748046 0.05164161 0.04036079 0.04300661\n",
      " 0.0527721  0.05921828 0.05712568 0.06126278 0.06361996 0.05455201\n",
      " 0.06292243 0.05488876 0.05950692 0.05924233 0.06405292 0.08192423\n",
      " 0.07398677 0.07420325 0.07304871 0.06898376 0.06167168 0.06535177\n",
      " 0.06381239 0.06111846 0.0594107  0.05943476 0.06316296 0.05017438\n",
      " 0.06008419 0.044546   0.04432952 0.04834636 0.05919423 0.06900782\n",
      " 0.06819002 0.06248948 0.06164762 0.07011425 0.06944077 0.06956103\n",
      " 0.07206254 0.06987372 0.06660253 0.06806975 0.06494287 0.05654841\n",
      " 0.05972339 0.06179194 0.06313891 0.06905592 0.07788334 0.07874925\n",
      " 0.07841251 0.07675286 0.08036079 0.08187613 0.07562237 0.0791341\n",
      " 0.0771377  0.07562237 0.09029465 0.09012628 0.09226699 0.08734817\n",
      " 0.0911365  0.09991581 0.09770295 0.10013229 0.11148527 0.10710764\n",
      " 0.10434155 0.1018641  0.09397474 0.09782321 0.08721587 0.09760673\n",
      " 0.10032471 0.10078996 0.10047784 0.10101646]\n",
      "3 day output [[0.10208526]]\n",
      "4 day input [0.99360192 0.98366807 1.         0.98544799 0.9834997  0.09308479\n",
      " 0.10544799 0.09876127 0.07345761 0.07365003 0.05407096 0.06489477\n",
      " 0.0556825  0.05209862 0.06016837 0.06061335 0.0524113  0.04810583\n",
      " 0.03968731 0.04748046 0.05164161 0.04036079 0.04300661 0.0527721\n",
      " 0.05921828 0.05712568 0.06126278 0.06361996 0.05455201 0.06292243\n",
      " 0.05488876 0.05950692 0.05924233 0.06405292 0.08192423 0.07398677\n",
      " 0.07420325 0.07304871 0.06898376 0.06167168 0.06535177 0.06381239\n",
      " 0.06111846 0.0594107  0.05943476 0.06316296 0.05017438 0.06008419\n",
      " 0.044546   0.04432952 0.04834636 0.05919423 0.06900782 0.06819002\n",
      " 0.06248948 0.06164762 0.07011425 0.06944077 0.06956103 0.07206254\n",
      " 0.06987372 0.06660253 0.06806975 0.06494287 0.05654841 0.05972339\n",
      " 0.06179194 0.06313891 0.06905592 0.07788334 0.07874925 0.07841251\n",
      " 0.07675286 0.08036079 0.08187613 0.07562237 0.0791341  0.0771377\n",
      " 0.07562237 0.09029465 0.09012628 0.09226699 0.08734817 0.0911365\n",
      " 0.09991581 0.09770295 0.10013229 0.11148527 0.10710764 0.10434155\n",
      " 0.1018641  0.09397474 0.09782321 0.08721587 0.09760673 0.10032471\n",
      " 0.10078996 0.10047784 0.10101646 0.10208526]\n",
      "4 day output [[0.10344102]]\n",
      "5 day input [0.98366807 1.         0.98544799 0.9834997  0.09308479 0.10544799\n",
      " 0.09876127 0.07345761 0.07365003 0.05407096 0.06489477 0.0556825\n",
      " 0.05209862 0.06016837 0.06061335 0.0524113  0.04810583 0.03968731\n",
      " 0.04748046 0.05164161 0.04036079 0.04300661 0.0527721  0.05921828\n",
      " 0.05712568 0.06126278 0.06361996 0.05455201 0.06292243 0.05488876\n",
      " 0.05950692 0.05924233 0.06405292 0.08192423 0.07398677 0.07420325\n",
      " 0.07304871 0.06898376 0.06167168 0.06535177 0.06381239 0.06111846\n",
      " 0.0594107  0.05943476 0.06316296 0.05017438 0.06008419 0.044546\n",
      " 0.04432952 0.04834636 0.05919423 0.06900782 0.06819002 0.06248948\n",
      " 0.06164762 0.07011425 0.06944077 0.06956103 0.07206254 0.06987372\n",
      " 0.06660253 0.06806975 0.06494287 0.05654841 0.05972339 0.06179194\n",
      " 0.06313891 0.06905592 0.07788334 0.07874925 0.07841251 0.07675286\n",
      " 0.08036079 0.08187613 0.07562237 0.0791341  0.0771377  0.07562237\n",
      " 0.09029465 0.09012628 0.09226699 0.08734817 0.0911365  0.09991581\n",
      " 0.09770295 0.10013229 0.11148527 0.10710764 0.10434155 0.1018641\n",
      " 0.09397474 0.09782321 0.08721587 0.09760673 0.10032471 0.10078996\n",
      " 0.10047784 0.10101646 0.10208526 0.10344102]\n",
      "5 day output [[0.1049333]]\n",
      "6 day input [1.         0.98544799 0.9834997  0.09308479 0.10544799 0.09876127\n",
      " 0.07345761 0.07365003 0.05407096 0.06489477 0.0556825  0.05209862\n",
      " 0.06016837 0.06061335 0.0524113  0.04810583 0.03968731 0.04748046\n",
      " 0.05164161 0.04036079 0.04300661 0.0527721  0.05921828 0.05712568\n",
      " 0.06126278 0.06361996 0.05455201 0.06292243 0.05488876 0.05950692\n",
      " 0.05924233 0.06405292 0.08192423 0.07398677 0.07420325 0.07304871\n",
      " 0.06898376 0.06167168 0.06535177 0.06381239 0.06111846 0.0594107\n",
      " 0.05943476 0.06316296 0.05017438 0.06008419 0.044546   0.04432952\n",
      " 0.04834636 0.05919423 0.06900782 0.06819002 0.06248948 0.06164762\n",
      " 0.07011425 0.06944077 0.06956103 0.07206254 0.06987372 0.06660253\n",
      " 0.06806975 0.06494287 0.05654841 0.05972339 0.06179194 0.06313891\n",
      " 0.06905592 0.07788334 0.07874925 0.07841251 0.07675286 0.08036079\n",
      " 0.08187613 0.07562237 0.0791341  0.0771377  0.07562237 0.09029465\n",
      " 0.09012628 0.09226699 0.08734817 0.0911365  0.09991581 0.09770295\n",
      " 0.10013229 0.11148527 0.10710764 0.10434155 0.1018641  0.09397474\n",
      " 0.09782321 0.08721587 0.09760673 0.10032471 0.10078996 0.10047784\n",
      " 0.10101646 0.10208526 0.10344102 0.1049333 ]\n",
      "6 day output [[0.10648106]]\n",
      "7 day input [0.98544799 0.9834997  0.09308479 0.10544799 0.09876127 0.07345761\n",
      " 0.07365003 0.05407096 0.06489477 0.0556825  0.05209862 0.06016837\n",
      " 0.06061335 0.0524113  0.04810583 0.03968731 0.04748046 0.05164161\n",
      " 0.04036079 0.04300661 0.0527721  0.05921828 0.05712568 0.06126278\n",
      " 0.06361996 0.05455201 0.06292243 0.05488876 0.05950692 0.05924233\n",
      " 0.06405292 0.08192423 0.07398677 0.07420325 0.07304871 0.06898376\n",
      " 0.06167168 0.06535177 0.06381239 0.06111846 0.0594107  0.05943476\n",
      " 0.06316296 0.05017438 0.06008419 0.044546   0.04432952 0.04834636\n",
      " 0.05919423 0.06900782 0.06819002 0.06248948 0.06164762 0.07011425\n",
      " 0.06944077 0.06956103 0.07206254 0.06987372 0.06660253 0.06806975\n",
      " 0.06494287 0.05654841 0.05972339 0.06179194 0.06313891 0.06905592\n",
      " 0.07788334 0.07874925 0.07841251 0.07675286 0.08036079 0.08187613\n",
      " 0.07562237 0.0791341  0.0771377  0.07562237 0.09029465 0.09012628\n",
      " 0.09226699 0.08734817 0.0911365  0.09991581 0.09770295 0.10013229\n",
      " 0.11148527 0.10710764 0.10434155 0.1018641  0.09397474 0.09782321\n",
      " 0.08721587 0.09760673 0.10032471 0.10078996 0.10047784 0.10101646\n",
      " 0.10208526 0.10344102 0.1049333  0.10648106]\n",
      "7 day output [[0.10804468]]\n",
      "8 day input [0.9834997  0.09308479 0.10544799 0.09876127 0.07345761 0.07365003\n",
      " 0.05407096 0.06489477 0.0556825  0.05209862 0.06016837 0.06061335\n",
      " 0.0524113  0.04810583 0.03968731 0.04748046 0.05164161 0.04036079\n",
      " 0.04300661 0.0527721  0.05921828 0.05712568 0.06126278 0.06361996\n",
      " 0.05455201 0.06292243 0.05488876 0.05950692 0.05924233 0.06405292\n",
      " 0.08192423 0.07398677 0.07420325 0.07304871 0.06898376 0.06167168\n",
      " 0.06535177 0.06381239 0.06111846 0.0594107  0.05943476 0.06316296\n",
      " 0.05017438 0.06008419 0.044546   0.04432952 0.04834636 0.05919423\n",
      " 0.06900782 0.06819002 0.06248948 0.06164762 0.07011425 0.06944077\n",
      " 0.06956103 0.07206254 0.06987372 0.06660253 0.06806975 0.06494287\n",
      " 0.05654841 0.05972339 0.06179194 0.06313891 0.06905592 0.07788334\n",
      " 0.07874925 0.07841251 0.07675286 0.08036079 0.08187613 0.07562237\n",
      " 0.0791341  0.0771377  0.07562237 0.09029465 0.09012628 0.09226699\n",
      " 0.08734817 0.0911365  0.09991581 0.09770295 0.10013229 0.11148527\n",
      " 0.10710764 0.10434155 0.1018641  0.09397474 0.09782321 0.08721587\n",
      " 0.09760673 0.10032471 0.10078996 0.10047784 0.10101646 0.10208526\n",
      " 0.10344102 0.1049333  0.10648106 0.10804468]\n",
      "8 day output [[0.10960522]]\n",
      "9 day input [0.09308479 0.10544799 0.09876127 0.07345761 0.07365003 0.05407096\n",
      " 0.06489477 0.0556825  0.05209862 0.06016837 0.06061335 0.0524113\n",
      " 0.04810583 0.03968731 0.04748046 0.05164161 0.04036079 0.04300661\n",
      " 0.0527721  0.05921828 0.05712568 0.06126278 0.06361996 0.05455201\n",
      " 0.06292243 0.05488876 0.05950692 0.05924233 0.06405292 0.08192423\n",
      " 0.07398677 0.07420325 0.07304871 0.06898376 0.06167168 0.06535177\n",
      " 0.06381239 0.06111846 0.0594107  0.05943476 0.06316296 0.05017438\n",
      " 0.06008419 0.044546   0.04432952 0.04834636 0.05919423 0.06900782\n",
      " 0.06819002 0.06248948 0.06164762 0.07011425 0.06944077 0.06956103\n",
      " 0.07206254 0.06987372 0.06660253 0.06806975 0.06494287 0.05654841\n",
      " 0.05972339 0.06179194 0.06313891 0.06905592 0.07788334 0.07874925\n",
      " 0.07841251 0.07675286 0.08036079 0.08187613 0.07562237 0.0791341\n",
      " 0.0771377  0.07562237 0.09029465 0.09012628 0.09226699 0.08734817\n",
      " 0.0911365  0.09991581 0.09770295 0.10013229 0.11148527 0.10710764\n",
      " 0.10434155 0.1018641  0.09397474 0.09782321 0.08721587 0.09760673\n",
      " 0.10032471 0.10078996 0.10047784 0.10101646 0.10208526 0.10344102\n",
      " 0.1049333  0.10648106 0.10804468 0.10960522]\n",
      "9 day output [[0.11115282]]\n",
      "10 day input [0.10544799 0.09876127 0.07345761 0.07365003 0.05407096 0.06489477\n",
      " 0.0556825  0.05209862 0.06016837 0.06061335 0.0524113  0.04810583\n",
      " 0.03968731 0.04748046 0.05164161 0.04036079 0.04300661 0.0527721\n",
      " 0.05921828 0.05712568 0.06126278 0.06361996 0.05455201 0.06292243\n",
      " 0.05488876 0.05950692 0.05924233 0.06405292 0.08192423 0.07398677\n",
      " 0.07420325 0.07304871 0.06898376 0.06167168 0.06535177 0.06381239\n",
      " 0.06111846 0.0594107  0.05943476 0.06316296 0.05017438 0.06008419\n",
      " 0.044546   0.04432952 0.04834636 0.05919423 0.06900782 0.06819002\n",
      " 0.06248948 0.06164762 0.07011425 0.06944077 0.06956103 0.07206254\n",
      " 0.06987372 0.06660253 0.06806975 0.06494287 0.05654841 0.05972339\n",
      " 0.06179194 0.06313891 0.06905592 0.07788334 0.07874925 0.07841251\n",
      " 0.07675286 0.08036079 0.08187613 0.07562237 0.0791341  0.0771377\n",
      " 0.07562237 0.09029465 0.09012628 0.09226699 0.08734817 0.0911365\n",
      " 0.09991581 0.09770295 0.10013229 0.11148527 0.10710764 0.10434155\n",
      " 0.1018641  0.09397474 0.09782321 0.08721587 0.09760673 0.10032471\n",
      " 0.10078996 0.10047784 0.10101646 0.10208526 0.10344102 0.1049333\n",
      " 0.10648106 0.10804468 0.10960522 0.11115282]\n",
      "10 day output [[0.11268116]]\n",
      "11 day input [0.09876127 0.07345761 0.07365003 0.05407096 0.06489477 0.0556825\n",
      " 0.05209862 0.06016837 0.06061335 0.0524113  0.04810583 0.03968731\n",
      " 0.04748046 0.05164161 0.04036079 0.04300661 0.0527721  0.05921828\n",
      " 0.05712568 0.06126278 0.06361996 0.05455201 0.06292243 0.05488876\n",
      " 0.05950692 0.05924233 0.06405292 0.08192423 0.07398677 0.07420325\n",
      " 0.07304871 0.06898376 0.06167168 0.06535177 0.06381239 0.06111846\n",
      " 0.0594107  0.05943476 0.06316296 0.05017438 0.06008419 0.044546\n",
      " 0.04432952 0.04834636 0.05919423 0.06900782 0.06819002 0.06248948\n",
      " 0.06164762 0.07011425 0.06944077 0.06956103 0.07206254 0.06987372\n",
      " 0.06660253 0.06806975 0.06494287 0.05654841 0.05972339 0.06179194\n",
      " 0.06313891 0.06905592 0.07788334 0.07874925 0.07841251 0.07675286\n",
      " 0.08036079 0.08187613 0.07562237 0.0791341  0.0771377  0.07562237\n",
      " 0.09029465 0.09012628 0.09226699 0.08734817 0.0911365  0.09991581\n",
      " 0.09770295 0.10013229 0.11148527 0.10710764 0.10434155 0.1018641\n",
      " 0.09397474 0.09782321 0.08721587 0.09760673 0.10032471 0.10078996\n",
      " 0.10047784 0.10101646 0.10208526 0.10344102 0.1049333  0.10648106\n",
      " 0.10804468 0.10960522 0.11115282 0.11268116]\n",
      "11 day output [[0.11418633]]\n",
      "12 day input [0.07345761 0.07365003 0.05407096 0.06489477 0.0556825  0.05209862\n",
      " 0.06016837 0.06061335 0.0524113  0.04810583 0.03968731 0.04748046\n",
      " 0.05164161 0.04036079 0.04300661 0.0527721  0.05921828 0.05712568\n",
      " 0.06126278 0.06361996 0.05455201 0.06292243 0.05488876 0.05950692\n",
      " 0.05924233 0.06405292 0.08192423 0.07398677 0.07420325 0.07304871\n",
      " 0.06898376 0.06167168 0.06535177 0.06381239 0.06111846 0.0594107\n",
      " 0.05943476 0.06316296 0.05017438 0.06008419 0.044546   0.04432952\n",
      " 0.04834636 0.05919423 0.06900782 0.06819002 0.06248948 0.06164762\n",
      " 0.07011425 0.06944077 0.06956103 0.07206254 0.06987372 0.06660253\n",
      " 0.06806975 0.06494287 0.05654841 0.05972339 0.06179194 0.06313891\n",
      " 0.06905592 0.07788334 0.07874925 0.07841251 0.07675286 0.08036079\n",
      " 0.08187613 0.07562237 0.0791341  0.0771377  0.07562237 0.09029465\n",
      " 0.09012628 0.09226699 0.08734817 0.0911365  0.09991581 0.09770295\n",
      " 0.10013229 0.11148527 0.10710764 0.10434155 0.1018641  0.09397474\n",
      " 0.09782321 0.08721587 0.09760673 0.10032471 0.10078996 0.10047784\n",
      " 0.10101646 0.10208526 0.10344102 0.1049333  0.10648106 0.10804468\n",
      " 0.10960522 0.11115282 0.11268116 0.11418633]\n",
      "12 day output [[0.11566553]]\n",
      "13 day input [0.07365003 0.05407096 0.06489477 0.0556825  0.05209862 0.06016837\n",
      " 0.06061335 0.0524113  0.04810583 0.03968731 0.04748046 0.05164161\n",
      " 0.04036079 0.04300661 0.0527721  0.05921828 0.05712568 0.06126278\n",
      " 0.06361996 0.05455201 0.06292243 0.05488876 0.05950692 0.05924233\n",
      " 0.06405292 0.08192423 0.07398677 0.07420325 0.07304871 0.06898376\n",
      " 0.06167168 0.06535177 0.06381239 0.06111846 0.0594107  0.05943476\n",
      " 0.06316296 0.05017438 0.06008419 0.044546   0.04432952 0.04834636\n",
      " 0.05919423 0.06900782 0.06819002 0.06248948 0.06164762 0.07011425\n",
      " 0.06944077 0.06956103 0.07206254 0.06987372 0.06660253 0.06806975\n",
      " 0.06494287 0.05654841 0.05972339 0.06179194 0.06313891 0.06905592\n",
      " 0.07788334 0.07874925 0.07841251 0.07675286 0.08036079 0.08187613\n",
      " 0.07562237 0.0791341  0.0771377  0.07562237 0.09029465 0.09012628\n",
      " 0.09226699 0.08734817 0.0911365  0.09991581 0.09770295 0.10013229\n",
      " 0.11148527 0.10710764 0.10434155 0.1018641  0.09397474 0.09782321\n",
      " 0.08721587 0.09760673 0.10032471 0.10078996 0.10047784 0.10101646\n",
      " 0.10208526 0.10344102 0.1049333  0.10648106 0.10804468 0.10960522\n",
      " 0.11115282 0.11268116 0.11418633 0.11566553]\n",
      "13 day output [[0.11711763]]\n",
      "14 day input [0.05407096 0.06489477 0.0556825  0.05209862 0.06016837 0.06061335\n",
      " 0.0524113  0.04810583 0.03968731 0.04748046 0.05164161 0.04036079\n",
      " 0.04300661 0.0527721  0.05921828 0.05712568 0.06126278 0.06361996\n",
      " 0.05455201 0.06292243 0.05488876 0.05950692 0.05924233 0.06405292\n",
      " 0.08192423 0.07398677 0.07420325 0.07304871 0.06898376 0.06167168\n",
      " 0.06535177 0.06381239 0.06111846 0.0594107  0.05943476 0.06316296\n",
      " 0.05017438 0.06008419 0.044546   0.04432952 0.04834636 0.05919423\n",
      " 0.06900782 0.06819002 0.06248948 0.06164762 0.07011425 0.06944077\n",
      " 0.06956103 0.07206254 0.06987372 0.06660253 0.06806975 0.06494287\n",
      " 0.05654841 0.05972339 0.06179194 0.06313891 0.06905592 0.07788334\n",
      " 0.07874925 0.07841251 0.07675286 0.08036079 0.08187613 0.07562237\n",
      " 0.0791341  0.0771377  0.07562237 0.09029465 0.09012628 0.09226699\n",
      " 0.08734817 0.0911365  0.09991581 0.09770295 0.10013229 0.11148527\n",
      " 0.10710764 0.10434155 0.1018641  0.09397474 0.09782321 0.08721587\n",
      " 0.09760673 0.10032471 0.10078996 0.10047784 0.10101646 0.10208526\n",
      " 0.10344102 0.1049333  0.10648106 0.10804468 0.10960522 0.11115282\n",
      " 0.11268116 0.11418633 0.11566553 0.11711763]\n",
      "14 day output [[0.11854319]]\n",
      "15 day input [0.06489477 0.0556825  0.05209862 0.06016837 0.06061335 0.0524113\n",
      " 0.04810583 0.03968731 0.04748046 0.05164161 0.04036079 0.04300661\n",
      " 0.0527721  0.05921828 0.05712568 0.06126278 0.06361996 0.05455201\n",
      " 0.06292243 0.05488876 0.05950692 0.05924233 0.06405292 0.08192423\n",
      " 0.07398677 0.07420325 0.07304871 0.06898376 0.06167168 0.06535177\n",
      " 0.06381239 0.06111846 0.0594107  0.05943476 0.06316296 0.05017438\n",
      " 0.06008419 0.044546   0.04432952 0.04834636 0.05919423 0.06900782\n",
      " 0.06819002 0.06248948 0.06164762 0.07011425 0.06944077 0.06956103\n",
      " 0.07206254 0.06987372 0.06660253 0.06806975 0.06494287 0.05654841\n",
      " 0.05972339 0.06179194 0.06313891 0.06905592 0.07788334 0.07874925\n",
      " 0.07841251 0.07675286 0.08036079 0.08187613 0.07562237 0.0791341\n",
      " 0.0771377  0.07562237 0.09029465 0.09012628 0.09226699 0.08734817\n",
      " 0.0911365  0.09991581 0.09770295 0.10013229 0.11148527 0.10710764\n",
      " 0.10434155 0.1018641  0.09397474 0.09782321 0.08721587 0.09760673\n",
      " 0.10032471 0.10078996 0.10047784 0.10101646 0.10208526 0.10344102\n",
      " 0.1049333  0.10648106 0.10804468 0.10960522 0.11115282 0.11268116\n",
      " 0.11418633 0.11566553 0.11711763 0.11854319]\n",
      "15 day output [[0.11994423]]\n",
      "16 day input [0.0556825  0.05209862 0.06016837 0.06061335 0.0524113  0.04810583\n",
      " 0.03968731 0.04748046 0.05164161 0.04036079 0.04300661 0.0527721\n",
      " 0.05921828 0.05712568 0.06126278 0.06361996 0.05455201 0.06292243\n",
      " 0.05488876 0.05950692 0.05924233 0.06405292 0.08192423 0.07398677\n",
      " 0.07420325 0.07304871 0.06898376 0.06167168 0.06535177 0.06381239\n",
      " 0.06111846 0.0594107  0.05943476 0.06316296 0.05017438 0.06008419\n",
      " 0.044546   0.04432952 0.04834636 0.05919423 0.06900782 0.06819002\n",
      " 0.06248948 0.06164762 0.07011425 0.06944077 0.06956103 0.07206254\n",
      " 0.06987372 0.06660253 0.06806975 0.06494287 0.05654841 0.05972339\n",
      " 0.06179194 0.06313891 0.06905592 0.07788334 0.07874925 0.07841251\n",
      " 0.07675286 0.08036079 0.08187613 0.07562237 0.0791341  0.0771377\n",
      " 0.07562237 0.09029465 0.09012628 0.09226699 0.08734817 0.0911365\n",
      " 0.09991581 0.09770295 0.10013229 0.11148527 0.10710764 0.10434155\n",
      " 0.1018641  0.09397474 0.09782321 0.08721587 0.09760673 0.10032471\n",
      " 0.10078996 0.10047784 0.10101646 0.10208526 0.10344102 0.1049333\n",
      " 0.10648106 0.10804468 0.10960522 0.11115282 0.11268116 0.11418633\n",
      " 0.11566553 0.11711763 0.11854319 0.11994423]\n",
      "16 day output [[0.12132397]]\n",
      "17 day input [0.05209862 0.06016837 0.06061335 0.0524113  0.04810583 0.03968731\n",
      " 0.04748046 0.05164161 0.04036079 0.04300661 0.0527721  0.05921828\n",
      " 0.05712568 0.06126278 0.06361996 0.05455201 0.06292243 0.05488876\n",
      " 0.05950692 0.05924233 0.06405292 0.08192423 0.07398677 0.07420325\n",
      " 0.07304871 0.06898376 0.06167168 0.06535177 0.06381239 0.06111846\n",
      " 0.0594107  0.05943476 0.06316296 0.05017438 0.06008419 0.044546\n",
      " 0.04432952 0.04834636 0.05919423 0.06900782 0.06819002 0.06248948\n",
      " 0.06164762 0.07011425 0.06944077 0.06956103 0.07206254 0.06987372\n",
      " 0.06660253 0.06806975 0.06494287 0.05654841 0.05972339 0.06179194\n",
      " 0.06313891 0.06905592 0.07788334 0.07874925 0.07841251 0.07675286\n",
      " 0.08036079 0.08187613 0.07562237 0.0791341  0.0771377  0.07562237\n",
      " 0.09029465 0.09012628 0.09226699 0.08734817 0.0911365  0.09991581\n",
      " 0.09770295 0.10013229 0.11148527 0.10710764 0.10434155 0.1018641\n",
      " 0.09397474 0.09782321 0.08721587 0.09760673 0.10032471 0.10078996\n",
      " 0.10047784 0.10101646 0.10208526 0.10344102 0.1049333  0.10648106\n",
      " 0.10804468 0.10960522 0.11115282 0.11268116 0.11418633 0.11566553\n",
      " 0.11711763 0.11854319 0.11994423 0.12132397]\n",
      "17 day output [[0.1226864]]\n",
      "18 day input [0.06016837 0.06061335 0.0524113  0.04810583 0.03968731 0.04748046\n",
      " 0.05164161 0.04036079 0.04300661 0.0527721  0.05921828 0.05712568\n",
      " 0.06126278 0.06361996 0.05455201 0.06292243 0.05488876 0.05950692\n",
      " 0.05924233 0.06405292 0.08192423 0.07398677 0.07420325 0.07304871\n",
      " 0.06898376 0.06167168 0.06535177 0.06381239 0.06111846 0.0594107\n",
      " 0.05943476 0.06316296 0.05017438 0.06008419 0.044546   0.04432952\n",
      " 0.04834636 0.05919423 0.06900782 0.06819002 0.06248948 0.06164762\n",
      " 0.07011425 0.06944077 0.06956103 0.07206254 0.06987372 0.06660253\n",
      " 0.06806975 0.06494287 0.05654841 0.05972339 0.06179194 0.06313891\n",
      " 0.06905592 0.07788334 0.07874925 0.07841251 0.07675286 0.08036079\n",
      " 0.08187613 0.07562237 0.0791341  0.0771377  0.07562237 0.09029465\n",
      " 0.09012628 0.09226699 0.08734817 0.0911365  0.09991581 0.09770295\n",
      " 0.10013229 0.11148527 0.10710764 0.10434155 0.1018641  0.09397474\n",
      " 0.09782321 0.08721587 0.09760673 0.10032471 0.10078996 0.10047784\n",
      " 0.10101646 0.10208526 0.10344102 0.1049333  0.10648106 0.10804468\n",
      " 0.10960522 0.11115282 0.11268116 0.11418633 0.11566553 0.11711763\n",
      " 0.11854319 0.11994423 0.12132397 0.1226864 ]\n",
      "18 day output [[0.12403592]]\n",
      "19 day input [0.06061335 0.0524113  0.04810583 0.03968731 0.04748046 0.05164161\n",
      " 0.04036079 0.04300661 0.0527721  0.05921828 0.05712568 0.06126278\n",
      " 0.06361996 0.05455201 0.06292243 0.05488876 0.05950692 0.05924233\n",
      " 0.06405292 0.08192423 0.07398677 0.07420325 0.07304871 0.06898376\n",
      " 0.06167168 0.06535177 0.06381239 0.06111846 0.0594107  0.05943476\n",
      " 0.06316296 0.05017438 0.06008419 0.044546   0.04432952 0.04834636\n",
      " 0.05919423 0.06900782 0.06819002 0.06248948 0.06164762 0.07011425\n",
      " 0.06944077 0.06956103 0.07206254 0.06987372 0.06660253 0.06806975\n",
      " 0.06494287 0.05654841 0.05972339 0.06179194 0.06313891 0.06905592\n",
      " 0.07788334 0.07874925 0.07841251 0.07675286 0.08036079 0.08187613\n",
      " 0.07562237 0.0791341  0.0771377  0.07562237 0.09029465 0.09012628\n",
      " 0.09226699 0.08734817 0.0911365  0.09991581 0.09770295 0.10013229\n",
      " 0.11148527 0.10710764 0.10434155 0.1018641  0.09397474 0.09782321\n",
      " 0.08721587 0.09760673 0.10032471 0.10078996 0.10047784 0.10101646\n",
      " 0.10208526 0.10344102 0.1049333  0.10648106 0.10804468 0.10960522\n",
      " 0.11115282 0.11268116 0.11418633 0.11566553 0.11711763 0.11854319\n",
      " 0.11994423 0.12132397 0.1226864  0.12403592]\n",
      "19 day output [[0.125377]]\n",
      "20 day input [0.0524113  0.04810583 0.03968731 0.04748046 0.05164161 0.04036079\n",
      " 0.04300661 0.0527721  0.05921828 0.05712568 0.06126278 0.06361996\n",
      " 0.05455201 0.06292243 0.05488876 0.05950692 0.05924233 0.06405292\n",
      " 0.08192423 0.07398677 0.07420325 0.07304871 0.06898376 0.06167168\n",
      " 0.06535177 0.06381239 0.06111846 0.0594107  0.05943476 0.06316296\n",
      " 0.05017438 0.06008419 0.044546   0.04432952 0.04834636 0.05919423\n",
      " 0.06900782 0.06819002 0.06248948 0.06164762 0.07011425 0.06944077\n",
      " 0.06956103 0.07206254 0.06987372 0.06660253 0.06806975 0.06494287\n",
      " 0.05654841 0.05972339 0.06179194 0.06313891 0.06905592 0.07788334\n",
      " 0.07874925 0.07841251 0.07675286 0.08036079 0.08187613 0.07562237\n",
      " 0.0791341  0.0771377  0.07562237 0.09029465 0.09012628 0.09226699\n",
      " 0.08734817 0.0911365  0.09991581 0.09770295 0.10013229 0.11148527\n",
      " 0.10710764 0.10434155 0.1018641  0.09397474 0.09782321 0.08721587\n",
      " 0.09760673 0.10032471 0.10078996 0.10047784 0.10101646 0.10208526\n",
      " 0.10344102 0.1049333  0.10648106 0.10804468 0.10960522 0.11115282\n",
      " 0.11268116 0.11418633 0.11566553 0.11711763 0.11854319 0.11994423\n",
      " 0.12132397 0.1226864  0.12403592 0.125377  ]\n",
      "20 day output [[0.12671404]]\n",
      "21 day input [0.04810583 0.03968731 0.04748046 0.05164161 0.04036079 0.04300661\n",
      " 0.0527721  0.05921828 0.05712568 0.06126278 0.06361996 0.05455201\n",
      " 0.06292243 0.05488876 0.05950692 0.05924233 0.06405292 0.08192423\n",
      " 0.07398677 0.07420325 0.07304871 0.06898376 0.06167168 0.06535177\n",
      " 0.06381239 0.06111846 0.0594107  0.05943476 0.06316296 0.05017438\n",
      " 0.06008419 0.044546   0.04432952 0.04834636 0.05919423 0.06900782\n",
      " 0.06819002 0.06248948 0.06164762 0.07011425 0.06944077 0.06956103\n",
      " 0.07206254 0.06987372 0.06660253 0.06806975 0.06494287 0.05654841\n",
      " 0.05972339 0.06179194 0.06313891 0.06905592 0.07788334 0.07874925\n",
      " 0.07841251 0.07675286 0.08036079 0.08187613 0.07562237 0.0791341\n",
      " 0.0771377  0.07562237 0.09029465 0.09012628 0.09226699 0.08734817\n",
      " 0.0911365  0.09991581 0.09770295 0.10013229 0.11148527 0.10710764\n",
      " 0.10434155 0.1018641  0.09397474 0.09782321 0.08721587 0.09760673\n",
      " 0.10032471 0.10078996 0.10047784 0.10101646 0.10208526 0.10344102\n",
      " 0.1049333  0.10648106 0.10804468 0.10960522 0.11115282 0.11268116\n",
      " 0.11418633 0.11566553 0.11711763 0.11854319 0.11994423 0.12132397\n",
      " 0.1226864  0.12403592 0.125377   0.12671404]\n",
      "21 day output [[0.128051]]\n",
      "22 day input [0.03968731 0.04748046 0.05164161 0.04036079 0.04300661 0.0527721\n",
      " 0.05921828 0.05712568 0.06126278 0.06361996 0.05455201 0.06292243\n",
      " 0.05488876 0.05950692 0.05924233 0.06405292 0.08192423 0.07398677\n",
      " 0.07420325 0.07304871 0.06898376 0.06167168 0.06535177 0.06381239\n",
      " 0.06111846 0.0594107  0.05943476 0.06316296 0.05017438 0.06008419\n",
      " 0.044546   0.04432952 0.04834636 0.05919423 0.06900782 0.06819002\n",
      " 0.06248948 0.06164762 0.07011425 0.06944077 0.06956103 0.07206254\n",
      " 0.06987372 0.06660253 0.06806975 0.06494287 0.05654841 0.05972339\n",
      " 0.06179194 0.06313891 0.06905592 0.07788334 0.07874925 0.07841251\n",
      " 0.07675286 0.08036079 0.08187613 0.07562237 0.0791341  0.0771377\n",
      " 0.07562237 0.09029465 0.09012628 0.09226699 0.08734817 0.0911365\n",
      " 0.09991581 0.09770295 0.10013229 0.11148527 0.10710764 0.10434155\n",
      " 0.1018641  0.09397474 0.09782321 0.08721587 0.09760673 0.10032471\n",
      " 0.10078996 0.10047784 0.10101646 0.10208526 0.10344102 0.1049333\n",
      " 0.10648106 0.10804468 0.10960522 0.11115282 0.11268116 0.11418633\n",
      " 0.11566553 0.11711763 0.11854319 0.11994423 0.12132397 0.1226864\n",
      " 0.12403592 0.125377   0.12671404 0.128051  ]\n",
      "22 day output [[0.12939137]]\n",
      "23 day input [0.04748046 0.05164161 0.04036079 0.04300661 0.0527721  0.05921828\n",
      " 0.05712568 0.06126278 0.06361996 0.05455201 0.06292243 0.05488876\n",
      " 0.05950692 0.05924233 0.06405292 0.08192423 0.07398677 0.07420325\n",
      " 0.07304871 0.06898376 0.06167168 0.06535177 0.06381239 0.06111846\n",
      " 0.0594107  0.05943476 0.06316296 0.05017438 0.06008419 0.044546\n",
      " 0.04432952 0.04834636 0.05919423 0.06900782 0.06819002 0.06248948\n",
      " 0.06164762 0.07011425 0.06944077 0.06956103 0.07206254 0.06987372\n",
      " 0.06660253 0.06806975 0.06494287 0.05654841 0.05972339 0.06179194\n",
      " 0.06313891 0.06905592 0.07788334 0.07874925 0.07841251 0.07675286\n",
      " 0.08036079 0.08187613 0.07562237 0.0791341  0.0771377  0.07562237\n",
      " 0.09029465 0.09012628 0.09226699 0.08734817 0.0911365  0.09991581\n",
      " 0.09770295 0.10013229 0.11148527 0.10710764 0.10434155 0.1018641\n",
      " 0.09397474 0.09782321 0.08721587 0.09760673 0.10032471 0.10078996\n",
      " 0.10047784 0.10101646 0.10208526 0.10344102 0.1049333  0.10648106\n",
      " 0.10804468 0.10960522 0.11115282 0.11268116 0.11418633 0.11566553\n",
      " 0.11711763 0.11854319 0.11994423 0.12132397 0.1226864  0.12403592\n",
      " 0.125377   0.12671404 0.128051   0.12939137]\n",
      "23 day output [[0.13073815]]\n",
      "24 day input [0.05164161 0.04036079 0.04300661 0.0527721  0.05921828 0.05712568\n",
      " 0.06126278 0.06361996 0.05455201 0.06292243 0.05488876 0.05950692\n",
      " 0.05924233 0.06405292 0.08192423 0.07398677 0.07420325 0.07304871\n",
      " 0.06898376 0.06167168 0.06535177 0.06381239 0.06111846 0.0594107\n",
      " 0.05943476 0.06316296 0.05017438 0.06008419 0.044546   0.04432952\n",
      " 0.04834636 0.05919423 0.06900782 0.06819002 0.06248948 0.06164762\n",
      " 0.07011425 0.06944077 0.06956103 0.07206254 0.06987372 0.06660253\n",
      " 0.06806975 0.06494287 0.05654841 0.05972339 0.06179194 0.06313891\n",
      " 0.06905592 0.07788334 0.07874925 0.07841251 0.07675286 0.08036079\n",
      " 0.08187613 0.07562237 0.0791341  0.0771377  0.07562237 0.09029465\n",
      " 0.09012628 0.09226699 0.08734817 0.0911365  0.09991581 0.09770295\n",
      " 0.10013229 0.11148527 0.10710764 0.10434155 0.1018641  0.09397474\n",
      " 0.09782321 0.08721587 0.09760673 0.10032471 0.10078996 0.10047784\n",
      " 0.10101646 0.10208526 0.10344102 0.1049333  0.10648106 0.10804468\n",
      " 0.10960522 0.11115282 0.11268116 0.11418633 0.11566553 0.11711763\n",
      " 0.11854319 0.11994423 0.12132397 0.1226864  0.12403592 0.125377\n",
      " 0.12671404 0.128051   0.12939137 0.13073815]\n",
      "24 day output [[0.13209377]]\n",
      "25 day input [0.04036079 0.04300661 0.0527721  0.05921828 0.05712568 0.06126278\n",
      " 0.06361996 0.05455201 0.06292243 0.05488876 0.05950692 0.05924233\n",
      " 0.06405292 0.08192423 0.07398677 0.07420325 0.07304871 0.06898376\n",
      " 0.06167168 0.06535177 0.06381239 0.06111846 0.0594107  0.05943476\n",
      " 0.06316296 0.05017438 0.06008419 0.044546   0.04432952 0.04834636\n",
      " 0.05919423 0.06900782 0.06819002 0.06248948 0.06164762 0.07011425\n",
      " 0.06944077 0.06956103 0.07206254 0.06987372 0.06660253 0.06806975\n",
      " 0.06494287 0.05654841 0.05972339 0.06179194 0.06313891 0.06905592\n",
      " 0.07788334 0.07874925 0.07841251 0.07675286 0.08036079 0.08187613\n",
      " 0.07562237 0.0791341  0.0771377  0.07562237 0.09029465 0.09012628\n",
      " 0.09226699 0.08734817 0.0911365  0.09991581 0.09770295 0.10013229\n",
      " 0.11148527 0.10710764 0.10434155 0.1018641  0.09397474 0.09782321\n",
      " 0.08721587 0.09760673 0.10032471 0.10078996 0.10047784 0.10101646\n",
      " 0.10208526 0.10344102 0.1049333  0.10648106 0.10804468 0.10960522\n",
      " 0.11115282 0.11268116 0.11418633 0.11566553 0.11711763 0.11854319\n",
      " 0.11994423 0.12132397 0.1226864  0.12403592 0.125377   0.12671404\n",
      " 0.128051   0.12939137 0.13073815 0.13209377]\n",
      "25 day output [[0.13346003]]\n",
      "26 day input [0.04300661 0.0527721  0.05921828 0.05712568 0.06126278 0.06361996\n",
      " 0.05455201 0.06292243 0.05488876 0.05950692 0.05924233 0.06405292\n",
      " 0.08192423 0.07398677 0.07420325 0.07304871 0.06898376 0.06167168\n",
      " 0.06535177 0.06381239 0.06111846 0.0594107  0.05943476 0.06316296\n",
      " 0.05017438 0.06008419 0.044546   0.04432952 0.04834636 0.05919423\n",
      " 0.06900782 0.06819002 0.06248948 0.06164762 0.07011425 0.06944077\n",
      " 0.06956103 0.07206254 0.06987372 0.06660253 0.06806975 0.06494287\n",
      " 0.05654841 0.05972339 0.06179194 0.06313891 0.06905592 0.07788334\n",
      " 0.07874925 0.07841251 0.07675286 0.08036079 0.08187613 0.07562237\n",
      " 0.0791341  0.0771377  0.07562237 0.09029465 0.09012628 0.09226699\n",
      " 0.08734817 0.0911365  0.09991581 0.09770295 0.10013229 0.11148527\n",
      " 0.10710764 0.10434155 0.1018641  0.09397474 0.09782321 0.08721587\n",
      " 0.09760673 0.10032471 0.10078996 0.10047784 0.10101646 0.10208526\n",
      " 0.10344102 0.1049333  0.10648106 0.10804468 0.10960522 0.11115282\n",
      " 0.11268116 0.11418633 0.11566553 0.11711763 0.11854319 0.11994423\n",
      " 0.12132397 0.1226864  0.12403592 0.125377   0.12671404 0.128051\n",
      " 0.12939137 0.13073815 0.13209377 0.13346003]\n",
      "26 day output [[0.1348383]]\n",
      "27 day input [0.0527721  0.05921828 0.05712568 0.06126278 0.06361996 0.05455201\n",
      " 0.06292243 0.05488876 0.05950692 0.05924233 0.06405292 0.08192423\n",
      " 0.07398677 0.07420325 0.07304871 0.06898376 0.06167168 0.06535177\n",
      " 0.06381239 0.06111846 0.0594107  0.05943476 0.06316296 0.05017438\n",
      " 0.06008419 0.044546   0.04432952 0.04834636 0.05919423 0.06900782\n",
      " 0.06819002 0.06248948 0.06164762 0.07011425 0.06944077 0.06956103\n",
      " 0.07206254 0.06987372 0.06660253 0.06806975 0.06494287 0.05654841\n",
      " 0.05972339 0.06179194 0.06313891 0.06905592 0.07788334 0.07874925\n",
      " 0.07841251 0.07675286 0.08036079 0.08187613 0.07562237 0.0791341\n",
      " 0.0771377  0.07562237 0.09029465 0.09012628 0.09226699 0.08734817\n",
      " 0.0911365  0.09991581 0.09770295 0.10013229 0.11148527 0.10710764\n",
      " 0.10434155 0.1018641  0.09397474 0.09782321 0.08721587 0.09760673\n",
      " 0.10032471 0.10078996 0.10047784 0.10101646 0.10208526 0.10344102\n",
      " 0.1049333  0.10648106 0.10804468 0.10960522 0.11115282 0.11268116\n",
      " 0.11418633 0.11566553 0.11711763 0.11854319 0.11994423 0.12132397\n",
      " 0.1226864  0.12403592 0.125377   0.12671404 0.128051   0.12939137\n",
      " 0.13073815 0.13209377 0.13346003 0.1348383 ]\n",
      "27 day output [[0.13622935]]\n",
      "28 day input [0.05921828 0.05712568 0.06126278 0.06361996 0.05455201 0.06292243\n",
      " 0.05488876 0.05950692 0.05924233 0.06405292 0.08192423 0.07398677\n",
      " 0.07420325 0.07304871 0.06898376 0.06167168 0.06535177 0.06381239\n",
      " 0.06111846 0.0594107  0.05943476 0.06316296 0.05017438 0.06008419\n",
      " 0.044546   0.04432952 0.04834636 0.05919423 0.06900782 0.06819002\n",
      " 0.06248948 0.06164762 0.07011425 0.06944077 0.06956103 0.07206254\n",
      " 0.06987372 0.06660253 0.06806975 0.06494287 0.05654841 0.05972339\n",
      " 0.06179194 0.06313891 0.06905592 0.07788334 0.07874925 0.07841251\n",
      " 0.07675286 0.08036079 0.08187613 0.07562237 0.0791341  0.0771377\n",
      " 0.07562237 0.09029465 0.09012628 0.09226699 0.08734817 0.0911365\n",
      " 0.09991581 0.09770295 0.10013229 0.11148527 0.10710764 0.10434155\n",
      " 0.1018641  0.09397474 0.09782321 0.08721587 0.09760673 0.10032471\n",
      " 0.10078996 0.10047784 0.10101646 0.10208526 0.10344102 0.1049333\n",
      " 0.10648106 0.10804468 0.10960522 0.11115282 0.11268116 0.11418633\n",
      " 0.11566553 0.11711763 0.11854319 0.11994423 0.12132397 0.1226864\n",
      " 0.12403592 0.125377   0.12671404 0.128051   0.12939137 0.13073815\n",
      " 0.13209377 0.13346003 0.1348383  0.13622935]\n",
      "28 day output [[0.13763371]]\n",
      "29 day input [0.05712568 0.06126278 0.06361996 0.05455201 0.06292243 0.05488876\n",
      " 0.05950692 0.05924233 0.06405292 0.08192423 0.07398677 0.07420325\n",
      " 0.07304871 0.06898376 0.06167168 0.06535177 0.06381239 0.06111846\n",
      " 0.0594107  0.05943476 0.06316296 0.05017438 0.06008419 0.044546\n",
      " 0.04432952 0.04834636 0.05919423 0.06900782 0.06819002 0.06248948\n",
      " 0.06164762 0.07011425 0.06944077 0.06956103 0.07206254 0.06987372\n",
      " 0.06660253 0.06806975 0.06494287 0.05654841 0.05972339 0.06179194\n",
      " 0.06313891 0.06905592 0.07788334 0.07874925 0.07841251 0.07675286\n",
      " 0.08036079 0.08187613 0.07562237 0.0791341  0.0771377  0.07562237\n",
      " 0.09029465 0.09012628 0.09226699 0.08734817 0.0911365  0.09991581\n",
      " 0.09770295 0.10013229 0.11148527 0.10710764 0.10434155 0.1018641\n",
      " 0.09397474 0.09782321 0.08721587 0.09760673 0.10032471 0.10078996\n",
      " 0.10047784 0.10101646 0.10208526 0.10344102 0.1049333  0.10648106\n",
      " 0.10804468 0.10960522 0.11115282 0.11268116 0.11418633 0.11566553\n",
      " 0.11711763 0.11854319 0.11994423 0.12132397 0.1226864  0.12403592\n",
      " 0.125377   0.12671404 0.128051   0.12939137 0.13073815 0.13209377\n",
      " 0.13346003 0.1348383  0.13622935 0.13763371]\n",
      "29 day output [[0.13905145]]\n",
      "[[0.10078995674848557], [0.10047783702611923], [0.10101646184921265], [0.10208525508642197], [0.103441022336483], [0.10493329912424088], [0.10648106038570404], [0.10804468393325806], [0.10960521548986435], [0.11115282028913498], [0.11268115788698196], [0.11418633162975311], [0.11566553264856339], [0.11711762845516205], [0.11854319274425507], [0.11994422972202301], [0.12132397294044495], [0.12268640100955963], [0.12403591722249985], [0.12537699937820435], [0.12671403586864471], [0.1280509978532791], [0.1293913722038269], [0.13073815405368805], [0.13209377229213715], [0.13346002995967865], [0.1348382979631424], [0.13622935116291046], [0.13763371109962463], [0.13905145227909088]]\n"
     ]
    }
   ],
   "source": [
    "# prediction for the next 30 days\n",
    "\n",
    "lst_output=[]\n",
    "n_steps=100\n",
    "i=0\n",
    "while(i<30):\n",
    "    \n",
    "    if(len(temp_input)>100):\n",
    "        #print(temp_input)\n",
    "        x_input=np.array(temp_input[1:])\n",
    "        print(\"{} day input {}\".format(i,x_input))\n",
    "        x_input=x_input.reshape(1,-1)\n",
    "        x_input = x_input.reshape((1, n_steps, 1))\n",
    "        #print(x_input)\n",
    "        yhat = model.predict(x_input, verbose=0)\n",
    "        print(\"{} day output {}\".format(i,yhat))\n",
    "        temp_input.extend(yhat[0].tolist())\n",
    "        temp_input=temp_input[1:]\n",
    "        #print(temp_input)\n",
    "        lst_output.extend(yhat.tolist())\n",
    "        i=i+1\n",
    "    else:\n",
    "        x_input = x_input.reshape((1, n_steps,1))\n",
    "        yhat = model.predict(x_input, verbose=0)\n",
    "        print(yhat[0])\n",
    "        temp_input.extend(yhat[0].tolist())\n",
    "#         print(len(temp_input))\n",
    "        lst_output.extend(yhat.tolist())\n",
    "        i=i+1\n",
    "    \n",
    "\n",
    "print(lst_output)"
   ]
  },
  {
   "cell_type": "code",
   "execution_count": 41,
   "metadata": {},
   "outputs": [],
   "source": [
    "day_new=np.arange(1,101)\n",
    "day_pred=np.arange(101,131)"
   ]
  },
  {
   "cell_type": "code",
   "execution_count": 42,
   "metadata": {},
   "outputs": [
    {
     "data": {
      "text/plain": [
       "1259"
      ]
     },
     "execution_count": 42,
     "metadata": {},
     "output_type": "execute_result"
    }
   ],
   "source": [
    "len(df)"
   ]
  },
  {
   "cell_type": "code",
   "execution_count": 43,
   "metadata": {},
   "outputs": [
    {
     "data": {
      "text/plain": [
       "[<matplotlib.lines.Line2D at 0x2614bd97508>]"
      ]
     },
     "execution_count": 43,
     "metadata": {},
     "output_type": "execute_result"
    },
    {
     "data": {
      "image/png": "[encoded data removed]",
      "text/plain": [
       "<Figure size 1080x576 with 1 Axes>"
      ]
     },
     "metadata": {
      "needs_background": "light"
     },
     "output_type": "display_data"
    }
   ],
   "source": [
    "plt.figure(figsize=(15,8))\n",
    "plt.plot(day_new,scaler.inverse_transform(df[1159:]))\n",
    "plt.plot(day_pred,scaler.inverse_transform(lst_output))"
   ]
  },
  {
   "cell_type": "code",
   "execution_count": 44,
   "metadata": {},
   "outputs": [
    {
     "data": {
      "text/plain": [
       "[<matplotlib.lines.Line2D at 0x261546e4d88>]"
      ]
     },
     "execution_count": 44,
     "metadata": {},
     "output_type": "execute_result"
    },
    {
     "data": {
      "image/png": "[encoded data removed]",
      "text/plain": [
       "<Figure size 1080x576 with 1 Axes>"
      ]
     },
     "metadata": {
      "needs_background": "light"
     },
     "output_type": "display_data"
    }
   ],
   "source": [
    "# Combine predicted with true data\n",
    "\n",
    "df2=df.tolist()\n",
    "df2.extend(lst_output)\n",
    "plt.figure(figsize=(15,8))\n",
    "plt.plot(df2[1200:])"
   ]
  },
  {
   "cell_type": "markdown",
   "metadata": {},
   "source": [
    "### We can say that price slowly and gradually going up after a major drop in 2020 due to shutdown"
   ]
  },
  {
   "cell_type": "code",
   "execution_count": 45,
   "metadata": {},
   "outputs": [],
   "source": [
    "### Increase time step\n",
    "\n",
    "time_step = 200\n",
    "X_train, y_train = create_dataset(train, time_step)\n",
    "X_test, y_test = create_dataset(test, time_step)"
   ]
  },
  {
   "cell_type": "code",
   "execution_count": 46,
   "metadata": {},
   "outputs": [
    {
     "data": {
      "text/plain": [
       "((680, 200), (177, 200))"
      ]
     },
     "execution_count": 46,
     "metadata": {},
     "output_type": "execute_result"
    }
   ],
   "source": [
    "X_train.shape, X_test.shape"
   ]
  },
  {
   "cell_type": "code",
   "execution_count": 47,
   "metadata": {},
   "outputs": [],
   "source": [
    "X_train = X_train.reshape(X_train.shape[0], X_train.shape[1], 1)\n",
    "X_test = X_test.reshape(X_test.shape[0], X_test.shape[1], 1)"
   ]
  },
  {
   "cell_type": "code",
   "execution_count": 85,
   "metadata": {},
   "outputs": [],
   "source": [
    "# create stacked LSTM model\n",
    "model2 = Sequential()\n",
    "model2.add(LSTM(100, return_sequences=True, input_shape=(200,1)))\n",
    "model2.add(LSTM(100, return_sequences=True))\n",
    "model2.add(LSTM(50))\n",
    "model2.add(Dense(1))\n",
    "model2.compile(loss=\"mean_squared_error\", optimizer=\"adam\")"
   ]
  },
  {
   "cell_type": "code",
   "execution_count": 86,
   "metadata": {},
   "outputs": [
    {
     "name": "stdout",
     "output_type": "stream",
     "text": [
      "Model: \"sequential_2\"\n",
      "_________________________________________________________________\n",
      "Layer (type)                 Output Shape              Param #   \n",
      "=================================================================\n",
      "lstm_6 (LSTM)                (None, 200, 100)          40800     \n",
      "_________________________________________________________________\n",
      "lstm_7 (LSTM)                (None, 200, 100)          80400     \n",
      "_________________________________________________________________\n",
      "lstm_8 (LSTM)                (None, 50)                30200     \n",
      "_________________________________________________________________\n",
      "dense_2 (Dense)              (None, 1)                 51        \n",
      "=================================================================\n",
      "Total params: 151,451\n",
      "Trainable params: 151,451\n",
      "Non-trainable params: 0\n",
      "_________________________________________________________________\n"
     ]
    }
   ],
   "source": [
    "model2.summary()"
   ]
  },
  {
   "cell_type": "code",
   "execution_count": 87,
   "metadata": {},
   "outputs": [
    {
     "name": "stdout",
     "output_type": "stream",
     "text": [
      "Train on 680 samples, validate on 177 samples\n",
      "Epoch 1/100\n",
      "680/680 [==============================] - 3s 4ms/sample - loss: 0.0082 - val_loss: 0.0634\n",
      "Epoch 2/100\n",
      "680/680 [==============================] - 1s 743us/sample - loss: 0.0015 - val_loss: 0.0485\n",
      "Epoch 3/100\n",
      "680/680 [==============================] - 1s 773us/sample - loss: 9.2070e-04 - val_loss: 0.0355\n",
      "Epoch 4/100\n",
      "680/680 [==============================] - 1s 748us/sample - loss: 5.7587e-04 - val_loss: 0.0343\n",
      "Epoch 5/100\n",
      "680/680 [==============================] - 1s 789us/sample - loss: 4.2094e-04 - val_loss: 0.0344\n",
      "Epoch 6/100\n",
      "680/680 [==============================] - 1s 775us/sample - loss: 4.0026e-04 - val_loss: 0.0332\n",
      "Epoch 7/100\n",
      "680/680 [==============================] - 1s 777us/sample - loss: 3.6882e-04 - val_loss: 0.0316\n",
      "Epoch 8/100\n",
      "680/680 [==============================] - 1s 756us/sample - loss: 3.4973e-04 - val_loss: 0.0309\n",
      "Epoch 9/100\n",
      "680/680 [==============================] - 1s 754us/sample - loss: 3.3679e-04 - val_loss: 0.0303\n",
      "Epoch 10/100\n",
      "680/680 [==============================] - 1s 765us/sample - loss: 3.2706e-04 - val_loss: 0.0293\n",
      "Epoch 11/100\n",
      "680/680 [==============================] - 1s 758us/sample - loss: 3.2420e-04 - val_loss: 0.0286\n",
      "Epoch 12/100\n",
      "680/680 [==============================] - 1s 770us/sample - loss: 3.0681e-04 - val_loss: 0.0277\n",
      "Epoch 13/100\n",
      "680/680 [==============================] - 1s 762us/sample - loss: 2.9224e-04 - val_loss: 0.0268\n",
      "Epoch 14/100\n",
      "680/680 [==============================] - 1s 763us/sample - loss: 2.8742e-04 - val_loss: 0.0259\n",
      "Epoch 15/100\n",
      "680/680 [==============================] - 1s 787us/sample - loss: 2.6969e-04 - val_loss: 0.0252\n",
      "Epoch 16/100\n",
      "680/680 [==============================] - 1s 752us/sample - loss: 3.0035e-04 - val_loss: 0.0245\n",
      "Epoch 17/100\n",
      "680/680 [==============================] - 1s 769us/sample - loss: 2.7879e-04 - val_loss: 0.0240\n",
      "Epoch 18/100\n",
      "680/680 [==============================] - 1s 772us/sample - loss: 2.5433e-04 - val_loss: 0.0234\n",
      "Epoch 19/100\n",
      "680/680 [==============================] - 1s 778us/sample - loss: 2.5860e-04 - val_loss: 0.0229\n",
      "Epoch 20/100\n",
      "680/680 [==============================] - 1s 788us/sample - loss: 2.3624e-04 - val_loss: 0.0225\n",
      "Epoch 21/100\n",
      "680/680 [==============================] - 1s 773us/sample - loss: 2.4752e-04 - val_loss: 0.0222\n",
      "Epoch 22/100\n",
      "680/680 [==============================] - 1s 758us/sample - loss: 2.1777e-04 - val_loss: 0.0220\n",
      "Epoch 23/100\n",
      "680/680 [==============================] - 1s 805us/sample - loss: 2.2588e-04 - val_loss: 0.0228\n",
      "Epoch 24/100\n",
      "680/680 [==============================] - 1s 774us/sample - loss: 2.3491e-04 - val_loss: 0.0215\n",
      "Epoch 25/100\n",
      "680/680 [==============================] - 1s 788us/sample - loss: 2.0451e-04 - val_loss: 0.0223\n",
      "Epoch 26/100\n",
      "680/680 [==============================] - 1s 823us/sample - loss: 2.1302e-04 - val_loss: 0.0213\n",
      "Epoch 27/100\n",
      "680/680 [==============================] - 1s 802us/sample - loss: 2.1107e-04 - val_loss: 0.0207\n",
      "Epoch 28/100\n",
      "680/680 [==============================] - 1s 829us/sample - loss: 2.0397e-04 - val_loss: 0.0211\n",
      "Epoch 29/100\n",
      "680/680 [==============================] - 1s 814us/sample - loss: 2.0978e-04 - val_loss: 0.0209\n",
      "Epoch 30/100\n",
      "680/680 [==============================] - 1s 830us/sample - loss: 2.2678e-04 - val_loss: 0.0238\n",
      "Epoch 31/100\n",
      "680/680 [==============================] - 1s 867us/sample - loss: 2.1996e-04 - val_loss: 0.0187\n",
      "Epoch 32/100\n",
      "680/680 [==============================] - 1s 877us/sample - loss: 2.3691e-04 - val_loss: 0.0204\n",
      "Epoch 33/100\n",
      "680/680 [==============================] - 1s 869us/sample - loss: 1.8849e-04 - val_loss: 0.0191\n",
      "Epoch 34/100\n",
      "680/680 [==============================] - 1s 907us/sample - loss: 2.0199e-04 - val_loss: 0.0215\n",
      "Epoch 35/100\n",
      "680/680 [==============================] - 1s 910us/sample - loss: 2.1194e-04 - val_loss: 0.0213\n",
      "Epoch 36/100\n",
      "680/680 [==============================] - 1s 902us/sample - loss: 2.1241e-04 - val_loss: 0.0186\n",
      "Epoch 37/100\n",
      "680/680 [==============================] - 1s 904us/sample - loss: 2.2502e-04 - val_loss: 0.0219\n",
      "Epoch 38/100\n",
      "680/680 [==============================] - 1s 907us/sample - loss: 2.0237e-04 - val_loss: 0.0195\n",
      "Epoch 39/100\n",
      "680/680 [==============================] - 1s 919us/sample - loss: 1.7737e-04 - val_loss: 0.0206\n",
      "Epoch 40/100\n",
      "680/680 [==============================] - 1s 912us/sample - loss: 1.7882e-04 - val_loss: 0.0201\n",
      "Epoch 41/100\n",
      "680/680 [==============================] - 1s 926us/sample - loss: 1.9487e-04 - val_loss: 0.0206\n",
      "Epoch 42/100\n",
      "680/680 [==============================] - 1s 923us/sample - loss: 1.9278e-04 - val_loss: 0.0198\n",
      "Epoch 43/100\n",
      "680/680 [==============================] - 1s 906us/sample - loss: 2.0027e-04 - val_loss: 0.0183\n",
      "Epoch 44/100\n",
      "680/680 [==============================] - 1s 905us/sample - loss: 1.9001e-04 - val_loss: 0.0208\n",
      "Epoch 45/100\n",
      "680/680 [==============================] - 1s 939us/sample - loss: 1.6954e-04 - val_loss: 0.0192\n",
      "Epoch 46/100\n",
      "680/680 [==============================] - 1s 890us/sample - loss: 1.8541e-04 - val_loss: 0.0190\n",
      "Epoch 47/100\n",
      "680/680 [==============================] - 1s 907us/sample - loss: 1.7767e-04 - val_loss: 0.0206\n",
      "Epoch 48/100\n",
      "680/680 [==============================] - 1s 919us/sample - loss: 1.8533e-04 - val_loss: 0.0198\n",
      "Epoch 49/100\n",
      "680/680 [==============================] - 1s 901us/sample - loss: 1.6283e-04 - val_loss: 0.0205\n",
      "Epoch 50/100\n",
      "680/680 [==============================] - 1s 929us/sample - loss: 1.6839e-04 - val_loss: 0.0199\n",
      "Epoch 51/100\n",
      "680/680 [==============================] - 1s 941us/sample - loss: 1.5734e-04 - val_loss: 0.0206\n",
      "Epoch 52/100\n",
      "680/680 [==============================] - 1s 920us/sample - loss: 1.5570e-04 - val_loss: 0.0207\n",
      "Epoch 53/100\n",
      "680/680 [==============================] - 1s 922us/sample - loss: 1.6737e-04 - val_loss: 0.0188\n",
      "Epoch 54/100\n",
      "680/680 [==============================] - 1s 921us/sample - loss: 1.7539e-04 - val_loss: 0.0182\n",
      "Epoch 55/100\n",
      "680/680 [==============================] - 1s 918us/sample - loss: 1.5250e-04 - val_loss: 0.0187\n",
      "Epoch 56/100\n",
      "680/680 [==============================] - 1s 953us/sample - loss: 1.5954e-04 - val_loss: 0.0184\n",
      "Epoch 57/100\n",
      "680/680 [==============================] - 1s 923us/sample - loss: 1.4885e-04 - val_loss: 0.0200\n",
      "Epoch 58/100\n",
      "680/680 [==============================] - 1s 937us/sample - loss: 1.5150e-04 - val_loss: 0.0182\n",
      "Epoch 59/100\n",
      "680/680 [==============================] - 1s 919us/sample - loss: 1.4748e-04 - val_loss: 0.0188\n",
      "Epoch 60/100\n",
      "680/680 [==============================] - 1s 951us/sample - loss: 1.4814e-04 - val_loss: 0.0199\n",
      "Epoch 61/100\n",
      "680/680 [==============================] - 1s 912us/sample - loss: 1.5928e-04 - val_loss: 0.0193\n",
      "Epoch 62/100\n",
      "680/680 [==============================] - 1s 918us/sample - loss: 1.6280e-04 - val_loss: 0.0174\n",
      "Epoch 63/100\n",
      "680/680 [==============================] - 1s 928us/sample - loss: 1.4310e-04 - val_loss: 0.0185\n",
      "Epoch 64/100\n",
      "680/680 [==============================] - 1s 932us/sample - loss: 1.4332e-04 - val_loss: 0.0178\n",
      "Epoch 65/100\n",
      "680/680 [==============================] - 1s 918us/sample - loss: 1.5340e-04 - val_loss: 0.0184\n",
      "Epoch 66/100\n",
      "680/680 [==============================] - 1s 927us/sample - loss: 1.3991e-04 - val_loss: 0.0189\n",
      "Epoch 67/100\n",
      "680/680 [==============================] - 1s 950us/sample - loss: 1.5284e-04 - val_loss: 0.0202\n",
      "Epoch 68/100\n",
      "680/680 [==============================] - 1s 935us/sample - loss: 1.4108e-04 - val_loss: 0.0176\n",
      "Epoch 69/100\n",
      "680/680 [==============================] - 1s 943us/sample - loss: 1.3494e-04 - val_loss: 0.0187\n",
      "Epoch 70/100\n",
      "680/680 [==============================] - 1s 939us/sample - loss: 1.4256e-04 - val_loss: 0.0165\n",
      "Epoch 71/100\n",
      "680/680 [==============================] - 1s 945us/sample - loss: 1.3751e-04 - val_loss: 0.0193\n",
      "Epoch 72/100\n",
      "680/680 [==============================] - 1s 918us/sample - loss: 1.3265e-04 - val_loss: 0.0173\n",
      "Epoch 73/100\n",
      "680/680 [==============================] - 1s 928us/sample - loss: 1.3198e-04 - val_loss: 0.0195\n",
      "Epoch 74/100\n",
      "680/680 [==============================] - 1s 936us/sample - loss: 1.3299e-04 - val_loss: 0.0160\n",
      "Epoch 75/100\n",
      "680/680 [==============================] - 1s 932us/sample - loss: 1.2501e-04 - val_loss: 0.0179\n",
      "Epoch 76/100\n",
      "680/680 [==============================] - 1s 940us/sample - loss: 1.2879e-04 - val_loss: 0.0155\n",
      "Epoch 77/100\n",
      "680/680 [==============================] - 1s 926us/sample - loss: 1.2163e-04 - val_loss: 0.0173\n",
      "Epoch 78/100\n",
      "680/680 [==============================] - 1s 929us/sample - loss: 1.2325e-04 - val_loss: 0.0155\n",
      "Epoch 79/100\n",
      "680/680 [==============================] - 1s 924us/sample - loss: 1.2360e-04 - val_loss: 0.0163\n",
      "Epoch 80/100\n",
      "680/680 [==============================] - 1s 899us/sample - loss: 1.2474e-04 - val_loss: 0.0141\n",
      "Epoch 81/100\n",
      "680/680 [==============================] - 1s 933us/sample - loss: 1.2304e-04 - val_loss: 0.0155\n",
      "Epoch 82/100\n",
      "680/680 [==============================] - 1s 908us/sample - loss: 1.1772e-04 - val_loss: 0.0153\n",
      "Epoch 83/100\n",
      "680/680 [==============================] - 1s 964us/sample - loss: 1.1786e-04 - val_loss: 0.0153\n",
      "Epoch 84/100\n",
      "680/680 [==============================] - 1s 928us/sample - loss: 1.1984e-04 - val_loss: 0.0174\n",
      "Epoch 85/100\n",
      "680/680 [==============================] - 1s 925us/sample - loss: 1.2678e-04 - val_loss: 0.0136\n",
      "Epoch 86/100\n",
      "680/680 [==============================] - 1s 949us/sample - loss: 1.1618e-04 - val_loss: 0.0145\n",
      "Epoch 87/100\n",
      "680/680 [==============================] - 1s 927us/sample - loss: 1.1071e-04 - val_loss: 0.0153\n",
      "Epoch 88/100\n",
      "680/680 [==============================] - 1s 933us/sample - loss: 1.2073e-04 - val_loss: 0.0140\n",
      "Epoch 89/100\n",
      "680/680 [==============================] - 1s 927us/sample - loss: 1.1399e-04 - val_loss: 0.0122\n",
      "Epoch 90/100\n",
      "680/680 [==============================] - 1s 936us/sample - loss: 1.4176e-04 - val_loss: 0.0136\n",
      "Epoch 91/100\n",
      "680/680 [==============================] - 1s 923us/sample - loss: 1.4347e-04 - val_loss: 0.0137\n",
      "Epoch 92/100\n",
      "680/680 [==============================] - 1s 981us/sample - loss: 1.1702e-04 - val_loss: 0.0166\n",
      "Epoch 93/100\n",
      "680/680 [==============================] - 1s 944us/sample - loss: 1.2605e-04 - val_loss: 0.0137\n",
      "Epoch 94/100\n",
      "680/680 [==============================] - 1s 946us/sample - loss: 1.2590e-04 - val_loss: 0.0140\n",
      "Epoch 95/100\n",
      "680/680 [==============================] - 1s 1ms/sample - loss: 1.2445e-04 - val_loss: 0.0133\n",
      "Epoch 96/100\n",
      "680/680 [==============================] - 1s 1ms/sample - loss: 1.3443e-04 - val_loss: 0.0136\n",
      "Epoch 97/100\n",
      "680/680 [==============================] - 1s 1ms/sample - loss: 1.0519e-04 - val_loss: 0.0135\n",
      "Epoch 98/100\n",
      "680/680 [==============================] - 1s 1ms/sample - loss: 1.0555e-04 - val_loss: 0.0140\n",
      "Epoch 99/100\n",
      "680/680 [==============================] - 1s 992us/sample - loss: 1.0460e-04 - val_loss: 0.0124\n",
      "Epoch 100/100\n",
      "680/680 [==============================] - 1s 1ms/sample - loss: 1.0192e-04 - val_loss: 0.0143\n"
     ]
    },
    {
     "data": {
      "text/plain": [
       "<tensorflow.python.keras.callbacks.History at 0x2617888e948>"
      ]
     },
     "execution_count": 87,
     "metadata": {},
     "output_type": "execute_result"
    }
   ],
   "source": [
    "model2.fit(X_train, y_train, validation_data=(X_test, y_test), epochs=100, batch_size=64, verbose=1)"
   ]
  },
  {
   "cell_type": "code",
   "execution_count": null,
   "metadata": {},
   "outputs": [],
   "source": []
  },
  {
   "cell_type": "code",
   "execution_count": 88,
   "metadata": {},
   "outputs": [],
   "source": [
    "# Let's do the predict train and test\n",
    "train_predict = model2.predict(X_train)\n",
    "test_predict = model2.predict(X_test)"
   ]
  },
  {
   "cell_type": "code",
   "execution_count": 89,
   "metadata": {},
   "outputs": [],
   "source": [
    "# transform back the data to it's original form\n",
    "train_predict = scaler.inverse_transform(train_predict)\n",
    "test_predict = scaler.inverse_transform(test_predict)"
   ]
  },
  {
   "cell_type": "code",
   "execution_count": 90,
   "metadata": {},
   "outputs": [
    {
     "data": {
      "text/plain": [
       "171.11732500388544"
      ]
     },
     "execution_count": 90,
     "metadata": {},
     "output_type": "execute_result"
    }
   ],
   "source": [
    "# Calculate RMSE performance metrics\n",
    "from sklearn.metrics import mean_squared_error\n",
    "np.sqrt(mean_squared_error(y_train, train_predict))"
   ]
  },
  {
   "cell_type": "code",
   "execution_count": 91,
   "metadata": {},
   "outputs": [
    {
     "data": {
      "text/plain": [
       "249.19731656544323"
      ]
     },
     "execution_count": 91,
     "metadata": {},
     "output_type": "execute_result"
    }
   ],
   "source": [
    "# Test data RMSE\n",
    "np.sqrt(mean_squared_error(y_test, test_predict))"
   ]
  },
  {
   "cell_type": "code",
   "execution_count": 92,
   "metadata": {},
   "outputs": [
    {
     "data": {
      "image/png": "[encoded data removed]",
      "text/plain": [
       "<Figure size 1440x720 with 1 Axes>"
      ]
     },
     "metadata": {
      "needs_background": "light"
     },
     "output_type": "display_data"
    }
   ],
   "source": [
    "# shift train prediction for ploting\n",
    "trainPredictPlot = np.empty_like(df)\n",
    "trainPredictPlot[:,:] = np.nan\n",
    "trainPredictPlot[200:len(train_predict)+200, :] = train_predict\n",
    "\n",
    "# shift test prediction for plotting\n",
    "testPredictPlot = np.empty_like(df)\n",
    "testPredictPlot[:,:] = np.nan\n",
    "testPredictPlot[len(train_predict)+(200*2)+1:len(df)-1, :] = test_predict\n",
    "\n",
    "# plot baseline and predictions\n",
    "plt.figure(figsize=(20,10))\n",
    "plt.plot(scaler.inverse_transform(df))\n",
    "plt.plot(trainPredictPlot)\n",
    "plt.plot(testPredictPlot)\n",
    "plt.show()"
   ]
  },
  {
   "cell_type": "markdown",
   "metadata": {},
   "source": [
    "### Predict future 100 days"
   ]
  },
  {
   "cell_type": "code",
   "execution_count": 62,
   "metadata": {},
   "outputs": [
    {
     "data": {
      "text/plain": [
       "378"
      ]
     },
     "execution_count": 62,
     "metadata": {},
     "output_type": "execute_result"
    }
   ],
   "source": [
    "len(test)"
   ]
  },
  {
   "cell_type": "code",
   "execution_count": 93,
   "metadata": {},
   "outputs": [],
   "source": [
    "# take last 200 days from test data\n",
    "x_input = test[178:].reshape(1,-1)"
   ]
  },
  {
   "cell_type": "code",
   "execution_count": 94,
   "metadata": {},
   "outputs": [
    {
     "data": {
      "text/plain": [
       "(1, 200)"
      ]
     },
     "execution_count": 94,
     "metadata": {},
     "output_type": "execute_result"
    }
   ],
   "source": [
    "x_input.shape"
   ]
  },
  {
   "cell_type": "code",
   "execution_count": 95,
   "metadata": {},
   "outputs": [
    {
     "data": {
      "text/plain": [
       "array([[0.40432952, 0.3785929 , 0.39559832, 0.39434756, 0.36216476,\n",
       "        0.37183403, 0.36336741, 0.41402285, 0.40671076, 0.4226819 ,\n",
       "        0.42730006, 0.43995189, 0.47314492, 0.46684305, 0.47227901,\n",
       "        0.46292243, 0.44880337, 0.42821407, 0.44680698, 0.44423331,\n",
       "        0.46333133, 0.46381239, 0.4527721 , 0.47478052, 0.48938064,\n",
       "        0.47800361, 0.48784125, 0.49842453, 0.50580878, 0.51328924,\n",
       "        0.52865905, 0.54039687, 0.53173782, 0.52269393, 0.52723993,\n",
       "        0.52283824, 0.54027661, 0.53589898, 0.5505472 , 0.54482261,\n",
       "        0.5497294 , 0.54453397, 0.54785328, 0.54819002, 0.54744438,\n",
       "        0.55684907, 0.56043295, 0.56471437, 0.55797956, 0.58006013,\n",
       "        0.5847745 , 0.61010222, 0.63138906, 0.59064342, 0.59761876,\n",
       "        0.60769693, 0.62956103, 0.62838244, 0.62871918, 0.62388455,\n",
       "        0.64589296, 0.6643175 , 0.64875526, 0.66025256, 0.63328924,\n",
       "        0.65289236, 0.66015634, 0.65849669, 0.65849669, 0.68192423,\n",
       "        0.6791341 , 0.70001203, 0.7039567 , 0.70556825, 0.70131088,\n",
       "        0.71651233, 0.72293446, 0.711365  , 0.70948888, 0.72901984,\n",
       "        0.71595911, 0.71858088, 0.67598316, 0.67377029, 0.69488876,\n",
       "        0.67990379, 0.69710162, 0.70816597, 0.80505111, 0.83081179,\n",
       "        0.83781118, 0.8416356 , 0.87858088, 0.85173782, 0.86727601,\n",
       "        0.83502105, 0.86999399, 0.88923632, 0.88825015, 0.8853638 ,\n",
       "        0.89455201, 0.89594708, 0.92064943, 0.97929044, 0.99360192,\n",
       "        0.98366807, 1.        , 0.98544799, 0.9834997 , 0.09308479,\n",
       "        0.10544799, 0.09876127, 0.07345761, 0.07365003, 0.05407096,\n",
       "        0.06489477, 0.0556825 , 0.05209862, 0.06016837, 0.06061335,\n",
       "        0.0524113 , 0.04810583, 0.03968731, 0.04748046, 0.05164161,\n",
       "        0.04036079, 0.04300661, 0.0527721 , 0.05921828, 0.05712568,\n",
       "        0.06126278, 0.06361996, 0.05455201, 0.06292243, 0.05488876,\n",
       "        0.05950692, 0.05924233, 0.06405292, 0.08192423, 0.07398677,\n",
       "        0.07420325, 0.07304871, 0.06898376, 0.06167168, 0.06535177,\n",
       "        0.06381239, 0.06111846, 0.0594107 , 0.05943476, 0.06316296,\n",
       "        0.05017438, 0.06008419, 0.044546  , 0.04432952, 0.04834636,\n",
       "        0.05919423, 0.06900782, 0.06819002, 0.06248948, 0.06164762,\n",
       "        0.07011425, 0.06944077, 0.06956103, 0.07206254, 0.06987372,\n",
       "        0.06660253, 0.06806975, 0.06494287, 0.05654841, 0.05972339,\n",
       "        0.06179194, 0.06313891, 0.06905592, 0.07788334, 0.07874925,\n",
       "        0.07841251, 0.07675286, 0.08036079, 0.08187613, 0.07562237,\n",
       "        0.0791341 , 0.0771377 , 0.07562237, 0.09029465, 0.09012628,\n",
       "        0.09226699, 0.08734817, 0.0911365 , 0.09991581, 0.09770295,\n",
       "        0.10013229, 0.11148527, 0.10710764, 0.10434155, 0.1018641 ,\n",
       "        0.09397474, 0.09782321, 0.08721587, 0.09760673, 0.10032471]])"
      ]
     },
     "execution_count": 95,
     "metadata": {},
     "output_type": "execute_result"
    }
   ],
   "source": [
    "x_input"
   ]
  },
  {
   "cell_type": "code",
   "execution_count": 96,
   "metadata": {},
   "outputs": [],
   "source": [
    "temp_input = list(x_input)\n",
    "temp_input = temp_input[0].tolist()"
   ]
  },
  {
   "cell_type": "code",
   "execution_count": 97,
   "metadata": {},
   "outputs": [],
   "source": [
    "# prediction for the next 100 days\n",
    "\n",
    "lst_output=[]\n",
    "n_steps=200\n",
    "i=0\n",
    "while(i<100):\n",
    "    \n",
    "    if(len(temp_input)>200):\n",
    "        #print(temp_input)\n",
    "        x_input=np.array(temp_input[1:])\n",
    "#         print(\"{} day input {}\".format(i,x_input))\n",
    "        x_input=x_input.reshape(1,-1)\n",
    "        x_input = x_input.reshape((1, n_steps, 1))\n",
    "        #print(x_input)\n",
    "        yhat = model2.predict(x_input, verbose=0)\n",
    "#         print(\"{} day output {}\".format(i,yhat))\n",
    "        temp_input.extend(yhat[0].tolist())\n",
    "        temp_input=temp_input[1:]\n",
    "        #print(temp_input)\n",
    "        lst_output.extend(yhat.tolist())\n",
    "        i=i+1\n",
    "    else:\n",
    "        x_input = x_input.reshape((1, n_steps,1))\n",
    "        yhat = model2.predict(x_input, verbose=0)\n",
    "#         print(yhat[0])\n",
    "        temp_input.extend(yhat[0].tolist())\n",
    "#         print(len(temp_input))\n",
    "        lst_output.extend(yhat.tolist())\n",
    "        i=i+1"
   ]
  },
  {
   "cell_type": "code",
   "execution_count": 98,
   "metadata": {},
   "outputs": [],
   "source": [
    "day_new=np.arange(1,201)\n",
    "day_pred=np.arange(201,301)"
   ]
  },
  {
   "cell_type": "code",
   "execution_count": 99,
   "metadata": {},
   "outputs": [
    {
     "data": {
      "text/plain": [
       "1259"
      ]
     },
     "execution_count": 99,
     "metadata": {},
     "output_type": "execute_result"
    }
   ],
   "source": [
    "len(df)"
   ]
  },
  {
   "cell_type": "code",
   "execution_count": 100,
   "metadata": {},
   "outputs": [
    {
     "data": {
      "text/plain": [
       "[<matplotlib.lines.Line2D at 0x261785afa08>]"
      ]
     },
     "execution_count": 100,
     "metadata": {},
     "output_type": "execute_result"
    },
    {
     "data": {
      "image/png": "[encoded data removed]",
      "text/plain": [
       "<Figure size 1080x576 with 1 Axes>"
      ]
     },
     "metadata": {
      "needs_background": "light"
     },
     "output_type": "display_data"
    }
   ],
   "source": [
    "plt.figure(figsize=(15,8))\n",
    "plt.plot(day_new,scaler.inverse_transform(df[1059:]))\n",
    "plt.plot(day_pred,scaler.inverse_transform(lst_output))"
   ]
  },
  {
   "cell_type": "code",
   "execution_count": 103,
   "metadata": {},
   "outputs": [
    {
     "data": {
      "text/plain": [
       "[<matplotlib.lines.Line2D at 0x26191964bc8>]"
      ]
     },
     "execution_count": 103,
     "metadata": {},
     "output_type": "execute_result"
    },
    {
     "data": {
      "image/png": "[encoded data removed]",
      "text/plain": [
       "<Figure size 1080x576 with 1 Axes>"
      ]
     },
     "metadata": {
      "needs_background": "light"
     },
     "output_type": "display_data"
    }
   ],
   "source": [
    "df3=df.tolist()\n",
    "df3.extend(lst_output)\n",
    "plt.figure(figsize=(15,8))\n",
    "plt.plot(df3[1150:])"
   ]
  },
  {
   "cell_type": "code",
   "execution_count": null,
   "metadata": {},
   "outputs": [],
   "source": []
  }
 ],
 "metadata": {
  "kernelspec": {
   "display_name": "Python 3",
   "language": "python",
   "name": "python3"
  },
  "language_info": {
   "codemirror_mode": {
    "name": "ipython",
    "version": 3
   },
   "file_extension": ".py",
   "mimetype": "text/x-python",
   "name": "python",
   "nbconvert_exporter": "python",
   "pygments_lexer": "ipython3",
   "version": "3.7.6"
  }
 },
 "nbformat": 4,
 "nbformat_minor": 4
}
